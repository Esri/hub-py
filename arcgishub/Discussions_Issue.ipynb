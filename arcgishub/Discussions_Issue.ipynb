{
 "cells": [
  {
   "cell_type": "code",
   "execution_count": 10,
   "id": "c54ef0f8",
   "metadata": {},
   "outputs": [],
   "source": [
    "from arcgishub import hub\n",
    "from arcgishub.discussions import Channel, Post, ChannelManager, PostManager\n",
    "import unittest\n",
    "import arcgis\n",
    "from arcgis import gis\n",
    "import json"
   ]
  },
  {
   "cell_type": "markdown",
   "id": "2d143473",
   "metadata": {},
   "source": [
    "### Connect To Hub\n",
    "This block will set up and connected to Hub"
   ]
  },
  {
   "cell_type": "code",
   "execution_count": 2,
   "id": "13ec8505",
   "metadata": {},
   "outputs": [],
   "source": [
    "my_hub = hub.Hub(\"https://qa-bas-hub.mapsqa.arcgis.com\", \"qa_bas_hub_admin\", \"CrQV78Cb@a6-e8Q3\") "
   ]
  },
  {
   "cell_type": "markdown",
   "id": "4b40ed8d",
   "metadata": {},
   "source": [
    "### What Works within the API\n",
    "post search() and get()"
   ]
  },
  {
   "cell_type": "code",
   "execution_count": 3,
   "id": "2d3b0776",
   "metadata": {},
   "outputs": [
    {
     "name": "stdout",
     "output_type": "stream",
     "text": [
      "_hub_environment: https://qa-bas-hub.mapsqa.arcgis.com\n"
     ]
    },
    {
     "data": {
      "text/plain": [
       "[<title:\"Hello world\" creator:rweber_5_qa_pre_a_hub created:2021-09-30T19:55:26.160Z>,\n",
       " <title:\"None\" creator:rweber_5_qa_pre_a_hub created:2021-10-03T01:48:24.454Z>,\n",
       " <title:\"another discussion\" creator:rweber_5_qa_pre_a_hub created:2021-10-08T19:07:45.480Z>,\n",
       " <title:\"First!\" creator:rweber_5_qa_pre_a_hub created:2021-12-03T02:25:42.422Z>,\n",
       " <title:\"None\" creator:rweber_5_qa_pre_a_hub created:2021-12-03T02:25:58.520Z>,\n",
       " <title:\"None\" creator:rweber_5_qa_pre_a_hub created:2021-12-03T02:26:05.573Z>,\n",
       " <title:\"None\" creator:rweber_5_qa_pre_a_hub created:2021-12-03T02:26:12.249Z>,\n",
       " <title:\"None\" creator:rweber_5_qa_pre_a_hub created:2021-12-03T02:26:16.404Z>,\n",
       " <title:\"None\" creator:rweber_5_qa_pre_a_hub created:2021-12-03T02:26:21.310Z>,\n",
       " <title:\"None\" creator:rweber_5_qa_pre_a_hub created:2021-12-03T02:26:28.636Z>]"
      ]
     },
     "execution_count": 3,
     "metadata": {},
     "output_type": "execute_result"
    }
   ],
   "source": [
    "all_posts = my_hub.discussions.posts.search()\n",
    "all_posts"
   ]
  },
  {
   "cell_type": "code",
   "execution_count": 18,
   "id": "d05e1a5b",
   "metadata": {},
   "outputs": [
    {
     "name": "stdout",
     "output_type": "stream",
     "text": [
      "_hub_environment: https://qa-bas-hub.mapsqa.arcgis.com\n"
     ]
    },
    {
     "data": {
      "text/plain": [
       "<title:\"Hello world\" creator:rweber_5_qa_pre_a_hub created:2021-09-30T19:55:26.160Z>"
      ]
     },
     "execution_count": 18,
     "metadata": {},
     "output_type": "execute_result"
    }
   ],
   "source": [
    "retrieved_post = my_hub.discussions.posts.get(all_posts[0].id)\n",
    "retrieved_post"
   ]
  },
  {
   "cell_type": "markdown",
   "id": "bb1cbb84",
   "metadata": {},
   "source": [
    "### Issues\n",
    "There is an issue with creating the headers within the discussions.py functions for these functions:\n",
    " - Channels create, update, search, delete, get, etc\n",
    " - Posts create, probably update, add_reaction(), and delete_reaction()\n",
    "\n",
    " I can hit these urls if I manually build the header, but I'm not sure why using the funtion calls it fails to build the header. I have included an example below. (easiest to show with search because you can't make duplicate channels)"
   ]
  },
  {
   "cell_type": "code",
   "execution_count": 23,
   "id": "8f5ef99d",
   "metadata": {},
   "outputs": [
    {
     "name": "stdout",
     "output_type": "stream",
     "text": [
      "_hub_environment: https://qa-bas-hub.mapsqa.arcgis.com\n"
     ]
    },
    {
     "ename": "TypeError",
     "evalue": "can only concatenate str (not \"NoneType\") to str",
     "output_type": "error",
     "traceback": [
      "\u001b[0;31m---------------------------------------------------------------------------\u001b[0m",
      "\u001b[0;31mTypeError\u001b[0m                                 Traceback (most recent call last)",
      "Cell \u001b[0;32mIn[23], line 1\u001b[0m\n\u001b[0;32m----> 1\u001b[0m all_channels \u001b[39m=\u001b[39m hub\u001b[39m.\u001b[39;49mdiscussions\u001b[39m.\u001b[39;49mchannels\u001b[39m.\u001b[39;49msearch()\n\u001b[1;32m      2\u001b[0m \u001b[39mvars\u001b[39m(all_channels)\n",
      "File \u001b[0;32m~/Desktop/Repos/hub-py/.venv/src/arcgishub/arcgishub/discussions.py:639\u001b[0m, in \u001b[0;36mChannelManager.search\u001b[0;34m(self, max_channels)\u001b[0m\n\u001b[1;32m    637\u001b[0m channels \u001b[39m=\u001b[39m []\n\u001b[1;32m    638\u001b[0m \u001b[39mfor\u001b[39;00m channel_properties \u001b[39min\u001b[39;00m parsed_channels:\n\u001b[0;32m--> 639\u001b[0m     channels\u001b[39m.\u001b[39mappend(Channel(\u001b[39mself\u001b[39;49m\u001b[39m.\u001b[39;49m_hub, channel_properties))\n\u001b[1;32m    641\u001b[0m \u001b[39mreturn\u001b[39;00m channels\n",
      "File \u001b[0;32m~/Desktop/Repos/hub-py/.venv/src/arcgishub/arcgishub/discussions.py:414\u001b[0m, in \u001b[0;36mChannel.__init__\u001b[0;34m(self, hub, channelProperties)\u001b[0m\n\u001b[1;32m    409\u001b[0m \u001b[39mself\u001b[39m\u001b[39m.\u001b[39m_gis \u001b[39m=\u001b[39m \u001b[39mself\u001b[39m\u001b[39m.\u001b[39m_hub\u001b[39m.\u001b[39mgis\n\u001b[1;32m    411\u001b[0m \u001b[39m# used throughout all requests\u001b[39;00m\n\u001b[1;32m    412\u001b[0m \u001b[39mself\u001b[39m\u001b[39m.\u001b[39mheader \u001b[39m=\u001b[39m {\n\u001b[1;32m    413\u001b[0m     \u001b[39m'\u001b[39m\u001b[39mContent-Type\u001b[39m\u001b[39m'\u001b[39m: \u001b[39m'\u001b[39m\u001b[39mapplication/json\u001b[39m\u001b[39m'\u001b[39m,\n\u001b[0;32m--> 414\u001b[0m     \u001b[39m'\u001b[39m\u001b[39mAuthorization\u001b[39m\u001b[39m'\u001b[39m: \u001b[39m'\u001b[39;49m\u001b[39mBearer \u001b[39;49m\u001b[39m'\u001b[39;49m \u001b[39m+\u001b[39;49m \u001b[39mself\u001b[39;49m\u001b[39m.\u001b[39;49m_gis\u001b[39m.\u001b[39;49m_con\u001b[39m.\u001b[39;49m_token,\n\u001b[1;32m    415\u001b[0m     \u001b[39m'\u001b[39m\u001b[39mReferer\u001b[39m\u001b[39m'\u001b[39m: \u001b[39mself\u001b[39m\u001b[39m.\u001b[39m_gis\u001b[39m.\u001b[39m_con\u001b[39m.\u001b[39m_referer\n\u001b[1;32m    416\u001b[0m }\n",
      "\u001b[0;31mTypeError\u001b[0m: can only concatenate str (not \"NoneType\") to str"
     ]
    }
   ],
   "source": [
    "#uses the api, seems as if it should work like posts\n",
    "all_channels = hub.discussions.channels.search()\n",
    "vars(all_channels)"
   ]
  },
  {
   "cell_type": "code",
   "execution_count": 28,
   "id": "b9d3bc5c",
   "metadata": {},
   "outputs": [
    {
     "data": {
      "text/plain": [
       "[{'groups': ['0008a64a72654f6487f67efd9d66711d'],\n",
       "  'id': '0008a64a-7265-4f64-87f6-7efd9d66711d',\n",
       "  'access': 'public',\n",
       "  'allowAnonymous': True,\n",
       "  'allowedReactions': None,\n",
       "  'allowReaction': True,\n",
       "  'allowReply': True,\n",
       "  'blockWords': ['Governor', 'Politician', 'President', 'fig trees'],\n",
       "  'createdAt': '2021-09-30T19:55:26.160Z',\n",
       "  'creator': 'juliana_pa',\n",
       "  'defaultPostStatus': 'approved',\n",
       "  'editor': 'juliana_pa',\n",
       "  'metadata': None,\n",
       "  'name': 'Unnamed channel',\n",
       "  'orgs': ['Xj56SBi2udA78cC9'],\n",
       "  'softDelete': True,\n",
       "  'updatedAt': '2023-12-08T18:52:12.972Z'},\n",
       " {'groups': ['08e7a44370674f1189555b3f49e56ad9'],\n",
       "  'id': '83d2b292-91e2-49bf-909d-2c0466d9d55f',\n",
       "  'access': 'public',\n",
       "  'allowAnonymous': False,\n",
       "  'allowedReactions': None,\n",
       "  'allowReaction': True,\n",
       "  'allowReply': True,\n",
       "  'blockWords': ['bae'],\n",
       "  'createdAt': '2022-12-02T15:37:53.141Z',\n",
       "  'creator': 'qa_pre_a_hub_admin',\n",
       "  'defaultPostStatus': 'approved',\n",
       "  'editor': 'juliana_pa',\n",
       "  'metadata': None,\n",
       "  'name': 'DC locals',\n",
       "  'orgs': ['Xj56SBi2udA78cC9'],\n",
       "  'softDelete': True,\n",
       "  'updatedAt': '2023-11-30T14:41:04.344Z'},\n",
       " {'groups': ['016a1c3c74884a8e9b40c95c78dafa11'],\n",
       "  'id': 'c6625271-314a-4e98-b42b-41caeb49165d',\n",
       "  'access': 'public',\n",
       "  'allowAnonymous': False,\n",
       "  'allowedReactions': None,\n",
       "  'allowReaction': True,\n",
       "  'allowReply': True,\n",
       "  'blockWords': [],\n",
       "  'createdAt': '2023-08-15T03:27:36.788Z',\n",
       "  'creator': 'rweber_5_qa_pre_a_hub',\n",
       "  'defaultPostStatus': 'approved',\n",
       "  'editor': 'rweber_5_qa_pre_a_hub',\n",
       "  'metadata': None,\n",
       "  'name': 'Unnamed channel',\n",
       "  'orgs': ['Xj56SBi2udA78cC9'],\n",
       "  'softDelete': True,\n",
       "  'updatedAt': '2023-12-05T21:05:17.863Z'},\n",
       " {'groups': ['dfabad0571114c3e905190798ae84326'],\n",
       "  'id': 'd0ad0ebe-881b-4d7b-82ad-01b01abfbce4',\n",
       "  'access': 'public',\n",
       "  'allowAnonymous': True,\n",
       "  'allowedReactions': None,\n",
       "  'allowReaction': True,\n",
       "  'allowReply': True,\n",
       "  'blockWords': ['Governor', 'Politician', 'President', 'Frodo'],\n",
       "  'createdAt': '2023-08-15T16:28:39.102Z',\n",
       "  'creator': 'rweber_5_qa_pre_a_hub',\n",
       "  'defaultPostStatus': 'approved',\n",
       "  'editor': 'qa_pre_a_hub_admin',\n",
       "  'metadata': None,\n",
       "  'name': 'Randy, public, view:members, list:admins',\n",
       "  'orgs': ['Xj56SBi2udA78cC9'],\n",
       "  'softDelete': True,\n",
       "  'updatedAt': '2023-11-27T21:20:34.849Z'},\n",
       " {'groups': ['e1f453209c044889819156be293ef326',\n",
       "   'c6a05bafa1e84c30af4db7c6ebf70abb'],\n",
       "  'id': 'd4ea80e8-34fe-4a49-97bd-9ec5fc4a06db',\n",
       "  'access': 'public',\n",
       "  'allowAnonymous': False,\n",
       "  'allowedReactions': None,\n",
       "  'allowReaction': True,\n",
       "  'allowReply': True,\n",
       "  'blockWords': ['Stupid', 'apples', 'sour'],\n",
       "  'createdAt': '2023-08-30T18:43:58.803Z',\n",
       "  'creator': 'paige_pa',\n",
       "  'defaultPostStatus': 'approved',\n",
       "  'editor': 'paige_pa',\n",
       "  'metadata': None,\n",
       "  'name': 'QA Premium Alpha Hub Public (with groups) Channel',\n",
       "  'orgs': ['Xj56SBi2udA78cC9'],\n",
       "  'softDelete': True,\n",
       "  'updatedAt': '2023-11-09T18:05:20.471Z'},\n",
       " {'groups': ['9d6ac5a374f1437f999ed877f79392e2'],\n",
       "  'id': 'a977edd3-131a-4406-8ecb-b204aea26866',\n",
       "  'access': 'public',\n",
       "  'allowAnonymous': False,\n",
       "  'allowedReactions': None,\n",
       "  'allowReaction': True,\n",
       "  'allowReply': True,\n",
       "  'blockWords': [],\n",
       "  'createdAt': '2023-09-13T18:18:06.327Z',\n",
       "  'creator': 'paige_pa',\n",
       "  'defaultPostStatus': 'approved',\n",
       "  'editor': 'paige_pa',\n",
       "  'metadata': None,\n",
       "  'name': 'Unnamed channel',\n",
       "  'orgs': ['Xj56SBi2udA78cC9'],\n",
       "  'softDelete': True,\n",
       "  'updatedAt': '2023-10-20T12:38:23.536Z'},\n",
       " {'groups': ['b27f2d3adb72499cb24df88b3d1d36d4'],\n",
       "  'id': '2cba8880-7132-44c0-8dfc-87a0224638e9',\n",
       "  'access': 'public',\n",
       "  'allowAnonymous': True,\n",
       "  'allowedReactions': None,\n",
       "  'allowReaction': True,\n",
       "  'allowReply': True,\n",
       "  'blockWords': [],\n",
       "  'createdAt': '2023-11-09T20:17:19.908Z',\n",
       "  'creator': 'qa_pre_a_hub_c_admin',\n",
       "  'defaultPostStatus': 'approved',\n",
       "  'editor': 'rweber_5_qa_pre_a_hub',\n",
       "  'metadata': None,\n",
       "  'name': 'Discussion channel',\n",
       "  'orgs': ['Xj56SBi2udA78cC9'],\n",
       "  'softDelete': True,\n",
       "  'updatedAt': '2023-11-13T20:39:33.901Z'},\n",
       " {'groups': ['49414183a6534888996a2053953d386d'],\n",
       "  'id': '1f201cd3-bc3c-4f5b-bdba-3586ec404100',\n",
       "  'access': 'public',\n",
       "  'allowAnonymous': True,\n",
       "  'allowedReactions': None,\n",
       "  'allowReaction': True,\n",
       "  'allowReply': True,\n",
       "  'blockWords': None,\n",
       "  'createdAt': '2023-11-15T16:17:57.479Z',\n",
       "  'creator': 'rweber_5_qa_pre_a_hub',\n",
       "  'defaultPostStatus': 'approved',\n",
       "  'editor': 'rweber_5_qa_pre_a_hub',\n",
       "  'metadata': None,\n",
       "  'name': 'A public channel for Randys that supports anonymous posting',\n",
       "  'orgs': ['Xj56SBi2udA78cC9'],\n",
       "  'softDelete': True,\n",
       "  'updatedAt': '2023-11-15T16:17:57.479Z'},\n",
       " {'groups': ['ac8bc8c1d1444f22b7281e7268fc0c80',\n",
       "   '08e7a44370674f1189555b3f49e56ad9'],\n",
       "  'id': 'df1b47d2-9f04-4947-9b90-04e78813561f',\n",
       "  'access': 'public',\n",
       "  'allowAnonymous': False,\n",
       "  'allowedReactions': None,\n",
       "  'allowReaction': True,\n",
       "  'allowReply': True,\n",
       "  'blockWords': ['politicians'],\n",
       "  'createdAt': '2023-11-27T18:28:12.805Z',\n",
       "  'creator': 'qa_pre_a_hub_admin',\n",
       "  'defaultPostStatus': 'approved',\n",
       "  'editor': 'qa_pre_a_hub_admin',\n",
       "  'metadata': None,\n",
       "  'name': 'NY intersections public channel',\n",
       "  'orgs': ['Xj56SBi2udA78cC9'],\n",
       "  'softDelete': True,\n",
       "  'updatedAt': '2023-11-27T18:50:43.128Z'},\n",
       " {'groups': ['6b0cb859d495459aacb54afad499ce30',\n",
       "   '0bc972387c954f41bfce0975c550cbea'],\n",
       "  'id': 'ab3f2c74-f986-4ad2-8594-e500c4e62aee',\n",
       "  'access': 'public',\n",
       "  'allowAnonymous': False,\n",
       "  'allowedReactions': None,\n",
       "  'allowReaction': True,\n",
       "  'allowReply': True,\n",
       "  'blockWords': [],\n",
       "  'createdAt': '2023-11-28T13:51:33.400Z',\n",
       "  'creator': 'juliana_pa',\n",
       "  'defaultPostStatus': 'approved',\n",
       "  'editor': 'juliana_pa',\n",
       "  'metadata': None,\n",
       "  'name': 'Juliana public channel',\n",
       "  'orgs': ['Xj56SBi2udA78cC9'],\n",
       "  'softDelete': True,\n",
       "  'updatedAt': '2023-11-28T13:51:33.400Z'}]"
      ]
     },
     "execution_count": 28,
     "metadata": {},
     "output_type": "execute_result"
    }
   ],
   "source": [
    "import requests\n",
    "\n",
    "header = {\n",
    "            'Content-Type': 'application/json',\n",
    "            'Authorization': 'Bearer ' + my_hub.gis._con.token,\n",
    "            'Referer': my_hub.gis._con._referer\n",
    "        }\n",
    "\n",
    "res = requests.get(f\"https://hubqa.arcgis.com/api/discussions/v1/channels\", headers=header)\n",
    "res.json()['items']"
   ]
  }
 ],
 "metadata": {
  "kernelspec": {
   "display_name": "Python 3 (ipykernel)",
   "language": "python",
   "name": "python3"
  },
  "language_info": {
   "codemirror_mode": {
    "name": "ipython",
    "version": 3
   },
   "file_extension": ".py",
   "mimetype": "text/x-python",
   "name": "python",
   "nbconvert_exporter": "python",
   "pygments_lexer": "ipython3",
   "version": "3.9.6"
  }
 },
 "nbformat": 4,
 "nbformat_minor": 5
}
