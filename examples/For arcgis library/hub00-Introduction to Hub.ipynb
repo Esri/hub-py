{
 "cells": [
  {
   "cell_type": "markdown",
   "metadata": {},
   "source": [
    "## Introduction to Hub"
   ]
  },
  {
   "cell_type": "markdown",
   "metadata": {},
   "source": [
    "ArcGIS Hub is a platform for civic engagement and collaboration.\n",
    "\n",
    "Organizations can engage with communities of interest to accomplish goal-oriented initiatives. The Hub is based on and extends your enterprise geographic information system, adding capabilities for events, collaboration, and experiences to support productive, data-driven work on initiatives. Click [here](https://doc.arcgis.com/en/hub/) to learn more about ArcGIS Hub.\n",
    "\n",
    "To access your Hub and its components, you start with the `GIS` object by importing it from the `arcgis.gis` module."
   ]
  },
  {
   "cell_type": "code",
   "execution_count": 1,
   "metadata": {},
   "outputs": [],
   "source": [
    "from arcgis.gis import GIS"
   ]
  },
  {
   "cell_type": "markdown",
   "metadata": {},
   "source": [
    "To create the GIS object, we pass in the url and our login credentials as shown below:"
   ]
  },
  {
   "cell_type": "code",
   "execution_count": 2,
   "metadata": {},
   "outputs": [
    {
     "name": "stdout",
     "output_type": "stream",
     "text": [
      "Enter password: ········\n"
     ]
    }
   ],
   "source": [
    "gis = GIS(\"https://dcdev.maps.arcgis.com\", \"mmajumdar_dcdev\")"
   ]
  },
  {
   "cell_type": "markdown",
   "metadata": {},
   "source": [
    "To access your hub, simply access the `hub` property of your GIS"
   ]
  },
  {
   "cell_type": "code",
   "execution_count": 3,
   "metadata": {},
   "outputs": [],
   "source": [
    "myHub = gis.hub"
   ]
  },
  {
   "cell_type": "markdown",
   "metadata": {},
   "source": [
    "##### Note that ArcGIS Hub is currently only compatible with ArcGIS Online, and if you connect to an ArcGIS Enterprise in your premises, you will not be able to use the `hub` submodule"
   ]
  },
  {
   "cell_type": "markdown",
   "metadata": {},
   "source": [
    "A Hub uses two organizations to manage users, permissions, and content. \n",
    "The _Enterprise Organization_ manages authoritative content and the _Community Organization_ manages and shares community-created content.\n",
    "\n",
    "You can access the following properties for your Hub:\n",
    "* `enterprise_org_id`\n",
    "* `community_org_id`\n",
    "* `enterprise_org_url`\n",
    "* `community_org_url`\n",
    "\n",
    "For instance:"
   ]
  },
  {
   "cell_type": "code",
   "execution_count": 4,
   "metadata": {},
   "outputs": [
    {
     "data": {
      "text/plain": [
       "'https://dcdev-community.maps.arcgis.com'"
      ]
     },
     "execution_count": 4,
     "metadata": {},
     "output_type": "execute_result"
    }
   ],
   "source": [
    "myHub.community_org_url"
   ]
  },
  {
   "cell_type": "markdown",
   "metadata": {},
   "source": [
    "Once you have create your `Hub` object you can work with `Initiatives`, `Indicators` and `Events` within your Hub."
   ]
  },
  {
   "cell_type": "markdown",
   "metadata": {},
   "source": [
    "### Hub for an anonymous user"
   ]
  },
  {
   "cell_type": "markdown",
   "metadata": {},
   "source": [
    "There are two scenarios where a user can login and interact with Hub as an anonymous user."
   ]
  },
  {
   "cell_type": "markdown",
   "metadata": {},
   "source": [
    "#### 1. Connecting to an Enterprise or Community Organization without user credentials"
   ]
  },
  {
   "cell_type": "code",
   "execution_count": 5,
   "metadata": {},
   "outputs": [],
   "source": [
    "gis1 = GIS(\"https://cityx.maps.arcgis.com\")\n",
    "hub1 = gis1.hub"
   ]
  },
  {
   "cell_type": "code",
   "execution_count": 6,
   "metadata": {},
   "outputs": [
    {
     "data": {
      "text/plain": [
       "'https://cityxcommunity.maps.arcgis.com'"
      ]
     },
     "execution_count": 6,
     "metadata": {},
     "output_type": "execute_result"
    }
   ],
   "source": [
    "hub1.community_org_url"
   ]
  },
  {
   "cell_type": "markdown",
   "metadata": {},
   "source": [
    "The user can search for public content within this hub as follows:"
   ]
  },
  {
   "cell_type": "code",
   "execution_count": 7,
   "metadata": {},
   "outputs": [
    {
     "data": {
      "text/plain": [
       "[<Initiative title:\"Vision Zero\" owner:cityofx_admin>,\n",
       " <Initiative title:\"Vision Zero - Graham v181109\" owner:cityofx_admin>,\n",
       " <Initiative title:\"Vision Zero - PHL\" owner:cityofx_admin>]"
      ]
     },
     "execution_count": 7,
     "metadata": {},
     "output_type": "execute_result"
    }
   ],
   "source": [
    "hub1.initiatives.search(title = 'Vision Zero')"
   ]
  },
  {
   "cell_type": "markdown",
   "metadata": {},
   "source": [
    "The above code snippet searches for public initiatives containing 'Vision Zero' in their title.\n",
    "\n",
    "In order to access those not shared publicly, the user will have to login to their GIS as a named user of this organization"
   ]
  },
  {
   "cell_type": "markdown",
   "metadata": {},
   "source": [
    "Similarly, a user can also search for events"
   ]
  },
  {
   "cell_type": "code",
   "execution_count": 8,
   "metadata": {},
   "outputs": [
    {
     "data": {
      "text/plain": [
       "[<Event title:\"California, You Count Day\" location:Sacramento City Hall>,\n",
       " <Event title:\"Enumerator Training\" location:Court Pkwy, Sacramento, California, 95823>,\n",
       " <Event title:\"Volunteer Training\" location:Sacramento, California>,\n",
       " <Event title:\"Convening\" location:Broadway, Sacramento, California, 95817>]"
      ]
     },
     "execution_count": 8,
     "metadata": {},
     "output_type": "execute_result"
    }
   ],
   "source": [
    "hub1.events.search(location='Sacramento')"
   ]
  },
  {
   "cell_type": "markdown",
   "metadata": {},
   "source": [
    "#### 2. Connecting to ArcGIS Online (deafult GIS) as an anonymous user:"
   ]
  },
  {
   "cell_type": "code",
   "execution_count": 9,
   "metadata": {},
   "outputs": [],
   "source": [
    "gis2 = GIS()\n",
    "hub2 = gis2.hub"
   ]
  },
  {
   "cell_type": "markdown",
   "metadata": {},
   "source": [
    "A user can search for public initiatives across all available hubs using appropriate search paramters "
   ]
  },
  {
   "cell_type": "code",
   "execution_count": 10,
   "metadata": {},
   "outputs": [
    {
     "data": {
      "text/plain": [
       "[<Initiative title:\"Vision Zero\" owner:cityofx_admin>,\n",
       " <Initiative title:\"Vision Zero with Collision Lens App Florida\" owner:mmajumdar_dcdev>,\n",
       " <Initiative title:\"Vision Zero Marvin\" owner:mperry_dcdev>,\n",
       " <Initiative title:\"Vision Zero Auld Reekie\" owner:esandison3>,\n",
       " <Initiative title:\"Nullvisjonen (Vision Zero)\" owner:ghudgins5>,\n",
       " <Initiative title:\"Vision Zero - Matt\" owner:mattviverito_esri>,\n",
       " <Initiative title:\"Dublin Vision Zero\" owner:eamonn.derry>,\n",
       " <Initiative title:\"Vision Zero - Graham v181109\" owner:cityofx_admin>,\n",
       " <Initiative title:\"Dubai Vision Zero\" owner:hsayed_ps_dubai>,\n",
       " <Initiative title:\"Vision Zero - PHL\" owner:cityofx_admin>,\n",
       " <Initiative title:\"Vision Zero Edinburgh\" owner:aliceduff_techresearch>,\n",
       " <Initiative title:\"Smart Community Vision Zero\" owner:hub_uc>,\n",
       " <Initiative title:\"Vision Zero\" owner:kurnia_gov>,\n",
       " <Initiative title:\"Test_Vision_Zero_AARON\" owner:aweinstock_dcdev>,\n",
       " <Initiative title:\"Vision Zero \" owner:lxm_eaglegis>]"
      ]
     },
     "execution_count": 10,
     "metadata": {},
     "output_type": "execute_result"
    }
   ],
   "source": [
    "hub2.initiatives.search(title='Vision Zero')"
   ]
  },
  {
   "cell_type": "code",
   "execution_count": 11,
   "metadata": {},
   "outputs": [
    {
     "data": {
      "text/plain": [
       "[<Initiative title:\"Walkability Assessment \" owner:mmajumdar_dcdev>,\n",
       " <Initiative title:\"Vision Zero with Collision Lens App Florida\" owner:mmajumdar_dcdev>]"
      ]
     },
     "execution_count": 11,
     "metadata": {},
     "output_type": "execute_result"
    }
   ],
   "source": [
    "hub2.initiatives.search(owner='mmajumdar_dcdev')"
   ]
  },
  {
   "cell_type": "markdown",
   "metadata": {},
   "source": [
    "However, certain functionality will be restricted, such as accessing properties of Hub"
   ]
  },
  {
   "cell_type": "code",
   "execution_count": 12,
   "metadata": {},
   "outputs": [
    {
     "name": "stdout",
     "output_type": "stream",
     "text": [
      "Hub does not exist or is inaccessible.\n"
     ]
    },
    {
     "ename": "AttributeError",
     "evalue": "'PropertyMap' instance has no attribute 'portalProperties'",
     "output_type": "error",
     "traceback": [
      "\u001b[1;31m---------------------------------------------------------------------------\u001b[0m",
      "\u001b[1;31mAttributeError\u001b[0m                            Traceback (most recent call last)",
      "\u001b[1;32m<ipython-input-12-4843df31ef65>\u001b[0m in \u001b[0;36m<module>\u001b[1;34m\u001b[0m\n\u001b[1;32m----> 1\u001b[1;33m \u001b[0mhub2\u001b[0m\u001b[1;33m.\u001b[0m\u001b[0mcommunity_org_url\u001b[0m\u001b[1;33m\u001b[0m\u001b[1;33m\u001b[0m\u001b[0m\n\u001b[0m",
      "\u001b[1;32m~\\AppData\\Local\\Continuum\\anaconda37\\lib\\site-packages\\arcgis\\apps\\hub\\hub.py\u001b[0m in \u001b[0;36mcommunity_org_url\u001b[1;34m(self)\u001b[0m\n\u001b[0;32m    104\u001b[0m         \"\"\"\n\u001b[0;32m    105\u001b[0m         \u001b[1;32mtry\u001b[0m\u001b[1;33m:\u001b[0m\u001b[1;33m\u001b[0m\u001b[1;33m\u001b[0m\u001b[0m\n\u001b[1;32m--> 106\u001b[1;33m             \u001b[0mself\u001b[0m\u001b[1;33m.\u001b[0m\u001b[0mgis\u001b[0m\u001b[1;33m.\u001b[0m\u001b[0mproperties\u001b[0m\u001b[1;33m.\u001b[0m\u001b[0mportalProperties\u001b[0m\u001b[1;33m.\u001b[0m\u001b[0mhub\u001b[0m\u001b[1;33m\u001b[0m\u001b[1;33m\u001b[0m\u001b[0m\n\u001b[0m\u001b[0;32m    107\u001b[0m             \u001b[1;32mtry\u001b[0m\u001b[1;33m:\u001b[0m\u001b[1;33m\u001b[0m\u001b[1;33m\u001b[0m\u001b[0m\n\u001b[0;32m    108\u001b[0m                 \u001b[0mself\u001b[0m\u001b[1;33m.\u001b[0m\u001b[0mgis\u001b[0m\u001b[1;33m.\u001b[0m\u001b[0mproperties\u001b[0m\u001b[1;33m.\u001b[0m\u001b[0mportalProperties\u001b[0m\u001b[1;33m.\u001b[0m\u001b[0mhub\u001b[0m\u001b[1;33m.\u001b[0m\u001b[0msettings\u001b[0m\u001b[1;33m.\u001b[0m\u001b[0mcommunityOrg\u001b[0m\u001b[1;33m\u001b[0m\u001b[1;33m\u001b[0m\u001b[0m\n",
      "\u001b[1;32m~\\AppData\\Local\\Continuum\\anaconda37\\lib\\site-packages\\arcgis\\_impl\\common\\_mixins.py\u001b[0m in \u001b[0;36m__getattr__\u001b[1;34m(self, key)\u001b[0m\n\u001b[0;32m     79\u001b[0m             raise AttributeError(\n\u001b[0;32m     80\u001b[0m                 \"'{cls}' instance has no attribute '{name}'\".format(\n\u001b[1;32m---> 81\u001b[1;33m                     \u001b[0mcls\u001b[0m\u001b[1;33m=\u001b[0m\u001b[0mself\u001b[0m\u001b[1;33m.\u001b[0m\u001b[0m__class__\u001b[0m\u001b[1;33m.\u001b[0m\u001b[0m__name__\u001b[0m\u001b[1;33m,\u001b[0m \u001b[0mname\u001b[0m\u001b[1;33m=\u001b[0m\u001b[0mkey\u001b[0m\u001b[1;33m\u001b[0m\u001b[1;33m\u001b[0m\u001b[0m\n\u001b[0m\u001b[0;32m     82\u001b[0m                 )\n\u001b[0;32m     83\u001b[0m             )\n",
      "\u001b[1;31mAttributeError\u001b[0m: 'PropertyMap' instance has no attribute 'portalProperties'"
     ]
    }
   ],
   "source": [
    "hub2.community_org_url"
   ]
  },
  {
   "cell_type": "code",
   "execution_count": null,
   "metadata": {},
   "outputs": [],
   "source": []
  }
 ],
 "metadata": {
  "kernelspec": {
   "display_name": "Python 3",
   "language": "python",
   "name": "python3"
  },
  "language_info": {
   "codemirror_mode": {
    "name": "ipython",
    "version": 3
   },
   "file_extension": ".py",
   "mimetype": "text/x-python",
   "name": "python",
   "nbconvert_exporter": "python",
   "pygments_lexer": "ipython3",
   "version": "3.7.1"
  }
 },
 "nbformat": 4,
 "nbformat_minor": 2
}
