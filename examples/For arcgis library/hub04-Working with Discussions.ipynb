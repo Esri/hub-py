{
 "cells": [
  {
   "cell_type": "markdown",
   "id": "4d9119a6",
   "metadata": {},
   "source": [
    "## Introduction to Hub Discussions\n",
    "\n",
    "Hub Discussions was the result of many requests for in-app communication and collboration expressed by many customers of ArcGIS Hub. Hub Discussions will help to support integrated collaboration between users, organizations, and staff.\n",
    "\n",
    "To start using Hub Discussions, you must first connect to Hub using the Hub object from the arcgishub module."
   ]
  },
  {
   "cell_type": "code",
   "execution_count": 59,
   "id": "5866c409",
   "metadata": {},
   "outputs": [],
   "source": [
    "from arcgishub import hub"
   ]
  },
  {
   "cell_type": "markdown",
   "id": "086ec0a6",
   "metadata": {},
   "source": [
    "To create the Hub object, we pass in a url and our login credentials:"
   ]
  },
  {
   "cell_type": "code",
   "execution_count": 60,
   "id": "97bda858",
   "metadata": {},
   "outputs": [],
   "source": [
    "my_hub = hub.Hub(url='https://prod-pre-hub.maps.arcgis.com', username='prod_pre_hub_admin', password='prod1hubtest')"
   ]
  },
  {
   "cell_type": "markdown",
   "id": "5d5643dd",
   "metadata": {},
   "source": [
    "### Hub Discussions Overview"
   ]
  },
  {
   "cell_type": "markdown",
   "id": "2468f8a0",
   "metadata": {},
   "source": [
    "Before we can use the Hub object that we created above into Hub Discussions, it is important to understand the high level architecture of Discussions. \n",
    "\n",
    "Channels and Posts are the central models to the Discussions system. Currently, Channels and Posts are related by a simple one-to-many relationship, where a channel may have many posts and a post belongs to a single channel. A Post can have zero or many Reactions, which represent a user's elicited response to a post. Posts can also relate to other posts as replies."
   ]
  },
  {
   "cell_type": "markdown",
   "id": "9b84f4c6",
   "metadata": {},
   "source": [
    "#### Channels\n",
    "\n",
    "A Channel represents a unique platform sharing configuration, comprised of a distinct set of values for access, groups, and orgs. Channels are related to an ArcGIS Online user through their portal organization and group memberships, and subsequently the Channel model tracks closely with the platform sharing ACL.\n",
    "\n",
    "There are 4 varieties of channels that can be created:\n",
    "- Team Channel - access is private and groups array contains a single platform groupId\n",
    "- Shared Channel - access is private and there are multiple platform groupIds in the groups array\n",
    "- Org Channel - access is limited to members of the configured orgs\n",
    "- Public Channel - Can be viewed by everyone but is configured with the org value of creator\n",
    "\n",
    "#### Posts\n",
    "A Post is the primary forum for dialogue between users in a Channel. Posts are organized into \"threads\" using a self-join: a Post can have many replies, or a Post can belong to a Parent Post. Posts are required to have a body, and optionally a title (perhaps best suited for parent posts). A Post also has a status, which affect the visibility of a post and values such as \"pending\", \"approved\", or \"rejected\" serve as an early mechanism for moderation.\n",
    "\n",
    "Posts can also relate to platform content such as items, datasets, and groups via the discussion attribute. This attribute is a URI-formatted string. \n",
    "\n",
    "Examples:\n",
    "- *hub://dataset/4ef_1?id=4&attribute=species* encodes that a post was made in the Hub application about dataset 4ef, layer _1, feature 4's species attribute. \n",
    "- *urban://item/1b4* encodes that a post was made in Urban about plan 1bf. Perhaps the author of the post has a critique of the plan at large.\n"
   ]
  },
  {
   "cell_type": "markdown",
   "id": "897b4c7d",
   "metadata": {},
   "source": [
    "To begin using the Hub Discussions Python Module, simply use the discussions object of your hub to access posts and channels. This will also give access to all the different functions available to both entities. Let's look at some examples of the usage."
   ]
  },
  {
   "cell_type": "markdown",
   "id": "6824df33",
   "metadata": {},
   "source": [
    "### Interacting with Channels"
   ]
  },
  {
   "cell_type": "markdown",
   "id": "dc722474",
   "metadata": {},
   "source": [
    "#### We can use the search function to get all the channels"
   ]
  },
  {
   "cell_type": "code",
   "execution_count": 70,
   "id": "7aa9088d",
   "metadata": {},
   "outputs": [
    {
     "data": {
      "text/plain": [
       "[<channel_id:2b3709f2d7884e1aab1972be01f5bd68 access:\"private\" groups:['2b3709f2d7884e1aab1972be01f5bd68'] creator:qa_pre_hub_admin>,\n",
       " <channel_id:3603f8101f5e4c229ce67cf0a3e160ce access:\"public\" groups:[] creator:qa_pre_hub_admin>,\n",
       " <channel_id:b8cbcd94a896457b9df3c9d25ca45c61 access:\"org\" groups:[] creator:qa_pre_hub_admin>]"
      ]
     },
     "execution_count": 70,
     "metadata": {},
     "output_type": "execute_result"
    }
   ],
   "source": [
    "my_hub.discussions.channels.search()"
   ]
  },
  {
   "cell_type": "markdown",
   "id": "f6d22b4d",
   "metadata": {},
   "source": [
    "#### We can also get a specific channel using it's id"
   ]
  },
  {
   "cell_type": "code",
   "execution_count": 62,
   "id": "2e2fffe9",
   "metadata": {},
   "outputs": [
    {
     "data": {
      "text/plain": [
       "'2b3709f2d7884e1aab1972be01f5bd68'"
      ]
     },
     "execution_count": 62,
     "metadata": {},
     "output_type": "execute_result"
    }
   ],
   "source": [
    "# Get the first channel in the list of channels from our search results. Use that id to retrieve that channel.\n",
    "single_channel = my_hub.discussions.channels.search()[0]\n",
    "channel_id = single_channel.id\n",
    "channel_id"
   ]
  },
  {
   "cell_type": "code",
   "execution_count": 63,
   "id": "292901df",
   "metadata": {},
   "outputs": [
    {
     "data": {
      "text/plain": [
       "<channel_id:2b3709f2d7884e1aab1972be01f5bd68 access:\"private\" groups:['2b3709f2d7884e1aab1972be01f5bd68'] creator:qa_pre_hub_admin>"
      ]
     },
     "execution_count": 63,
     "metadata": {},
     "output_type": "execute_result"
    }
   ],
   "source": [
    "retrieved_channel = my_hub.discussions.channels.get(channel_id)\n",
    "retrieved_channel"
   ]
  },
  {
   "cell_type": "markdown",
   "id": "2563408d",
   "metadata": {},
   "source": [
    "#### Creating a New Channel"
   ]
  },
  {
   "cell_type": "markdown",
   "id": "03c6a148",
   "metadata": {},
   "source": [
    "In order to create a new channel, we need to provide a dictionary of properties to create the channel. As explained before, this will be the configurations for the channel. \n",
    "\n",
    "To create a channel, there are two **required** arguments that must be specific in the configuration:\n",
    "- access: this is the platform level access. Can be \"org\", \"private\", or \"public\".\n",
    "- groups: required for private or org access configs, will be a array of platform groupIds\n",
    "\n",
    "There's also a handful of **optional** properties that you can configure when creating a channel:\n",
    "- allowReply: determines whether replies can be made to posts (boolean)\n",
    "- allowAnonymous: for public channels, determines if unauthenticated users can make posts (boolean)\n",
    "- softDelete: delete operations flag posts as deleted rather than an SQL query to delete (boolean)\n",
    "- defaultPostStatus: initial status applied to posts (approved, pending, rejected, deleted, and hidden)\n",
    "- allowReaction: determines whether reactions can be created for posts in channel (boolean)\n",
    "- allowedReactions: reactions that can be made for posts (example: \"thumbs_up\", etc.)\n",
    "- blockWords: Not Yet Implemented. Will be used for words/phrases that will automatically be moderated\n",
    "\n",
    "With that out of the way, let's try to create our own channel\n",
    "\n",
    "\n",
    "First, we create an object that will let us set the properties of the channel we wish to create."
   ]
  },
  {
   "cell_type": "code",
   "execution_count": 68,
   "id": "b7c8f34d",
   "metadata": {},
   "outputs": [],
   "source": [
    "channel_properties = {\n",
    "    \"access\": \"org\",\n",
    "    \"groups\": [\"T5cZDlfUaBpDnk6P\"]\n",
    "}"
   ]
  },
  {
   "cell_type": "markdown",
   "id": "e7e3988b",
   "metadata": {},
   "source": [
    "Now, let's create the channel using the property object we just made"
   ]
  },
  {
   "cell_type": "code",
   "execution_count": 69,
   "id": "a65d71fe",
   "metadata": {},
   "outputs": [
    {
     "data": {
      "text/plain": [
       "<channel_id:b8cbcd94a896457b9df3c9d25ca45c61 access:\"org\" groups:[] creator:qa_pre_hub_admin>"
      ]
     },
     "execution_count": 69,
     "metadata": {},
     "output_type": "execute_result"
    }
   ],
   "source": [
    "new_channel = my_hub.discussions.channels.add(channel_properties)\n",
    "new_channel"
   ]
  },
  {
   "cell_type": "markdown",
   "id": "c7b5e670",
   "metadata": {},
   "source": [
    "Just like that we have our new channel!"
   ]
  },
  {
   "cell_type": "markdown",
   "id": "17624514",
   "metadata": {},
   "source": [
    "#### Getting the different properties\n",
    "Now that our channel has been created, let's try to get each of it's properties,"
   ]
  },
  {
   "cell_type": "code",
   "execution_count": 11,
   "id": "59b12a56",
   "metadata": {},
   "outputs": [
    {
     "data": {
      "text/plain": [
       "'7e4f811e785242759cac22b7c5a30d54'"
      ]
     },
     "execution_count": 11,
     "metadata": {},
     "output_type": "execute_result"
    }
   ],
   "source": [
    "new_channel.id"
   ]
  },
  {
   "cell_type": "code",
   "execution_count": 12,
   "id": "1e8d691a",
   "metadata": {},
   "outputs": [
    {
     "data": {
      "text/plain": [
       "True"
      ]
     },
     "execution_count": 12,
     "metadata": {},
     "output_type": "execute_result"
    }
   ],
   "source": [
    "new_channel.allowReply"
   ]
  },
  {
   "cell_type": "code",
   "execution_count": 13,
   "id": "b8425143",
   "metadata": {},
   "outputs": [
    {
     "data": {
      "text/plain": [
       "False"
      ]
     },
     "execution_count": 13,
     "metadata": {},
     "output_type": "execute_result"
    }
   ],
   "source": [
    "new_channel.allowAnonymous"
   ]
  },
  {
   "cell_type": "code",
   "execution_count": 14,
   "id": "82e0c989",
   "metadata": {},
   "outputs": [
    {
     "data": {
      "text/plain": [
       "True"
      ]
     },
     "execution_count": 14,
     "metadata": {},
     "output_type": "execute_result"
    }
   ],
   "source": [
    "new_channel.softDelete"
   ]
  },
  {
   "cell_type": "code",
   "execution_count": 15,
   "id": "56fa5a9a",
   "metadata": {},
   "outputs": [
    {
     "data": {
      "text/plain": [
       "'approved'"
      ]
     },
     "execution_count": 15,
     "metadata": {},
     "output_type": "execute_result"
    }
   ],
   "source": [
    "new_channel.defaultPostStatus"
   ]
  },
  {
   "cell_type": "code",
   "execution_count": 16,
   "id": "fc4e7e3d",
   "metadata": {},
   "outputs": [
    {
     "data": {
      "text/plain": [
       "True"
      ]
     },
     "execution_count": 16,
     "metadata": {},
     "output_type": "execute_result"
    }
   ],
   "source": [
    "new_channel.allowReaction"
   ]
  },
  {
   "cell_type": "code",
   "execution_count": 17,
   "id": "bcad2c4d",
   "metadata": {},
   "outputs": [
    {
     "data": {
      "text/plain": [
       "('org', ['T5cZDlfUaBpDnk6P'])"
      ]
     },
     "execution_count": 17,
     "metadata": {},
     "output_type": "execute_result"
    }
   ],
   "source": [
    "new_channel.access, new_channel.orgs"
   ]
  },
  {
   "cell_type": "code",
   "execution_count": 18,
   "id": "7adfa6bc",
   "metadata": {},
   "outputs": [
    {
     "data": {
      "text/plain": [
       "[]"
      ]
     },
     "execution_count": 18,
     "metadata": {},
     "output_type": "execute_result"
    }
   ],
   "source": [
    "new_channel.groups"
   ]
  },
  {
   "cell_type": "code",
   "execution_count": 19,
   "id": "b4c65937",
   "metadata": {},
   "outputs": [
    {
     "data": {
      "text/plain": [
       "('qa_pre_hub_admin', 'qa_pre_hub_admin')"
      ]
     },
     "execution_count": 19,
     "metadata": {},
     "output_type": "execute_result"
    }
   ],
   "source": [
    "new_channel.creator, new_channel.editor"
   ]
  },
  {
   "cell_type": "code",
   "execution_count": 20,
   "id": "adafd2d7",
   "metadata": {},
   "outputs": [
    {
     "data": {
      "text/plain": [
       "('2021-10-15T15:07:44.522Z', '2021-10-15T15:07:44.522Z')"
      ]
     },
     "execution_count": 20,
     "metadata": {},
     "output_type": "execute_result"
    }
   ],
   "source": [
    "new_channel.created, new_channel.updated"
   ]
  },
  {
   "cell_type": "markdown",
   "id": "e5efe940",
   "metadata": {},
   "source": [
    "#### Updating a Channel\n",
    "Now that you've seen the different properties, let's try to update something on that channel. Let's update the allowedReactions property to allow posts to have the thumbs up reaction."
   ]
  },
  {
   "cell_type": "code",
   "execution_count": 21,
   "id": "2d5e7186",
   "metadata": {},
   "outputs": [
    {
     "data": {
      "text/plain": [
       "<channel_id:7e4f811e785242759cac22b7c5a30d54 access:\"org\" groups:[] creator:qa_pre_hub_admin>"
      ]
     },
     "execution_count": 21,
     "metadata": {},
     "output_type": "execute_result"
    }
   ],
   "source": [
    "updated_channel = new_channel.update(allowedReactions=[\"thumbs_up\"])\n",
    "updated_channel"
   ]
  },
  {
   "cell_type": "markdown",
   "id": "311d8052",
   "metadata": {},
   "source": [
    "#### Deleting a Channel\n",
    "It's quite simple to delete a channel. Just called the delete function on the object itself."
   ]
  },
  {
   "cell_type": "code",
   "execution_count": 22,
   "id": "4778727f",
   "metadata": {},
   "outputs": [
    {
     "data": {
      "text/plain": [
       "True"
      ]
     },
     "execution_count": 22,
     "metadata": {},
     "output_type": "execute_result"
    }
   ],
   "source": [
    "deleted = new_channel.delete()\n",
    "deleted"
   ]
  },
  {
   "cell_type": "markdown",
   "id": "eb3606e9",
   "metadata": {},
   "source": [
    "### Interacting with Posts\n",
    "Now that we've gone over Channels and their functionalities, we can finally look into posts. The posts functionality is very similar to the channels that we saw above and interact in almost the same way. We can access the posts attribute of discussinos to play with all of it's functionality."
   ]
  },
  {
   "cell_type": "markdown",
   "id": "8ba6061f",
   "metadata": {},
   "source": [
    "#### Search for all posts"
   ]
  },
  {
   "cell_type": "code",
   "execution_count": 23,
   "id": "f8d57119",
   "metadata": {},
   "outputs": [
    {
     "data": {
      "text/plain": [
       "[<title:\"None\" creator:qa_pre_hub_admin created:2021-10-15T14:59:46.166Z>,\n",
       " <title:\"None\" creator:qa_pre_hub_admin created:2021-10-15T15:02:02.976Z>]"
      ]
     },
     "execution_count": 23,
     "metadata": {},
     "output_type": "execute_result"
    }
   ],
   "source": [
    "all_posts = my_hub.discussions.posts.search(max_posts=2)\n",
    "all_posts"
   ]
  },
  {
   "cell_type": "markdown",
   "id": "f0ee656e",
   "metadata": {},
   "source": [
    "#### Retrieve a specific post by ID"
   ]
  },
  {
   "cell_type": "code",
   "execution_count": 29,
   "id": "7b305fc0",
   "metadata": {},
   "outputs": [
    {
     "data": {
      "text/plain": [
       "'a6d407f6660b4bdba0760662c771d3b0'"
      ]
     },
     "execution_count": 29,
     "metadata": {},
     "output_type": "execute_result"
    }
   ],
   "source": [
    "# Get the first post in the list of posts from our search results. Use that id to retrieve that post.\n",
    "single_post = my_hub.discussions.posts.search()[0]\n",
    "post_id = single_post.id\n",
    "post_id"
   ]
  },
  {
   "cell_type": "code",
   "execution_count": 30,
   "id": "4be07a64",
   "metadata": {},
   "outputs": [
    {
     "data": {
      "text/plain": [
       "<title:\"main title\" creator:qa_pre_hub_admin created:2021-10-15T15:15:49.742Z>"
      ]
     },
     "execution_count": 30,
     "metadata": {},
     "output_type": "execute_result"
    }
   ],
   "source": [
    "retrieved_post = my_hub.discussions.posts.get(post_id)\n",
    "retrieved_post"
   ]
  },
  {
   "cell_type": "markdown",
   "id": "2fe159f4",
   "metadata": {},
   "source": [
    "#### Creating a New Post\n",
    "\n",
    "Just like how we had to pass in a dictionary of properties to create a channel, we must do the same for creating a post. However, the requirements for the properties are a bit different for posts.\n",
    "\n",
    "To create a post, there are multiple required properties. No matter what, the body is required. This will be the primary text content of the post. Aside from that, youw ill either need to provide **either** channelId **OR** access/groups (yes, both access and groups).\n",
    "\n",
    "So you will either need to provide at minimum the following two options:\n",
    "\n",
    "```\n",
    "{\n",
    "   \"channelId\": \"channelId12345\",\n",
    "   \"body\": \"hello there\n",
    "}\n",
    "```\n",
    "**OR**\n",
    "```\n",
    "{\n",
    "   \"access\": \"private\",\n",
    "   \"groups\": [\"groupId12345\"],\n",
    "   \"body\": \"hello there\n",
    "}\n",
    "``` \n",
    "\n",
    "Aside from the required posts, you can also pass add in other optional properties when creating a post. Some of these optional properties include:\n",
    "- title: title of the post, usually for initial post of discussion (string)\n",
    "- discussion: valid discussion URI showing post's relation to platform content (string)\n",
    "- geometry: geometry property of GeoJSON spec. spec required WGS84 (string)\n",
    "- appInfo: generic field for application specific notes. Urban uses this to encode a \"topic\" to posts. (string)\n",
    "- parentId: used for creating a reply, points to the parent post (string)"
   ]
  },
  {
   "cell_type": "code",
   "execution_count": 31,
   "id": "94ec0192",
   "metadata": {},
   "outputs": [],
   "source": [
    "post_properties = {\n",
    "            \"access\": \"private\",\n",
    "            \"groups\": [\"2b3709f2d7884e1aab1972be01f5bd68\"],\n",
    "            \"discussion\": \"hub://item/uuid\",\n",
    "            \"title\": \"this is my title\",\n",
    "            \"body\": \"hello there\"\n",
    "        }"
   ]
  },
  {
   "cell_type": "markdown",
   "id": "5304e608",
   "metadata": {},
   "source": [
    "Now, let's create the channel using the property object we just made"
   ]
  },
  {
   "cell_type": "code",
   "execution_count": 36,
   "id": "2770d9ef",
   "metadata": {},
   "outputs": [
    {
     "data": {
      "text/plain": [
       "<title:\"this is my title\" creator:qa_pre_hub_admin created:2021-10-15T15:17:07.972Z>"
      ]
     },
     "execution_count": 36,
     "metadata": {},
     "output_type": "execute_result"
    }
   ],
   "source": [
    "new_post = my_hub.discussions.posts.add(post_properties)\n",
    "new_post"
   ]
  },
  {
   "cell_type": "markdown",
   "id": "b94a2ac7",
   "metadata": {},
   "source": [
    "#### Getting the post's different properties"
   ]
  },
  {
   "cell_type": "code",
   "execution_count": 37,
   "id": "8e1dc63f",
   "metadata": {},
   "outputs": [
    {
     "data": {
      "text/plain": [
       "('e081afc4c21249c3956c32da7c99e300', '2b3709f2d7884e1aab1972be01f5bd68')"
      ]
     },
     "execution_count": 37,
     "metadata": {},
     "output_type": "execute_result"
    }
   ],
   "source": [
    "new_post.id, new_post.channelId"
   ]
  },
  {
   "cell_type": "code",
   "execution_count": 38,
   "id": "7ebe1c34",
   "metadata": {},
   "outputs": [
    {
     "data": {
      "text/plain": [
       "('this is my title', 'hello there')"
      ]
     },
     "execution_count": 38,
     "metadata": {},
     "output_type": "execute_result"
    }
   ],
   "source": [
    "new_post.title, new_post.body"
   ]
  },
  {
   "cell_type": "code",
   "execution_count": 39,
   "id": "e87f702f",
   "metadata": {},
   "outputs": [
    {
     "data": {
      "text/plain": [
       "'hub://item/uuid'"
      ]
     },
     "execution_count": 39,
     "metadata": {},
     "output_type": "execute_result"
    }
   ],
   "source": [
    "new_post.discussion"
   ]
  },
  {
   "cell_type": "code",
   "execution_count": 40,
   "id": "62f4a6d1",
   "metadata": {},
   "outputs": [
    {
     "data": {
      "text/plain": [
       "('qa_pre_hub_admin', 'qa_pre_hub_admin')"
      ]
     },
     "execution_count": 40,
     "metadata": {},
     "output_type": "execute_result"
    }
   ],
   "source": [
    "new_post.creator, new_post.editor"
   ]
  },
  {
   "cell_type": "code",
   "execution_count": 41,
   "id": "78c6ba44",
   "metadata": {},
   "outputs": [
    {
     "data": {
      "text/plain": [
       "('2021-10-15T15:17:07.972Z', '2021-10-15T15:17:07.972Z')"
      ]
     },
     "execution_count": 41,
     "metadata": {},
     "output_type": "execute_result"
    }
   ],
   "source": [
    "new_post.created, new_post.updated"
   ]
  },
  {
   "cell_type": "code",
   "execution_count": 42,
   "id": "dad292fd",
   "metadata": {},
   "outputs": [],
   "source": [
    "# only has value if it is a reply post\n",
    "new_post.parentId"
   ]
  },
  {
   "cell_type": "markdown",
   "id": "6db977e8",
   "metadata": {},
   "source": [
    "#### updating a post"
   ]
  },
  {
   "cell_type": "code",
   "execution_count": 43,
   "id": "93cfa618",
   "metadata": {},
   "outputs": [
    {
     "data": {
      "text/plain": [
       "<title:\"my updated title\" creator:qa_pre_hub_admin created:2021-10-15T15:17:07.972Z>"
      ]
     },
     "execution_count": 43,
     "metadata": {},
     "output_type": "execute_result"
    }
   ],
   "source": [
    "updated_post = new_post.update(title='my updated title')\n",
    "updated_post"
   ]
  },
  {
   "cell_type": "markdown",
   "id": "26376f3e",
   "metadata": {},
   "source": [
    "#### adding reactions to a post\n",
    "You can add reactions on a post object directly. The following reaction values are allowed on a post:\n",
    "- thumbs_up\n",
    "- thumbs_down\n",
    "- thinking\n",
    "- heart\n",
    "- one_hundred\n",
    "- sad\n",
    "- laughing\n",
    "- surprised"
   ]
  },
  {
   "cell_type": "code",
   "execution_count": 44,
   "id": "bd758f5d",
   "metadata": {},
   "outputs": [
    {
     "data": {
      "text/plain": [
       "True"
      ]
     },
     "execution_count": 44,
     "metadata": {},
     "output_type": "execute_result"
    }
   ],
   "source": [
    "addReaction = updated_post.add_reaction(\"thumbs_up\")\n",
    "addReaction"
   ]
  },
  {
   "cell_type": "markdown",
   "id": "e0f625e9",
   "metadata": {},
   "source": [
    "#### deleting reactions\n",
    "You can delete a reaction by providingi the id of the reaction that was added."
   ]
  },
  {
   "cell_type": "code",
   "execution_count": 45,
   "id": "3efffd39",
   "metadata": {},
   "outputs": [
    {
     "data": {
      "text/plain": [
       "True"
      ]
     },
     "execution_count": 45,
     "metadata": {},
     "output_type": "execute_result"
    }
   ],
   "source": [
    "deleteReaction = updated_post.delete_reaction(\"9900b69564fd49119a100b3728620d95\")\n",
    "deleteReaction"
   ]
  },
  {
   "cell_type": "markdown",
   "id": "2ab37b3f",
   "metadata": {},
   "source": [
    "#### deleting a post\n",
    "Finally, it's simple to delete a post. just called the delete function on the post you would like to delete."
   ]
  },
  {
   "cell_type": "code",
   "execution_count": 46,
   "id": "54542359",
   "metadata": {},
   "outputs": [],
   "source": [
    "delete = updated_post.delete()"
   ]
  },
  {
   "cell_type": "markdown",
   "id": "8922ee96",
   "metadata": {},
   "source": [
    "### Conclusion and Future Ideas"
   ]
  },
  {
   "cell_type": "markdown",
   "id": "4fdf6e2e",
   "metadata": {},
   "source": [
    "That wraps up the majority of the features provided to python developers to use the Discussion API. In the future, there will be additional features being added such as moderation tools including a Toxic Comment Classifier that can auto moderate posts to a certain level. There will also be more channel configurations as mentioned above such as shared channels.\n"
   ]
  }
 ],
 "metadata": {
  "kernelspec": {
   "display_name": "Python 3",
   "language": "python",
   "name": "python3"
  },
  "language_info": {
   "codemirror_mode": {
    "name": "ipython",
    "version": 3
   },
   "file_extension": ".py",
   "mimetype": "text/x-python",
   "name": "python",
   "nbconvert_exporter": "python",
   "pygments_lexer": "ipython3",
   "version": "3.8.8"
  }
 },
 "nbformat": 4,
 "nbformat_minor": 5
}
