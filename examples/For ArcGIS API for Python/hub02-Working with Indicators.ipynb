{
 "cells": [
  {
   "cell_type": "markdown",
   "metadata": {},
   "source": [
    "### Working with Indicators"
   ]
  },
  {
   "cell_type": "markdown",
   "metadata": {},
   "source": [
    "ArcGIS Hub uses Indicators to standardize data sources for ready-to-use analysis and comparison. Indicators are measurements of a system including features, calculated metrics, or quantified goals. An Indicator has a schema Definition that describes the meaning, method, and units of an attribute. Currently this structure is used in-line inside the Initiative and Solution Template items.\n",
    "\n",
    "Indicators are classified into the following:\n",
    "1. __Measures__ - Data measured over time and space that indicate trends, outliers, and comparisons. (E.g. Street crashes, crime)\n",
    "2. __Places__ - Important locations that support common public services. (E.g. parks, hospitals)\n",
    "3. __Boundaries__ - Distinct areas that denote an administrative, operational, or conceptual limit. (E.g. School districts, census tracts)"
   ]
  },
  {
   "cell_type": "code",
   "execution_count": 1,
   "metadata": {},
   "outputs": [],
   "source": [
    "from arcgis.gis import GIS"
   ]
  },
  {
   "cell_type": "code",
   "execution_count": 2,
   "metadata": {},
   "outputs": [
    {
     "name": "stdout",
     "output_type": "stream",
     "text": [
      "Enter password: ········\n"
     ]
    }
   ],
   "source": [
    "gis = GIS(\"https://www.arcgis.com\", 'mmajumdar_dcdev')"
   ]
  },
  {
   "cell_type": "code",
   "execution_count": 3,
   "metadata": {},
   "outputs": [],
   "source": [
    "myHub = gis.hub"
   ]
  },
  {
   "cell_type": "markdown",
   "metadata": {},
   "source": [
    "Indicators are __*specific to the initiative they are configured in.*__\n",
    "\n",
    "We start by fetching the initiative we wish to explore the indicators of."
   ]
  },
  {
   "cell_type": "code",
   "execution_count": 4,
   "metadata": {},
   "outputs": [],
   "source": [
    "initiativeId = 'a5becab664564eb18a587efb21dcf23d'\n",
    "vz_init = myHub.initiatives.get(initiativeId)"
   ]
  },
  {
   "cell_type": "code",
   "execution_count": 5,
   "metadata": {},
   "outputs": [
    {
     "data": {
      "text/html": [
       "<div class=\"item_container\" style=\"height: auto; overflow: hidden; border: 1px solid #cfcfcf; border-radius: 2px; background: #f6fafa; line-height: 1.21429em; padding: 10px;\">\n",
       "                    <div class=\"item_left\" style=\"width: 210px; float: left;\">\n",
       "                       <a href='https://dcdev.maps.arcgis.com/home/item.html?id=a5becab664564eb18a587efb21dcf23d' target='_blank'>\n",
       "                        <img src='data:image/png;base64,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' width='200' height='133' class=\"itemThumbnail\">\n",
       "                       </a>\n",
       "                    </div>\n",
       "\n",
       "                    <div class=\"item_right\"     style=\"float: none; width: auto; overflow: hidden;\">\n",
       "                        <a href='https://dcdev.maps.arcgis.com/home/item.html?id=a5becab664564eb18a587efb21dcf23d' target='_blank'><b>Vision Zero with Collision Lens App Florida</b>\n",
       "                        </a>\n",
       "                        <br/>Create your own initiative by combining existing applications with a custom site.<img src='https://dcdev.maps.arcgis.com/home/js/jsapi/esri/css/images/item_type_icons/layers16.png' style=\"vertical-align:middle;\">Hub Initiative by mmajumdar_dcdev\n",
       "                        <br/>Last Modified: April 12, 2019\n",
       "                        <br/>0 comments, 624 views\n",
       "                    </div>\n",
       "                </div>\n",
       "                "
      ],
      "text/plain": [
       "<Item title:\"Vision Zero with Collision Lens App Florida\" type:Hub Initiative owner:mmajumdar_dcdev>"
      ]
     },
     "execution_count": 5,
     "metadata": {},
     "output_type": "execute_result"
    }
   ],
   "source": [
    "vz_init.item"
   ]
  },
  {
   "cell_type": "markdown",
   "metadata": {},
   "source": [
    "#### Accessing all indicators for this initiative"
   ]
  },
  {
   "cell_type": "markdown",
   "metadata": {},
   "source": [
    "To retreive all indicators for an initiative you can `search` without any paramters."
   ]
  },
  {
   "cell_type": "code",
   "execution_count": 6,
   "metadata": {},
   "outputs": [
    {
     "data": {
      "text/plain": [
       "[<Indicator id:\"streetCrashes\" optional:False>,\n",
       " <Indicator id:\"boundary\" optional:False>]"
      ]
     },
     "execution_count": 6,
     "metadata": {},
     "output_type": "execute_result"
    }
   ],
   "source": [
    "vz_init.indicators.search()"
   ]
  },
  {
   "cell_type": "markdown",
   "metadata": {},
   "source": [
    "Additionally, you can search for indicators based on `url`, `item_id` or `name` of the data item configured as an indicator. "
   ]
  },
  {
   "cell_type": "markdown",
   "metadata": {},
   "source": [
    "#### Accessing a particular indicator"
   ]
  },
  {
   "cell_type": "markdown",
   "metadata": {},
   "source": [
    "To fetch an indicator, you `get` the indicator with its `id`.\n",
    "\n",
    "Note that only indicators that are existing within solution templates of an initiative and that have been configured can be retreived."
   ]
  },
  {
   "cell_type": "code",
   "execution_count": 7,
   "metadata": {},
   "outputs": [],
   "source": [
    "boundary = vz_init.indicators.get('boundary')"
   ]
  },
  {
   "cell_type": "markdown",
   "metadata": {},
   "source": [
    "You can access properties of the indicator, for instance:"
   ]
  },
  {
   "cell_type": "code",
   "execution_count": 8,
   "metadata": {},
   "outputs": [
    {
     "data": {
      "text/plain": [
       "'https://www25.swfwmd.state.fl.us/arcgis12/rest/services/OpenData/Boundaries/MapServer/4'"
      ]
     },
     "execution_count": 8,
     "metadata": {},
     "output_type": "execute_result"
    }
   ],
   "source": [
    "boundary.url"
   ]
  },
  {
   "cell_type": "code",
   "execution_count": 9,
   "metadata": {},
   "outputs": [
    {
     "data": {
      "text/plain": [
       "[{'id': 'name',\n",
       "  'name': 'COUNTYNAME',\n",
       "  'alias': 'COUNTYNAME',\n",
       "  'type': 'esriFieldTypeString'}]"
      ]
     },
     "execution_count": 9,
     "metadata": {},
     "output_type": "execute_result"
    }
   ],
   "source": [
    "boundary.mappings"
   ]
  },
  {
   "cell_type": "markdown",
   "metadata": {},
   "source": [
    "The `get_data()` method on the indicator returns the indicator definition"
   ]
  },
  {
   "cell_type": "code",
   "execution_count": 10,
   "metadata": {},
   "outputs": [
    {
     "data": {
      "text/plain": [
       "{\n",
       "  \"id\": \"boundary\",\n",
       "  \"name\": \"boundary\",\n",
       "  \"type\": \"Data\",\n",
       "  \"optional\": false,\n",
       "  \"definition\": {\n",
       "    \"supportedTypes\": [\n",
       "      \"FeatureLayer\"\n",
       "    ],\n",
       "    \"geometryTypes\": [\n",
       "      \"esriGeometryPolygon\"\n",
       "    ],\n",
       "    \"fields\": [\n",
       "      {\n",
       "        \"name\": \"name\",\n",
       "        \"id\": \"name\",\n",
       "        \"supportedTypes\": [\n",
       "          \"esriFieldTypeString\"\n",
       "        ],\n",
       "        \"optional\": false\n",
       "      }\n",
       "    ]\n",
       "  },\n",
       "  \"source\": {\n",
       "    \"url\": \"https://www25.swfwmd.state.fl.us/arcgis12/rest/services/OpenData/Boundaries/MapServer/4\",\n",
       "    \"layerId\": \"4\",\n",
       "    \"itemId\": \"3dfca8dbf70b425bb084c7e7f49478ad\",\n",
       "    \"name\": \"Counties_Florida\",\n",
       "    \"mappings\": [\n",
       "      {\n",
       "        \"id\": \"name\",\n",
       "        \"name\": \"COUNTYNAME\",\n",
       "        \"alias\": \"COUNTYNAME\",\n",
       "        \"type\": \"esriFieldTypeString\"\n",
       "      }\n",
       "    ]\n",
       "  }\n",
       "}"
      ]
     },
     "execution_count": 10,
     "metadata": {},
     "output_type": "execute_result"
    }
   ],
   "source": [
    "boundaryData = boundary.get_data()\n",
    "boundaryData"
   ]
  },
  {
   "cell_type": "markdown",
   "metadata": {},
   "source": [
    "#### Adding a new indicator"
   ]
  },
  {
   "cell_type": "markdown",
   "metadata": {},
   "source": [
    "Adding a new indicator in UI involves launching the 'Add Data' screen from the initiative solution and then mapping applicable dataset and attributes, as follows:"
   ]
  },
  {
   "cell_type": "markdown",
   "metadata": {},
   "source": [
    "![indicatorModal](https://user-images.githubusercontent.com/13968196/56012844-338d0e00-5cbc-11e9-8418-4d64672e2f10.PNG)"
   ]
  },
  {
   "cell_type": "markdown",
   "metadata": {},
   "source": [
    "Adding a new indicator using the `hub` submodule of the API is  a 2 step process. \n",
    "\n",
    "You store the indicator definition as a dictionary, and pass it as a paramter to the `add` method, as follows:"
   ]
  },
  {
   "cell_type": "code",
   "execution_count": 11,
   "metadata": {},
   "outputs": [],
   "source": [
    "new_indicator = {\"id\": \"demographics\",\"name\": \"demographics\",\"type\": \"Data\",\"optional\": False,\"definition\": {\"supportedTypes\": [\"FeatureLayer\"],\"geometryTypes\": [\"esriGeometryPolygon\"],\"fields\": [{\"name\": \"population\",\"id\": \"population\",\"supportedTypes\": [\"esriFieldTypeDouble\",\"esriFieldTypeInteger\",\"esriFieldTypeSmallInteger\",\"esriFieldTypeSingle\"],\"optional\": False}]}, \"source\": {\"url\": \"https://services.arcgis.com/P3ePLMYs2RVChkJx/ArcGIS/rest/services/AGOL_Base_2018_Final/FeatureServer/3\",\"layerId\": \"3\",\"itemId\": \"72f186389cb849e882b56af7aa1e546b\",\"name\": \"Popular Demographics in the United States - Zip Code\",\"mappings\": [{\"id\": \"population\",\"name\": \"TOTPOP_CY\",\"alias\": \"2018 Total Population (Esri)\",\"type\": \"esriFieldTypeInteger\"}]}}"
   ]
  },
  {
   "cell_type": "code",
   "execution_count": 12,
   "metadata": {},
   "outputs": [
    {
     "data": {
      "text/plain": [
       "<Indicator id:\"demographics\" optional:False>"
      ]
     },
     "execution_count": 12,
     "metadata": {},
     "output_type": "execute_result"
    }
   ],
   "source": [
    "vz_init.indicators.add(new_indicator)"
   ]
  },
  {
   "cell_type": "markdown",
   "metadata": {},
   "source": [
    "#### Verfying addition of new indicator"
   ]
  },
  {
   "cell_type": "code",
   "execution_count": 13,
   "metadata": {},
   "outputs": [],
   "source": [
    "vz_init = myHub.initiatives.get(initiativeId)\n",
    "indicator = vz_init.indicators.get('demographics')"
   ]
  },
  {
   "cell_type": "code",
   "execution_count": 14,
   "metadata": {},
   "outputs": [
    {
     "data": {
      "text/plain": [
       "[<Indicator id:\"streetCrashes\" optional:False>,\n",
       " <Indicator id:\"boundary\" optional:False>,\n",
       " <Indicator id:\"demographics\" optional:False>]"
      ]
     },
     "execution_count": 14,
     "metadata": {},
     "output_type": "execute_result"
    }
   ],
   "source": [
    "vz_init.indicators.search()"
   ]
  },
  {
   "cell_type": "markdown",
   "metadata": {},
   "source": [
    "#### Updating an indiator"
   ]
  },
  {
   "cell_type": "markdown",
   "metadata": {},
   "source": [
    "We will try to update the `optional` field of the indicator. To do so, you follow the following steps:\n",
    "\n",
    "1. Fetch the indicator data (dictionary)\n",
    "2. Update necessary fields\n",
    "3. Pass the updated dictionary as a parameter to `update` on the indicator"
   ]
  },
  {
   "cell_type": "code",
   "execution_count": 15,
   "metadata": {},
   "outputs": [],
   "source": [
    "indicatorData = indicator.get_data()"
   ]
  },
  {
   "cell_type": "code",
   "execution_count": 16,
   "metadata": {},
   "outputs": [],
   "source": [
    "indicatorData['optional'] = True"
   ]
  },
  {
   "cell_type": "code",
   "execution_count": 17,
   "metadata": {},
   "outputs": [],
   "source": [
    "indicator = vz_init.indicators.get('demographics')"
   ]
  },
  {
   "cell_type": "code",
   "execution_count": 18,
   "metadata": {},
   "outputs": [
    {
     "data": {
      "text/plain": [
       "True"
      ]
     },
     "execution_count": 18,
     "metadata": {},
     "output_type": "execute_result"
    }
   ],
   "source": [
    "indicator.update(new_indicator)"
   ]
  },
  {
   "cell_type": "markdown",
   "metadata": {},
   "source": [
    "#### Verifying"
   ]
  },
  {
   "cell_type": "code",
   "execution_count": 19,
   "metadata": {},
   "outputs": [],
   "source": [
    "vz_init = myHub.initiatives.get(initiativeId)"
   ]
  },
  {
   "cell_type": "code",
   "execution_count": 20,
   "metadata": {},
   "outputs": [
    {
     "data": {
      "text/plain": [
       "[<Indicator id:\"streetCrashes\" optional:False>,\n",
       " <Indicator id:\"boundary\" optional:False>,\n",
       " <Indicator id:\"demographics\" optional:False>]"
      ]
     },
     "execution_count": 20,
     "metadata": {},
     "output_type": "execute_result"
    }
   ],
   "source": [
    "vz_init.indicators.search()"
   ]
  },
  {
   "cell_type": "markdown",
   "metadata": {},
   "source": [
    "We have successfully verified the indicator update."
   ]
  },
  {
   "cell_type": "markdown",
   "metadata": {},
   "source": [
    "#### Deleting this indicator"
   ]
  },
  {
   "cell_type": "markdown",
   "metadata": {},
   "source": [
    "To delete an indicator, you `get` it first and then `delete` it"
   ]
  },
  {
   "cell_type": "code",
   "execution_count": 21,
   "metadata": {},
   "outputs": [],
   "source": [
    "indicator = vz_init.indicators.get('demographics')"
   ]
  },
  {
   "cell_type": "code",
   "execution_count": 22,
   "metadata": {},
   "outputs": [
    {
     "data": {
      "text/plain": [
       "True"
      ]
     },
     "execution_count": 22,
     "metadata": {},
     "output_type": "execute_result"
    }
   ],
   "source": [
    "indicator.delete()"
   ]
  },
  {
   "cell_type": "markdown",
   "metadata": {},
   "source": [
    "#### Verifying"
   ]
  },
  {
   "cell_type": "code",
   "execution_count": 23,
   "metadata": {},
   "outputs": [],
   "source": [
    "vz_init = myHub.initiatives.get(initiativeId)"
   ]
  },
  {
   "cell_type": "code",
   "execution_count": 24,
   "metadata": {},
   "outputs": [
    {
     "data": {
      "text/plain": [
       "[<Indicator id:\"streetCrashes\" optional:False>,\n",
       " <Indicator id:\"boundary\" optional:False>]"
      ]
     },
     "execution_count": 24,
     "metadata": {},
     "output_type": "execute_result"
    }
   ],
   "source": [
    "vz_init.indicators.search()"
   ]
  },
  {
   "cell_type": "code",
   "execution_count": null,
   "metadata": {},
   "outputs": [],
   "source": []
  }
 ],
 "metadata": {
  "kernelspec": {
   "display_name": "Python 3",
   "language": "python",
   "name": "python3"
  },
  "language_info": {
   "codemirror_mode": {
    "name": "ipython",
    "version": 3
   },
   "file_extension": ".py",
   "mimetype": "text/x-python",
   "name": "python",
   "nbconvert_exporter": "python",
   "pygments_lexer": "ipython3",
   "version": "3.7.1"
  }
 },
 "nbformat": 4,
 "nbformat_minor": 2
}
