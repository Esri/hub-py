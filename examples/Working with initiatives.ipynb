{
 "cells": [
  {
   "cell_type": "code",
   "execution_count": 1,
   "metadata": {},
   "outputs": [],
   "source": [
    "from arcgishub import hub"
   ]
  },
  {
   "cell_type": "code",
   "execution_count": 3,
   "metadata": {},
   "outputs": [
    {
     "name": "stdout",
     "output_type": "stream",
     "text": [
      "Enter password: ········\n"
     ]
    }
   ],
   "source": [
    "myHub = hub.Hub(\"https://www.arcgis.com\", 'mmajumdar_dcdev')"
   ]
  },
  {
   "cell_type": "markdown",
   "metadata": {},
   "source": [
    "#### Fetching a single initiative"
   ]
  },
  {
   "cell_type": "code",
   "execution_count": 4,
   "metadata": {},
   "outputs": [],
   "source": [
    "walkability_init = myHub.initiatives.get('07fad5be49da45bea02c8f5b0876be24')"
   ]
  },
  {
   "cell_type": "code",
   "execution_count": 5,
   "metadata": {},
   "outputs": [
    {
     "data": {
      "text/html": [
       "<div class=\"item_container\" style=\"height: auto; overflow: hidden; border: 1px solid #cfcfcf; border-radius: 2px; background: #f6fafa; line-height: 1.21429em; padding: 10px;\">\n",
       "                    <div class=\"item_left\" style=\"width: 210px; float: left;\">\n",
       "                       <a href='https://dcdev.maps.arcgis.com/home/item.html?id=07fad5be49da45bea02c8f5b0876be24' target='_blank'>\n",
       "                        <img src='http://static.arcgis.com/images/desktopapp.png' class=\"itemThumbnail\">\n",
       "                       </a>\n",
       "                    </div>\n",
       "\n",
       "                    <div class=\"item_right\"     style=\"float: none; width: auto; overflow: hidden;\">\n",
       "                        <a href='https://dcdev.maps.arcgis.com/home/item.html?id=07fad5be49da45bea02c8f5b0876be24' target='_blank'><b>Walkability Assessment </b>\n",
       "                        </a>\n",
       "                        <br/>Create your own initiative by combining existing applications with a custom site. Use this initiative to form teams around a problem and invite your community to participate.<img src='https://dcdev.maps.arcgis.com/home/js/jsapi/esri/css/images/item_type_icons/layers16.png' style=\"vertical-align:middle;\">Hub Initiative by mmajumdar_dcdev\n",
       "                        <br/>Last Modified: March 05, 2019\n",
       "                        <br/>0 comments, 21 views\n",
       "                    </div>\n",
       "                </div>\n",
       "                "
      ],
      "text/plain": [
       "<Item title:\"Walkability Assessment \" type:Hub Initiative owner:mmajumdar_dcdev>"
      ]
     },
     "execution_count": 5,
     "metadata": {},
     "output_type": "execute_result"
    }
   ],
   "source": [
    "walkability_init.item"
   ]
  },
  {
   "cell_type": "code",
   "execution_count": 6,
   "metadata": {},
   "outputs": [
    {
     "data": {
      "text/plain": [
       "'07fad5be49da45bea02c8f5b0876be24'"
      ]
     },
     "execution_count": 6,
     "metadata": {},
     "output_type": "execute_result"
    }
   ],
   "source": [
    "walkability_init.itemId"
   ]
  },
  {
   "cell_type": "markdown",
   "metadata": {},
   "source": [
    "#### Searching for initiatives"
   ]
  },
  {
   "cell_type": "code",
   "execution_count": 7,
   "metadata": {},
   "outputs": [
    {
     "data": {
      "text/plain": [
       "[<Initiative title:\"Vision Zero - Demo (can be deleted)\" owner:mshofner_dcdev>,\n",
       " <Initiative title:\"Vision Zero - DC [JPP]\" owner:jprather_dcdev>,\n",
       " <Initiative title:\"Vision Zero Survey\" owner:aturner>,\n",
       " <Initiative title:\"Vision Zero_bw\" owner:BWolfe_dcdev>,\n",
       " <Initiative title:\"Vision Zero Tags\" owner:aturner>,\n",
       " <Initiative title:\"Nullvisjonen (Vision Zero) - v180115\" owner:ghudgins5>,\n",
       " <Initiative title:\"Vision Zero ManushiM\" owner:mmajumdar_dcdev>,\n",
       " <Initiative title:\"Vision Zero Palm Springs\" owner:aturner>,\n",
       " <Initiative title:\"Vision Zero with Collision Lens App Florida\" owner:mmajumdar_dcdev>,\n",
       " <Initiative title:\"Vision Zero Marvin\" owner:mperry_dcdev>,\n",
       " <Initiative title:\"Vision Zero - Graham\" owner:ghudgins5>,\n",
       " <Initiative title:\"Vision Zero - courtney\" owner:cclaessens>,\n",
       " <Initiative title:\"Vision Zero Test KC\" owner:kcarl_dcdev>,\n",
       " <Initiative title:\"Vision Zero Patrick\" owner:phammons_dcdev>,\n",
       " <Initiative title:\"Vision Zero Rosslyn\" owner:aturner>,\n",
       " <Initiative title:\"Vision Zero San Diego\" owner:aturner>,\n",
       " <Initiative title:\"Nullvisjonen (Vision Zero)\" owner:ghudgins5>,\n",
       " <Initiative title:\"Vision Zero DCKC\" owner:kcarl_dcdev>,\n",
       " <Initiative title:\"Klara Vision Zero\" owner:klaras>,\n",
       " <Initiative title:\"Vision Zero - coco testing\" owner:cclaessens>,\n",
       " <Initiative title:\"Vision Zero Maine Demo\" owner:phammons_dcdev>,\n",
       " <Initiative title:\"Vision Zero - v181203\" owner:ghudgins5>,\n",
       " <Initiative title:\"Doc Vision Zero\" owner:KThompson_dcdev>,\n",
       " <Initiative title:\"Vision Zero - Survey Demo\" owner:aturner>,\n",
       " <Initiative title:\"KT- Usability Test 4 Vision Zero\" owner:KThompson_dcdev>,\n",
       " <Initiative title:\"Vision Zero Tornado\" owner:aturner>,\n",
       " <Initiative title:\"Vision Zero - Can be deleted 99\" owner:mshofner_dcdev>,\n",
       " <Initiative title:\"Vision Zero - Audit\" owner:ghudgins5>,\n",
       " <Initiative title:\"Vision Zero INdicators\" owner:aturner>,\n",
       " <Initiative title:\"Vision Zero Manushi\" owner:mmajumdar_dcdev>,\n",
       " <Initiative title:\"Vision Zero dc\" owner:aturner>,\n",
       " <Initiative title:\"Vision Zero - v180628\" owner:ghudgins5>,\n",
       " <Initiative title:\"JMDC Vision Zero\" owner:jmendez1>,\n",
       " <Initiative title:\"Vision Zero Dave Demo\" owner:dbouwman>,\n",
       " <Initiative title:\"Vision Zero 1\" owner:mmajumdar_dcdev>,\n",
       " <Initiative title:\"Katie and Manushi's Vision Zero\" owner:KThompson_dcdev>,\n",
       " <Initiative title:\"Vision Zero v171004\" owner:ghudgins5>,\n",
       " <Initiative title:\"Vision Zero Lund\" owner:aturner>,\n",
       " <Initiative title:\"Test_Vision_Zero_AARON\" owner:aweinstock_dcdev>,\n",
       " <Initiative title:\"Vision Zero - DevSummit\" owner:mmajumdar_dcdev>]"
      ]
     },
     "execution_count": 7,
     "metadata": {},
     "output_type": "execute_result"
    }
   ],
   "source": [
    "myHub.initiatives.search(title='Vision Zero', tags='Hub')"
   ]
  },
  {
   "cell_type": "markdown",
   "metadata": {},
   "source": [
    "#### Adding initiatives"
   ]
  },
  {
   "cell_type": "code",
   "execution_count": 8,
   "metadata": {},
   "outputs": [],
   "source": [
    "item_dict = {\"type\":\"Hub Initiative\", \"typekeywords\":\"Open Data\", \"title\":\"Python add initiative\", 'description': 'filling something in'}"
   ]
  },
  {
   "cell_type": "code",
   "execution_count": 9,
   "metadata": {},
   "outputs": [],
   "source": [
    "i = myHub.initiatives.add(item_dict)"
   ]
  },
  {
   "cell_type": "code",
   "execution_count": 10,
   "metadata": {},
   "outputs": [
    {
     "data": {
      "text/html": [
       "<div class=\"item_container\" style=\"height: auto; overflow: hidden; border: 1px solid #cfcfcf; border-radius: 2px; background: #f6fafa; line-height: 1.21429em; padding: 10px;\">\n",
       "                    <div class=\"item_left\" style=\"width: 210px; float: left;\">\n",
       "                       <a href='https://dcdev.maps.arcgis.com/home/item.html?id=48b5d1c575ed4f128e60b1f5660b9a5c' target='_blank'>\n",
       "                        <img src='http://static.arcgis.com/images/desktopapp.png' class=\"itemThumbnail\">\n",
       "                       </a>\n",
       "                    </div>\n",
       "\n",
       "                    <div class=\"item_right\"     style=\"float: none; width: auto; overflow: hidden;\">\n",
       "                        <a href='https://dcdev.maps.arcgis.com/home/item.html?id=48b5d1c575ed4f128e60b1f5660b9a5c' target='_blank'><b>Python add initiative</b>\n",
       "                        </a>\n",
       "                        <br/><img src='https://dcdev.maps.arcgis.com/home/js/jsapi/esri/css/images/item_type_icons/layers16.png' style=\"vertical-align:middle;\">Hub Initiative by mmajumdar_dcdev\n",
       "                        <br/>Last Modified: March 18, 2019\n",
       "                        <br/>0 comments, 0 views\n",
       "                    </div>\n",
       "                </div>\n",
       "                "
      ],
      "text/plain": [
       "<Item title:\"Python add initiative\" type:Hub Initiative owner:mmajumdar_dcdev>"
      ]
     },
     "execution_count": 10,
     "metadata": {},
     "output_type": "execute_result"
    }
   ],
   "source": [
    "i.item"
   ]
  },
  {
   "cell_type": "markdown",
   "metadata": {},
   "source": [
    "#### Updating this initiative"
   ]
  },
  {
   "cell_type": "code",
   "execution_count": 11,
   "metadata": {},
   "outputs": [],
   "source": [
    "item_dict['title'] = 'Python update initiative'"
   ]
  },
  {
   "cell_type": "code",
   "execution_count": 12,
   "metadata": {},
   "outputs": [
    {
     "data": {
      "text/plain": [
       "True"
      ]
     },
     "execution_count": 12,
     "metadata": {},
     "output_type": "execute_result"
    }
   ],
   "source": [
    "i.update(initiative_properties=item_dict)"
   ]
  },
  {
   "cell_type": "code",
   "execution_count": 13,
   "metadata": {},
   "outputs": [
    {
     "data": {
      "text/html": [
       "<div class=\"item_container\" style=\"height: auto; overflow: hidden; border: 1px solid #cfcfcf; border-radius: 2px; background: #f6fafa; line-height: 1.21429em; padding: 10px;\">\n",
       "                    <div class=\"item_left\" style=\"width: 210px; float: left;\">\n",
       "                       <a href='https://dcdev.maps.arcgis.com/home/item.html?id=48b5d1c575ed4f128e60b1f5660b9a5c' target='_blank'>\n",
       "                        <img src='http://static.arcgis.com/images/desktopapp.png' class=\"itemThumbnail\">\n",
       "                       </a>\n",
       "                    </div>\n",
       "\n",
       "                    <div class=\"item_right\"     style=\"float: none; width: auto; overflow: hidden;\">\n",
       "                        <a href='https://dcdev.maps.arcgis.com/home/item.html?id=48b5d1c575ed4f128e60b1f5660b9a5c' target='_blank'><b>Python update initiative</b>\n",
       "                        </a>\n",
       "                        <br/><img src='https://dcdev.maps.arcgis.com/home/js/jsapi/esri/css/images/item_type_icons/layers16.png' style=\"vertical-align:middle;\">Hub Initiative by mmajumdar_dcdev\n",
       "                        <br/>Last Modified: March 18, 2019\n",
       "                        <br/>0 comments, 0 views\n",
       "                    </div>\n",
       "                </div>\n",
       "                "
      ],
      "text/plain": [
       "<Item title:\"Python update initiative\" type:Hub Initiative owner:mmajumdar_dcdev>"
      ]
     },
     "execution_count": 13,
     "metadata": {},
     "output_type": "execute_result"
    }
   ],
   "source": [
    "i.item"
   ]
  },
  {
   "cell_type": "markdown",
   "metadata": {},
   "source": [
    "#### Deleting initiative"
   ]
  },
  {
   "cell_type": "code",
   "execution_count": 14,
   "metadata": {},
   "outputs": [
    {
     "data": {
      "text/plain": [
       "True"
      ]
     },
     "execution_count": 14,
     "metadata": {},
     "output_type": "execute_result"
    }
   ],
   "source": [
    "i.delete()"
   ]
  },
  {
   "cell_type": "code",
   "execution_count": null,
   "metadata": {},
   "outputs": [],
   "source": []
  }
 ],
 "metadata": {
  "kernelspec": {
   "display_name": "Python 3",
   "language": "python",
   "name": "python3"
  },
  "language_info": {
   "codemirror_mode": {
    "name": "ipython",
    "version": 3
   },
   "file_extension": ".py",
   "mimetype": "text/x-python",
   "name": "python",
   "nbconvert_exporter": "python",
   "pygments_lexer": "ipython3",
   "version": "3.7.1"
  }
 },
 "nbformat": 4,
 "nbformat_minor": 2
}
