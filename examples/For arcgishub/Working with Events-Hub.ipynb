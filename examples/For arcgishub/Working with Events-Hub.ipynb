{
 "cells": [
  {
   "cell_type": "markdown",
   "metadata": {},
   "source": [
    "### Working with Events"
   ]
  },
  {
   "cell_type": "markdown",
   "metadata": {},
   "source": [
    "ArcGIS Hub supports engagement through in-person and virtual events.\n",
    "\n",
    "Events are meetings for people to support an Initiative. Events are scheduled by an organizer and have many attendees. An Event has a Group so that they can include content for preparation as well as gather and archive content during the event for later retrieval or analysis.\n",
    "\n",
    "A Hub has many Events that can be associated with an Initiative."
   ]
  },
  {
   "cell_type": "code",
   "execution_count": 1,
   "metadata": {},
   "outputs": [],
   "source": [
    "from arcgishub import hub"
   ]
  },
  {
   "cell_type": "code",
   "execution_count": 9,
   "metadata": {},
   "outputs": [
    {
     "name": "stdout",
     "output_type": "stream",
     "text": [
      "Enter password: ········\n"
     ]
    }
   ],
   "source": [
    "myhub = hub.Hub(\"https://dcdev.maps.arcgis.com\", 'mmajumdar_dcdev')"
   ]
  },
  {
   "cell_type": "markdown",
   "metadata": {},
   "source": [
    "#### Searching for events\n",
    "\n",
    "You can search for `events` of a Hub using the following parameters:\n",
    "* `initiative_id`\n",
    "* `title`\n",
    "* `venue`\n",
    "* `organizer_name`"
   ]
  },
  {
   "cell_type": "code",
   "execution_count": 3,
   "metadata": {},
   "outputs": [
    {
     "data": {
      "text/plain": [
       "[<Event title:\"Test\" venue:White House>,\n",
       " <Event title:\"Bicycle Lanes in Ward 8\" venue:Anacostia Neighborhood Library>,\n",
       " <Event title:\"Neighborhood Kickoff\" venue:>,\n",
       " <Event title:\"Hub Onsite Kickoff\" venue:>,\n",
       " <Event title:\"Hub Home brainstorming\" venue:>,\n",
       " <Event title:\"Onsite Wrap-up\" venue:>,\n",
       " <Event title:\"Esri GeoDev Meetup\" venue:>,\n",
       " <Event title:\"Volunteer Fair\" venue:John Marshall Park>,\n",
       " <Event title:\"Park Clean Up \" venue:Benjamin Banneker Park>,\n",
       " <Event title:\"Test Event to create a site\" venue:>,\n",
       " <Event title:\"Test Attendance\" venue:The White House>,\n",
       " <Event title:\"Test 2\" venue:The White House>,\n",
       " <Event title:\"New Event\" venue:>,\n",
       " <Event title:\"Does this event show up?\" venue:>,\n",
       " <Event title:\"Hub Reading: National Geographic Cities\" venue:>,\n",
       " <Event title:\"Planning the Walkable Geneva Initiative\" venue:Intercontinental>,\n",
       " <Event title:\"Hub Reading - Arnstein’s ladder of citizen participation\" venue:>,\n",
       " <Event title:\"Hub Card Sorting Activity\" venue:>,\n",
       " <Event title:\"Neighborhood Watch Event\" venue:Chicago>,\n",
       " <Event title:\"Learn how to Protect Your Home from Floods\" venue:>,\n",
       " <Event title:\"Rob's first event\" venue:>,\n",
       " <Event title:\"py event\" venue:Washington Monument>,\n",
       " <Event title:\"does v3 work?\" venue:Washington Monument>]"
      ]
     },
     "execution_count": 3,
     "metadata": {},
     "output_type": "execute_result"
    }
   ],
   "source": [
    "myhub.events.search()"
   ]
  },
  {
   "cell_type": "code",
   "execution_count": 4,
   "metadata": {},
   "outputs": [
    {
     "data": {
      "text/plain": [
       "[<Event title:\"Hub Onsite Kickoff\" venue:>,\n",
       " <Event title:\"Hub Home brainstorming\" venue:>,\n",
       " <Event title:\"Hub Reading: National Geographic Cities\" venue:>,\n",
       " <Event title:\"Hub Reading - Arnstein’s ladder of citizen participation\" venue:>,\n",
       " <Event title:\"Hub Card Sorting Activity\" venue:>]"
      ]
     },
     "execution_count": 4,
     "metadata": {},
     "output_type": "execute_result"
    }
   ],
   "source": [
    "myhub.events.search(title='Hub')"
   ]
  },
  {
   "cell_type": "code",
   "execution_count": 7,
   "metadata": {},
   "outputs": [
    {
     "data": {
      "text/plain": [
       "[<Event title:\"py event\" venue:Washington Monument>,\n",
       " <Event title:\"does v3 work?\" venue:Washington Monument>]"
      ]
     },
     "execution_count": 7,
     "metadata": {},
     "output_type": "execute_result"
    }
   ],
   "source": [
    "myhub.events.search(organizer_name='Manushi')"
   ]
  },
  {
   "cell_type": "markdown",
   "metadata": {},
   "source": [
    "#### Fetching an event"
   ]
  },
  {
   "cell_type": "markdown",
   "metadata": {},
   "source": [
    "You can fetch a particular event by passing in the event id to the `get()` method"
   ]
  },
  {
   "cell_type": "code",
   "execution_count": 10,
   "metadata": {},
   "outputs": [
    {
     "data": {
      "text/plain": [
       "<Event title:\"Bicycle Lanes in Ward 8\" venue:Anacostia Neighborhood Library>"
      ]
     },
     "execution_count": 10,
     "metadata": {},
     "output_type": "execute_result"
    }
   ],
   "source": [
    "event1 = myhub.events.get(2)\n",
    "event1"
   ]
  },
  {
   "cell_type": "markdown",
   "metadata": {},
   "source": [
    "#### Accessing properties of an event"
   ]
  },
  {
   "cell_type": "markdown",
   "metadata": {},
   "source": [
    "You can access properties of an event as follows:"
   ]
  },
  {
   "cell_type": "code",
   "execution_count": 11,
   "metadata": {},
   "outputs": [
    {
     "data": {
      "text/plain": [
       "1540654200000"
      ]
     },
     "execution_count": 11,
     "metadata": {},
     "output_type": "execute_result"
    }
   ],
   "source": [
    "event1.start_date"
   ]
  },
  {
   "cell_type": "code",
   "execution_count": 13,
   "metadata": {},
   "outputs": [
    {
     "data": {
      "text/plain": [
       "'caf0f1b59f084ff5aae6ecc8ee315dcf'"
      ]
     },
     "execution_count": 13,
     "metadata": {},
     "output_type": "execute_result"
    }
   ],
   "source": [
    "event1.site_id"
   ]
  },
  {
   "cell_type": "code",
   "execution_count": 14,
   "metadata": {},
   "outputs": [
    {
     "data": {
      "text/plain": [
       "'[{\"name\":\"Justin Prather\",\"contact\":\"j.prather@esri.com\"}]'"
      ]
     },
     "execution_count": 14,
     "metadata": {},
     "output_type": "execute_result"
    }
   ],
   "source": [
    "event1.organizers"
   ]
  },
  {
   "cell_type": "markdown",
   "metadata": {},
   "source": [
    "#### Visualize all events on a map"
   ]
  },
  {
   "cell_type": "code",
   "execution_count": 10,
   "metadata": {},
   "outputs": [
    {
     "data": {
      "application/vnd.jupyter.widget-view+json": {
       "model_id": "8f6f92c26ce141a1a379f137277dd763",
       "version_major": 2,
       "version_minor": 0
      },
      "text/plain": [
       "MapView(layout=Layout(height='400px', width='100%'), zoom=2.0)"
      ]
     },
     "metadata": {},
     "output_type": "display_data"
    },
    {
     "data": {
      "text/html": [
       "<div class=\"map-static-img-preview-d1415867-156b-47ce-abed-e7e3e0be029c\"><img src=\"\"></img></div>"
      ],
      "text/plain": [
       "<IPython.core.display.HTML object>"
      ]
     },
     "metadata": {},
     "output_type": "display_data"
    }
   ],
   "source": [
    "myHub.events.get_map()"
   ]
  },
  {
   "cell_type": "markdown",
   "metadata": {},
   "source": [
    "![event_map](https://user-images.githubusercontent.com/13968196/54644431-a31e2d80-4a6f-11e9-845a-96998ef6b082.PNG)"
   ]
  },
  {
   "cell_type": "markdown",
   "metadata": {},
   "source": [
    "#### Adding a new event"
   ]
  },
  {
   "cell_type": "markdown",
   "metadata": {},
   "source": [
    "You can add a new event by passing the necessary attributes as `event_properties` to the `add()` method.\n",
    "\n",
    "Follow through the example below for required attributes."
   ]
  },
  {
   "cell_type": "code",
   "execution_count": 3,
   "metadata": {},
   "outputs": [],
   "source": [
    "event_properties = {\n",
    "    \"title\":\"New event\",\n",
    "    'description': 'Testing with python',\n",
    "    'initiativeId': '6851eaf788fe4a249336d2ae1117d350',\n",
    "    'venue': 'ESRI R&D Center',\n",
    "    'address1': '1001 19th St N #910, Arlington, VA 22209',\n",
    "    'status': 'planned',\n",
    "    'startDate': 1563667200,\n",
    "    'endDate': 1563753600,\n",
    "    'isAllDay': 1\n",
    "}"
   ]
  },
  {
   "cell_type": "code",
   "execution_count": 4,
   "metadata": {},
   "outputs": [
    {
     "data": {
      "text/plain": [
       "<Event title:\"New event\" venue:ESRI R&D Center>"
      ]
     },
     "execution_count": 4,
     "metadata": {},
     "output_type": "execute_result"
    }
   ],
   "source": [
    "new_event = myhub.events.add(event_properties)\n",
    "new_event"
   ]
  },
  {
   "cell_type": "markdown",
   "metadata": {},
   "source": [
    "#### Update an event"
   ]
  },
  {
   "cell_type": "markdown",
   "metadata": {},
   "source": [
    "In order to update an event, pass the particular attributes that need updating to the `event_properties` parameter"
   ]
  },
  {
   "cell_type": "code",
   "execution_count": 4,
   "metadata": {},
   "outputs": [
    {
     "data": {
      "text/plain": [
       "True"
      ]
     },
     "execution_count": 4,
     "metadata": {},
     "output_type": "execute_result"
    }
   ],
   "source": [
    "new_event.update(event_properties={'status':'private'})"
   ]
  },
  {
   "cell_type": "code",
   "execution_count": 6,
   "metadata": {},
   "outputs": [
    {
     "data": {
      "text/plain": [
       "'planned'"
      ]
     },
     "execution_count": 6,
     "metadata": {},
     "output_type": "execute_result"
    }
   ],
   "source": [
    "new_event.access"
   ]
  },
  {
   "cell_type": "markdown",
   "metadata": {},
   "source": [
    "#### Delete an event"
   ]
  },
  {
   "cell_type": "code",
   "execution_count": 8,
   "metadata": {},
   "outputs": [
    {
     "data": {
      "text/plain": [
       "True"
      ]
     },
     "execution_count": 8,
     "metadata": {},
     "output_type": "execute_result"
    }
   ],
   "source": [
    "new_event.delete()"
   ]
  },
  {
   "cell_type": "code",
   "execution_count": null,
   "metadata": {},
   "outputs": [],
   "source": []
  }
 ],
 "metadata": {
  "kernelspec": {
   "display_name": "Python 3",
   "language": "python",
   "name": "python3"
  },
  "language_info": {
   "codemirror_mode": {
    "name": "ipython",
    "version": 3
   },
   "file_extension": ".py",
   "mimetype": "text/x-python",
   "name": "python",
   "nbconvert_exporter": "python",
   "pygments_lexer": "ipython3",
   "version": "3.7.1"
  }
 },
 "nbformat": 4,
 "nbformat_minor": 2
}
