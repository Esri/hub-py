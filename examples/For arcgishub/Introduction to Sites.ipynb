{
 "cells": [
  {
   "cell_type": "code",
   "execution_count": 1,
   "metadata": {},
   "outputs": [],
   "source": [
    "from arcgishub.hub import Hub"
   ]
  },
  {
   "cell_type": "code",
   "execution_count": 2,
   "metadata": {},
   "outputs": [],
   "source": [
    "myhub = Hub(\"https://dcdev.maps.arcgis.com/\", \"mmajumdar_dcdev\", \"password\")"
   ]
  },
  {
   "cell_type": "markdown",
   "metadata": {},
   "source": [
    "### Creating initiative with site"
   ]
  },
  {
   "cell_type": "code",
   "execution_count": 12,
   "metadata": {},
   "outputs": [
    {
     "data": {
      "text/html": [
       "<div class=\"item_container\" style=\"height: auto; overflow: hidden; border: 1px solid #cfcfcf; border-radius: 2px; background: #f6fafa; line-height: 1.21429em; padding: 10px;\">\n",
       "                    <div class=\"item_left\" style=\"width: 210px; float: left;\">\n",
       "                       <a href='https://dcdev.maps.arcgis.com/home/item.html?id=0acd2f0e284543279d49d9f88d6e5f7e' target='_blank'>\n",
       "                        <img src='http://static.arcgis.com/images/desktopapp.png' class=\"itemThumbnail\">\n",
       "                       </a>\n",
       "                    </div>\n",
       "\n",
       "                    <div class=\"item_right\"     style=\"float: none; width: auto; overflow: hidden;\">\n",
       "                        <a href='https://dcdev.maps.arcgis.com/home/item.html?id=0acd2f0e284543279d49d9f88d6e5f7e' target='_blank'><b>in-site</b>\n",
       "                        </a>\n",
       "                        <br/>in-site Custom initiative<img src='https://dcdev.maps.arcgis.com/home/js/jsapi/esri/css/images/item_type_icons/layers16.png' style=\"vertical-align:middle;\">Hub Initiative by mmajumdar_dcdev\n",
       "                        <br/>Last Modified: June 28, 2019\n",
       "                        <br/>0 comments, 1 views\n",
       "                    </div>\n",
       "                </div>\n",
       "                "
      ],
      "text/plain": [
       "<Item title:\"in-site\" type:Hub Initiative owner:mmajumdar_dcdev>"
      ]
     },
     "execution_count": 12,
     "metadata": {},
     "output_type": "execute_result"
    }
   ],
   "source": [
    "initiative1 = myhub.initiatives.add(title='in-site')\n",
    "initiative1.item"
   ]
  },
  {
   "cell_type": "code",
   "execution_count": null,
   "metadata": {},
   "outputs": [],
   "source": [
    "s = myhub.sites.get('ce95fd5bc0714a4bb13e9fe5f9339778')\n",
    "s.delete()"
   ]
  },
  {
   "cell_type": "code",
   "execution_count": 29,
   "metadata": {},
   "outputs": [
    {
     "data": {
      "text/plain": [
       "'78d993c018684ac69904f71ed029db8e'"
      ]
     },
     "execution_count": 29,
     "metadata": {},
     "output_type": "execute_result"
    }
   ],
   "source": [
    "initiative1.definition['steps'][0]['itemIds'][0]"
   ]
  },
  {
   "cell_type": "markdown",
   "metadata": {},
   "source": [
    "### Creating open data site"
   ]
  },
  {
   "cell_type": "code",
   "execution_count": null,
   "metadata": {},
   "outputs": [],
   "source": [
    "title = 'python Open Data site'\n",
    "myhub.sites.add(title=title, domain=title, group_id='ad321eb4f9ee4b479cc284fcac9af3e4')"
   ]
  },
  {
   "cell_type": "code",
   "execution_count": null,
   "metadata": {},
   "outputs": [],
   "source": []
  },
  {
   "cell_type": "markdown",
   "metadata": {},
   "source": [
    "### Searching for sites"
   ]
  },
  {
   "cell_type": "code",
   "execution_count": null,
   "metadata": {},
   "outputs": [],
   "source": [
    "site = myhub.sites.search(title=title, owner='mmajumdar_dcdev')[0]\n",
    "site.item"
   ]
  },
  {
   "cell_type": "code",
   "execution_count": null,
   "metadata": {},
   "outputs": [],
   "source": [
    "site.definition"
   ]
  },
  {
   "cell_type": "markdown",
   "metadata": {},
   "source": [
    "### Fetching a site"
   ]
  },
  {
   "cell_type": "code",
   "execution_count": null,
   "metadata": {},
   "outputs": [],
   "source": [
    "s = myhub.sites.get('4f35486deef34f36b84ec857951f7d4a')"
   ]
  },
  {
   "cell_type": "code",
   "execution_count": null,
   "metadata": {},
   "outputs": [],
   "source": [
    "s.url[8:]"
   ]
  },
  {
   "cell_type": "markdown",
   "metadata": {},
   "source": [
    "### Update and Delete a site"
   ]
  },
  {
   "cell_type": "code",
   "execution_count": null,
   "metadata": {},
   "outputs": [],
   "source": [
    "s_del = myhub.sites.add(title='Delete me', domain='delete-me3', group_id='ad321eb4f9ee4b479cc284fcac9af3e4')\n",
    "s_del"
   ]
  },
  {
   "cell_type": "code",
   "execution_count": null,
   "metadata": {},
   "outputs": [],
   "source": [
    "print(s_del.description)"
   ]
  },
  {
   "cell_type": "code",
   "execution_count": null,
   "metadata": {},
   "outputs": [],
   "source": [
    "s_del.update(site_properties={'description': 'Testing site update'})"
   ]
  },
  {
   "cell_type": "code",
   "execution_count": null,
   "metadata": {},
   "outputs": [],
   "source": [
    "print(s_del.description)"
   ]
  },
  {
   "cell_type": "code",
   "execution_count": null,
   "metadata": {},
   "outputs": [],
   "source": [
    "s_del.itemid"
   ]
  },
  {
   "cell_type": "code",
   "execution_count": null,
   "metadata": {},
   "outputs": [],
   "source": [
    "s_del.delete()"
   ]
  },
  {
   "cell_type": "markdown",
   "metadata": {},
   "source": [
    "### Verify deletion"
   ]
  },
  {
   "cell_type": "code",
   "execution_count": null,
   "metadata": {},
   "outputs": [],
   "source": [
    "myhub.sites.get(s_del.itemid)"
   ]
  },
  {
   "cell_type": "markdown",
   "metadata": {},
   "source": [
    "### Copy a site"
   ]
  },
  {
   "cell_type": "code",
   "execution_count": 13,
   "metadata": {},
   "outputs": [
    {
     "data": {
      "text/html": [
       "<div class=\"item_container\" style=\"height: auto; overflow: hidden; border: 1px solid #cfcfcf; border-radius: 2px; background: #f6fafa; line-height: 1.21429em; padding: 10px;\">\n",
       "                    <div class=\"item_left\" style=\"width: 210px; float: left;\">\n",
       "                       <a href='https://dcdev.maps.arcgis.com/home/item.html?id=38fe239fb959490ea594a4b886904482' target='_blank'>\n",
       "                        <img src='data:image/png;base64,iVBORw0KGgoAAAANSUhEUgAAAMgAAACFCAYAAAAenrcsAAAACXBIWXMAAAsSAAALEgHS3X78AAACgklEQVR42u3dP27TUADH8V9oJqYs7HCDbFFmBpi4Qgp7ogapiE5V50q4cnaUXIGtG2PaKTfgCmFBsDEQZkL1HJvw+RzAsf3y1Xt2/riXBk1n80GS0ySTJMNAOZskqyTLRV1tm3qRXoNxnCW5TDIwljRom+RqUVc3/0Qgu1mj2s0ccCjLJPPSs0m/gR0VB234/Z57XXKjJw0sq94bK1oyHI3GX+/v1uvOLbF2S6svrjnowDXJs1JLrUeFpzhx0LZBySV+yUAmxoaOmHQxEJ9z0JlrkS4GAkdHICAQeJh+a6/84q2zz/5uP5hBwBILBAICAYGAQACBgEBAICAQEAgIBAQCAgGBAAIBgYBAQCBweK39Jv36+RNnn72d35pBwBILBAICAYGAQACBgEBAIHAg/WM7oG+f3nR+Hx+/+ujYzCAgEBAICAQQCAgEBAICAYGAQEAgIBAQCCAQEAgIBAQCAgGBgEBAICAQEAggEBAICAQEAgIBgYBA4Igc3eMPju3v9/+XYzODgEBAICAQQCAgEHgoT7ltgafcmkFAICAQEAggEBAICAQEAgIBgYBAQCAgEEAgIBAQCAgEBAICAYGAQEAgIBBAICAQEAgIBAQCAgGBwHHxlFvHhhkEBAICAYGAQEAgIBAQCAgEEAjsqbWvmpy/u3D2MYOAQEAgf7RxOumITRcDWRkXOmLVxUCWSbbGhpZtd+/FIk5Kbej+bv19NBr/SPLSGNGii0Vdfe5cILtI1qPR+GmSoXGiBctFXRX9/KCJu1jzklMc/MUSf156o72m9nY6m58luUwyMHY0fM1xtairmyY23mtyz6ez+SDJaZKJZReFbfLrbtVyUVeN3Rz6CdebXmXkLnGpAAAAAElFTkSuQmCC' width='200' height='133' class=\"itemThumbnail\">\n",
       "                       </a>\n",
       "                    </div>\n",
       "\n",
       "                    <div class=\"item_right\"     style=\"float: none; width: auto; overflow: hidden;\">\n",
       "                        <a href='https://dcdev.maps.arcgis.com/home/item.html?id=38fe239fb959490ea594a4b886904482' target='_blank'><b>Manushi test</b>\n",
       "                        </a>\n",
       "                        <br/><img src='https://dcdev.maps.arcgis.com/home/js/jsapi/esri/css/images/item_type_icons/layers16.png' style=\"vertical-align:middle;\">Hub Site Application by mmajumdar_dcdev\n",
       "                        <br/>Last Modified: June 06, 2019\n",
       "                        <br/>0 comments, 34 views\n",
       "                    </div>\n",
       "                </div>\n",
       "                "
      ],
      "text/plain": [
       "<Item title:\"Manushi test\" type:Hub Site Application owner:mmajumdar_dcdev>"
      ]
     },
     "execution_count": 13,
     "metadata": {},
     "output_type": "execute_result"
    }
   ],
   "source": [
    "s = myhub.sites.get('38fe239fb959490ea594a4b886904482')\n",
    "s.item"
   ]
  },
  {
   "cell_type": "code",
   "execution_count": 14,
   "metadata": {},
   "outputs": [
    {
     "data": {
      "text/html": [
       "<div class=\"item_container\" style=\"height: auto; overflow: hidden; border: 1px solid #cfcfcf; border-radius: 2px; background: #f6fafa; line-height: 1.21429em; padding: 10px;\">\n",
       "                    <div class=\"item_left\" style=\"width: 210px; float: left;\">\n",
       "                       <a href='https://dcdev.maps.arcgis.com/home/item.html?id=cb590985aef04d53b4e1ad2555f3788b' target='_blank'>\n",
       "                        <img src='http://static.arcgis.com/images/desktopapp.png' class=\"itemThumbnail\">\n",
       "                       </a>\n",
       "                    </div>\n",
       "\n",
       "                    <div class=\"item_right\"     style=\"float: none; width: auto; overflow: hidden;\">\n",
       "                        <a href='https://dcdev.maps.arcgis.com/home/item.html?id=cb590985aef04d53b4e1ad2555f3788b' target='_blank'><b>Manushi test - Copy e7a520</b>\n",
       "                        </a>\n",
       "                        <br/><img src='https://dcdev.maps.arcgis.com/home/js/jsapi/esri/css/images/item_type_icons/layers16.png' style=\"vertical-align:middle;\">Hub Site Application by mmajumdar_dcdev\n",
       "                        <br/>Last Modified: June 28, 2019\n",
       "                        <br/>0 comments, 0 views\n",
       "                    </div>\n",
       "                </div>\n",
       "                "
      ],
      "text/plain": [
       "<Item title:\"Manushi test - Copy e7a520\" type:Hub Site Application owner:mmajumdar_dcdev>"
      ]
     },
     "execution_count": 14,
     "metadata": {},
     "output_type": "execute_result"
    }
   ],
   "source": [
    "s2 = myhub.sites.clone(s)\n",
    "s2.item"
   ]
  },
  {
   "cell_type": "markdown",
   "metadata": {},
   "source": [
    "### Clone site to another AGOL org"
   ]
  },
  {
   "cell_type": "code",
   "execution_count": 15,
   "metadata": {},
   "outputs": [],
   "source": [
    "newHub = Hub(\"https://cityx.maps.arcgis.com\", \"cityofx_admin\", \"password\")"
   ]
  },
  {
   "cell_type": "code",
   "execution_count": 19,
   "metadata": {},
   "outputs": [
    {
     "data": {
      "text/html": [
       "<div class=\"item_container\" style=\"height: auto; overflow: hidden; border: 1px solid #cfcfcf; border-radius: 2px; background: #f6fafa; line-height: 1.21429em; padding: 10px;\">\n",
       "                    <div class=\"item_left\" style=\"width: 210px; float: left;\">\n",
       "                       <a href='https://cityx.maps.arcgis.com/home/item.html?id=09cb57eee6744318b7e4655fc3677800' target='_blank'>\n",
       "                        <img src='http://static.arcgis.com/images/desktopapp.png' class=\"itemThumbnail\">\n",
       "                       </a>\n",
       "                    </div>\n",
       "\n",
       "                    <div class=\"item_right\"     style=\"float: none; width: auto; overflow: hidden;\">\n",
       "                        <a href='https://cityx.maps.arcgis.com/home/item.html?id=09cb57eee6744318b7e4655fc3677800' target='_blank'><b>Manushi test - Copy 3f9b20</b>\n",
       "                        </a>\n",
       "                        <br/><img src='https://cityx.maps.arcgis.com/home/js/jsapi/esri/css/images/item_type_icons/layers16.png' style=\"vertical-align:middle;\">Hub Site Application by cityofx_admin\n",
       "                        <br/>Last Modified: July 01, 2019\n",
       "                        <br/>0 comments, 0 views\n",
       "                    </div>\n",
       "                </div>\n",
       "                "
      ],
      "text/plain": [
       "<Item title:\"Manushi test - Copy 3f9b20\" type:Hub Site Application owner:cityofx_admin>"
      ]
     },
     "execution_count": 19,
     "metadata": {},
     "output_type": "execute_result"
    }
   ],
   "source": [
    "s_clone = newHub.sites.clone(s)\n",
    "s_clone.item"
   ]
  },
  {
   "cell_type": "code",
   "execution_count": 30,
   "metadata": {},
   "outputs": [],
   "source": [
    "s_clone.delete()"
   ]
  },
  {
   "cell_type": "code",
   "execution_count": null,
   "metadata": {},
   "outputs": [],
   "source": []
  }
 ],
 "metadata": {
  "kernelspec": {
   "display_name": "Python 3",
   "language": "python",
   "name": "python3"
  },
  "language_info": {
   "codemirror_mode": {
    "name": "ipython",
    "version": 3
   },
   "file_extension": ".py",
   "mimetype": "text/x-python",
   "name": "python",
   "nbconvert_exporter": "python",
   "pygments_lexer": "ipython3",
   "version": "3.7.1"
  }
 },
 "nbformat": 4,
 "nbformat_minor": 2
}
