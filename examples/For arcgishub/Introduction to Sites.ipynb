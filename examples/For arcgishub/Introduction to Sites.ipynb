{
 "cells": [
  {
   "cell_type": "code",
   "execution_count": 1,
   "metadata": {},
   "outputs": [],
   "source": [
    "from arcgishub.hub import Hub\n",
    "from arcgis import GIS"
   ]
  },
  {
   "cell_type": "code",
   "execution_count": 2,
   "metadata": {},
   "outputs": [],
   "source": [
    "myhub = Hub(\"https://dcdev.maps.arcgis.com/\", \"mmajumdar_dcdev\", \"password\")"
   ]
  },
  {
   "cell_type": "code",
   "execution_count": 3,
   "metadata": {},
   "outputs": [],
   "source": [
    "newHub = Hub(\"https://cityx.maps.arcgis.com\", \"cityofx_admin\", \"password\")"
   ]
  },
  {
   "cell_type": "code",
   "execution_count": 3,
   "metadata": {},
   "outputs": [],
   "source": [
    "i = myhub.initiatives.get('0acd2f0e284543279d49d9f88d6e5f7e')"
   ]
  },
  {
   "cell_type": "code",
   "execution_count": 4,
   "metadata": {},
   "outputs": [
    {
     "ename": "KeyError",
     "evalue": "'siteId'",
     "output_type": "error",
     "traceback": [
      "\u001b[1;31m---------------------------------------------------------------------------\u001b[0m",
      "\u001b[1;31mKeyError\u001b[0m                                  Traceback (most recent call last)",
      "\u001b[1;32m<ipython-input-4-c596786be410>\u001b[0m in \u001b[0;36m<module>\u001b[1;34m\u001b[0m\n\u001b[1;32m----> 1\u001b[1;33m \u001b[0mi1\u001b[0m \u001b[1;33m=\u001b[0m \u001b[0mmyhub\u001b[0m\u001b[1;33m.\u001b[0m\u001b[0minitiatives\u001b[0m\u001b[1;33m.\u001b[0m\u001b[0mclone\u001b[0m\u001b[1;33m(\u001b[0m\u001b[0mi\u001b[0m\u001b[1;33m)\u001b[0m\u001b[1;33m\u001b[0m\u001b[1;33m\u001b[0m\u001b[0m\n\u001b[0m\u001b[0;32m      2\u001b[0m \u001b[0mi1\u001b[0m\u001b[1;33m\u001b[0m\u001b[1;33m\u001b[0m\u001b[0m\n",
      "\u001b[1;32mc:\\users\\manu9321\\src\\arcgishub\\arcgishub\\hub.py\u001b[0m in \u001b[0;36mclone\u001b[1;34m(self, initiative, title)\u001b[0m\n\u001b[0;32m    453\u001b[0m         \u001b[1;32mif\u001b[0m \u001b[0mtitle\u001b[0m \u001b[1;32mis\u001b[0m \u001b[1;32mNone\u001b[0m\u001b[1;33m:\u001b[0m\u001b[1;33m\u001b[0m\u001b[1;33m\u001b[0m\u001b[0m\n\u001b[0;32m    454\u001b[0m             \u001b[0mtitle\u001b[0m \u001b[1;33m=\u001b[0m \u001b[0minitiative\u001b[0m\u001b[1;33m.\u001b[0m\u001b[0mtitle\u001b[0m \u001b[1;33m+\u001b[0m \u001b[1;34m\"-copy-%s\"\u001b[0m \u001b[1;33m%\u001b[0m \u001b[0mint\u001b[0m\u001b[1;33m(\u001b[0m\u001b[0mnow\u001b[0m\u001b[1;33m.\u001b[0m\u001b[0mtimestamp\u001b[0m\u001b[1;33m(\u001b[0m\u001b[1;33m)\u001b[0m \u001b[1;33m*\u001b[0m \u001b[1;36m1000\u001b[0m\u001b[1;33m)\u001b[0m\u001b[1;33m\u001b[0m\u001b[1;33m\u001b[0m\u001b[0m\n\u001b[1;32m--> 455\u001b[1;33m         \u001b[0msite\u001b[0m \u001b[1;33m=\u001b[0m \u001b[0mself\u001b[0m\u001b[1;33m.\u001b[0m\u001b[0mget\u001b[0m\u001b[1;33m(\u001b[0m\u001b[0minitiative\u001b[0m\u001b[1;33m.\u001b[0m\u001b[0msite_id\u001b[0m\u001b[1;33m)\u001b[0m\u001b[1;33m\u001b[0m\u001b[1;33m\u001b[0m\u001b[0m\n\u001b[0m\u001b[0;32m    456\u001b[0m         \u001b[0mnew_initiative\u001b[0m \u001b[1;33m=\u001b[0m \u001b[0mself\u001b[0m\u001b[1;33m.\u001b[0m\u001b[0m_hub\u001b[0m\u001b[1;33m.\u001b[0m\u001b[0minitiatives\u001b[0m\u001b[1;33m.\u001b[0m\u001b[0madd\u001b[0m\u001b[1;33m(\u001b[0m\u001b[0mtitle\u001b[0m\u001b[1;33m=\u001b[0m\u001b[0mtitle\u001b[0m\u001b[1;33m,\u001b[0m \u001b[0msite\u001b[0m\u001b[1;33m=\u001b[0m\u001b[0msite\u001b[0m\u001b[1;33m)\u001b[0m\u001b[1;33m\u001b[0m\u001b[1;33m\u001b[0m\u001b[0m\n\u001b[0;32m    457\u001b[0m         \u001b[1;32mreturn\u001b[0m \u001b[0mnew_initiative\u001b[0m\u001b[1;33m\u001b[0m\u001b[1;33m\u001b[0m\u001b[0m\n",
      "\u001b[1;32mc:\\users\\manu9321\\src\\arcgishub\\arcgishub\\hub.py\u001b[0m in \u001b[0;36msite_id\u001b[1;34m(self)\u001b[0m\n\u001b[0;32m    226\u001b[0m         \u001b[0mReturns\u001b[0m \u001b[0mthe\u001b[0m \u001b[0mitemid\u001b[0m \u001b[0mof\u001b[0m \u001b[0mthe\u001b[0m \u001b[0minitiative\u001b[0m \u001b[0msite\u001b[0m\u001b[1;33m\u001b[0m\u001b[1;33m\u001b[0m\u001b[0m\n\u001b[0;32m    227\u001b[0m         \"\"\"\n\u001b[1;32m--> 228\u001b[1;33m         \u001b[1;32mreturn\u001b[0m \u001b[0mself\u001b[0m\u001b[1;33m.\u001b[0m\u001b[0mitem\u001b[0m\u001b[1;33m.\u001b[0m\u001b[0mproperties\u001b[0m\u001b[1;33m[\u001b[0m\u001b[1;34m'siteId'\u001b[0m\u001b[1;33m]\u001b[0m\u001b[1;33m\u001b[0m\u001b[1;33m\u001b[0m\u001b[0m\n\u001b[0m\u001b[0;32m    229\u001b[0m \u001b[1;33m\u001b[0m\u001b[0m\n\u001b[0;32m    230\u001b[0m     \u001b[1;33m@\u001b[0m\u001b[0mproperty\u001b[0m\u001b[1;33m\u001b[0m\u001b[1;33m\u001b[0m\u001b[0m\n",
      "\u001b[1;31mKeyError\u001b[0m: 'siteId'"
     ]
    }
   ],
   "source": [
    "i1 = myhub.initiatives.clone(i)\n",
    "i1"
   ]
  },
  {
   "cell_type": "code",
   "execution_count": 9,
   "metadata": {},
   "outputs": [
    {
     "data": {
      "text/plain": [
       "{'assets': [{'id': 'bannerImage',\n",
       "   'url': 'https://dcdev.maps.arcgis.com/sharing/rest/content/items/0acd2f0e284543279d49d9f88d6e5f7e/resources/detail-image.jpg',\n",
       "   'properties': {'type': 'resource',\n",
       "    'fileName': 'detail-image.jpg',\n",
       "    'mimeType': 'image/jepg'},\n",
       "   'license': {'type': 'none'},\n",
       "   'display': {'position': {'x': 'center', 'y': 'center'}}},\n",
       "  {'id': 'iconDark',\n",
       "   'url': 'https://dcdev.maps.arcgis.com/sharing/rest/content/items/0acd2f0e284543279d49d9f88d6e5f7e/resources/icon-dark.png',\n",
       "   'properties': {'type': 'resource',\n",
       "    'fileName': 'icon-dark.png',\n",
       "    'mimeType': 'image/png'},\n",
       "   'license': {'type': 'none'}},\n",
       "  {'id': 'iconLight',\n",
       "   'url': 'https://dcdev.maps.arcgis.com/sharing/rest/content/items/0acd2f0e284543279d49d9f88d6e5f7e/resources/icon-light.png',\n",
       "   'properties': {'type': 'resource',\n",
       "    'fileName': 'icon-light.png',\n",
       "    'mimeType': 'image/png'},\n",
       "   'license': {'type': 'none'}}],\n",
       " 'steps': [{'id': 'informTools',\n",
       "   'title': 'Inform the Public',\n",
       "   'description': 'Share data about your initiative with the public so people can easily find, download and use your data in different formats.',\n",
       "   'templateIds': [],\n",
       "   'itemIds': ['78d993c018684ac69904f71ed029db8e']},\n",
       "  {'id': 'listenTools',\n",
       "   'title': 'Listen to the Public',\n",
       "   'description': 'Create ways to gather citizen feedback to help inform your city officials.',\n",
       "   'templateIds': [],\n",
       "   'itemIds': []},\n",
       "  {'id': 'monitorTools',\n",
       "   'title': 'Monitor Progress',\n",
       "   'description': 'Establish performance measures that incorporate the publics perspective.',\n",
       "   'templateIds': [],\n",
       "   'itemIds': []}],\n",
       " 'indicators': [],\n",
       " 'values': {'collaborationGroupId': '9c209696eb41454fa4565f6b7f2818a6',\n",
       "  'openDataGroupId': '46836ee602ef4176a0f95bee2450c35f',\n",
       "  'followerGroups': [],\n",
       "  'bannerImage': {'source': 'bannerImage',\n",
       "   'display': {'position': {'x': 'center', 'y': 'center'}}}}}"
      ]
     },
     "execution_count": 9,
     "metadata": {},
     "output_type": "execute_result"
    }
   ],
   "source": [
    "i.item.get_data()"
   ]
  },
  {
   "cell_type": "markdown",
   "metadata": {},
   "source": [
    "### Creating initiative with site"
   ]
  },
  {
   "cell_type": "code",
   "execution_count": 12,
   "metadata": {},
   "outputs": [
    {
     "data": {
      "text/html": [
       "<div class=\"item_container\" style=\"height: auto; overflow: hidden; border: 1px solid #cfcfcf; border-radius: 2px; background: #f6fafa; line-height: 1.21429em; padding: 10px;\">\n",
       "                    <div class=\"item_left\" style=\"width: 210px; float: left;\">\n",
       "                       <a href='https://dcdev.maps.arcgis.com/home/item.html?id=0acd2f0e284543279d49d9f88d6e5f7e' target='_blank'>\n",
       "                        <img src='http://static.arcgis.com/images/desktopapp.png' class=\"itemThumbnail\">\n",
       "                       </a>\n",
       "                    </div>\n",
       "\n",
       "                    <div class=\"item_right\"     style=\"float: none; width: auto; overflow: hidden;\">\n",
       "                        <a href='https://dcdev.maps.arcgis.com/home/item.html?id=0acd2f0e284543279d49d9f88d6e5f7e' target='_blank'><b>in-site</b>\n",
       "                        </a>\n",
       "                        <br/>in-site Custom initiative<img src='https://dcdev.maps.arcgis.com/home/js/jsapi/esri/css/images/item_type_icons/layers16.png' style=\"vertical-align:middle;\">Hub Initiative by mmajumdar_dcdev\n",
       "                        <br/>Last Modified: June 28, 2019\n",
       "                        <br/>0 comments, 1 views\n",
       "                    </div>\n",
       "                </div>\n",
       "                "
      ],
      "text/plain": [
       "<Item title:\"in-site\" type:Hub Initiative owner:mmajumdar_dcdev>"
      ]
     },
     "execution_count": 12,
     "metadata": {},
     "output_type": "execute_result"
    }
   ],
   "source": [
    "initiative1 = myhub.initiatives.add(title='in-site')\n",
    "initiative1.item"
   ]
  },
  {
   "cell_type": "code",
   "execution_count": null,
   "metadata": {},
   "outputs": [],
   "source": [
    "s = myhub.sites.get('ce95fd5bc0714a4bb13e9fe5f9339778')\n",
    "s.delete()"
   ]
  },
  {
   "cell_type": "code",
   "execution_count": 54,
   "metadata": {},
   "outputs": [
    {
     "data": {
      "text/plain": [
       "'78d993c018684ac69904f71ed029db8e'"
      ]
     },
     "execution_count": 54,
     "metadata": {},
     "output_type": "execute_result"
    }
   ],
   "source": [
    "initiative1.definition['steps'][0]['itemIds'][0]"
   ]
  },
  {
   "cell_type": "code",
   "execution_count": 3,
   "metadata": {},
   "outputs": [
    {
     "name": "stdout",
     "output_type": "stream",
     "text": [
      "c:\\users\\manu9321\\src\\arcgishub\\arcgishub\\_store\\od-sites-data.json\n"
     ]
    }
   ],
   "source": [
    "s1 = myhub.sites.get('78d993c018684ac69904f71ed029db8e')"
   ]
  },
  {
   "cell_type": "code",
   "execution_count": 56,
   "metadata": {},
   "outputs": [
    {
     "data": {
      "text/plain": [
       "['Hub',\n",
       " 'hubSite',\n",
       " 'hubSolution',\n",
       " 'JavaScript',\n",
       " 'Map',\n",
       " 'Mapping Site',\n",
       " 'Online Map',\n",
       " 'OpenData',\n",
       " 'Ready To Use',\n",
       " 'selfConfigured',\n",
       " 'Web Map',\n",
       " 'Registered App']"
      ]
     },
     "execution_count": 56,
     "metadata": {},
     "output_type": "execute_result"
    }
   ],
   "source": [
    "s1.item.typeKeywords"
   ]
  },
  {
   "cell_type": "markdown",
   "metadata": {},
   "source": [
    "### Creating open data site"
   ]
  },
  {
   "cell_type": "code",
   "execution_count": null,
   "metadata": {},
   "outputs": [],
   "source": [
    "title = 'python Open Data site'\n",
    "myhub.sites.add(title=title, domain=title, group_id='ad321eb4f9ee4b479cc284fcac9af3e4')"
   ]
  },
  {
   "cell_type": "code",
   "execution_count": null,
   "metadata": {},
   "outputs": [],
   "source": []
  },
  {
   "cell_type": "markdown",
   "metadata": {},
   "source": [
    "### Searching for sites"
   ]
  },
  {
   "cell_type": "code",
   "execution_count": null,
   "metadata": {},
   "outputs": [],
   "source": [
    "site = myhub.sites.search(title=title, owner='mmajumdar_dcdev')[0]\n",
    "site.item"
   ]
  },
  {
   "cell_type": "code",
   "execution_count": null,
   "metadata": {},
   "outputs": [],
   "source": [
    "site.definition"
   ]
  },
  {
   "cell_type": "markdown",
   "metadata": {},
   "source": [
    "### Fetching a site"
   ]
  },
  {
   "cell_type": "code",
   "execution_count": null,
   "metadata": {},
   "outputs": [],
   "source": [
    "s = myhub.sites.get('4f35486deef34f36b84ec857951f7d4a')"
   ]
  },
  {
   "cell_type": "code",
   "execution_count": null,
   "metadata": {},
   "outputs": [],
   "source": [
    "s.url[8:]"
   ]
  },
  {
   "cell_type": "markdown",
   "metadata": {},
   "source": [
    "### Update and Delete a site"
   ]
  },
  {
   "cell_type": "code",
   "execution_count": null,
   "metadata": {},
   "outputs": [],
   "source": [
    "s_del = myhub.sites.add(title='Delete me', domain='delete-me3', group_id='ad321eb4f9ee4b479cc284fcac9af3e4')\n",
    "s_del"
   ]
  },
  {
   "cell_type": "code",
   "execution_count": null,
   "metadata": {},
   "outputs": [],
   "source": [
    "print(s_del.description)"
   ]
  },
  {
   "cell_type": "code",
   "execution_count": null,
   "metadata": {},
   "outputs": [],
   "source": [
    "s_del.update(site_properties={'description': 'Testing site update'})"
   ]
  },
  {
   "cell_type": "code",
   "execution_count": null,
   "metadata": {},
   "outputs": [],
   "source": [
    "print(s_del.description)"
   ]
  },
  {
   "cell_type": "code",
   "execution_count": null,
   "metadata": {},
   "outputs": [],
   "source": [
    "s_del.itemid"
   ]
  },
  {
   "cell_type": "code",
   "execution_count": null,
   "metadata": {},
   "outputs": [],
   "source": [
    "s_del.delete()"
   ]
  },
  {
   "cell_type": "markdown",
   "metadata": {},
   "source": [
    "### Verify deletion"
   ]
  },
  {
   "cell_type": "code",
   "execution_count": null,
   "metadata": {},
   "outputs": [],
   "source": [
    "myhub.sites.get(s_del.itemid)"
   ]
  },
  {
   "cell_type": "markdown",
   "metadata": {},
   "source": [
    "### Copy a site"
   ]
  },
  {
   "cell_type": "code",
   "execution_count": 13,
   "metadata": {},
   "outputs": [
    {
     "data": {
      "text/html": [
       "<div class=\"item_container\" style=\"height: auto; overflow: hidden; border: 1px solid #cfcfcf; border-radius: 2px; background: #f6fafa; line-height: 1.21429em; padding: 10px;\">\n",
       "                    <div class=\"item_left\" style=\"width: 210px; float: left;\">\n",
       "                       <a href='https://dcdev.maps.arcgis.com/home/item.html?id=38fe239fb959490ea594a4b886904482' target='_blank'>\n",
       "                        <img src='data:image/png;base64,iVBORw0KGgoAAAANSUhEUgAAAMgAAACFCAYAAAAenrcsAAAACXBIWXMAAAsSAAALEgHS3X78AAACgklEQVR42u3dP27TUADH8V9oJqYs7HCDbFFmBpi4Qgp7ogapiE5V50q4cnaUXIGtG2PaKTfgCmFBsDEQZkL1HJvw+RzAsf3y1Xt2/riXBk1n80GS0ySTJMNAOZskqyTLRV1tm3qRXoNxnCW5TDIwljRom+RqUVc3/0Qgu1mj2s0ccCjLJPPSs0m/gR0VB234/Z57XXKjJw0sq94bK1oyHI3GX+/v1uvOLbF2S6svrjnowDXJs1JLrUeFpzhx0LZBySV+yUAmxoaOmHQxEJ9z0JlrkS4GAkdHICAQeJh+a6/84q2zz/5uP5hBwBILBAICAYGAQACBgEBAICAQEAgIBAQCAgGBAAIBgYBAQCBweK39Jv36+RNnn72d35pBwBILBAICAYGAQACBgEBAIHAg/WM7oG+f3nR+Hx+/+ujYzCAgEBAICAQQCAgEBAICAYGAQEAgIBAQCCAQEAgIBAQCAgGBgEBAICAQEAggEBAICAQEAgIBgYBA4Igc3eMPju3v9/+XYzODgEBAICAQQCAgEHgoT7ltgafcmkFAICAQEAggEBAICAQEAgIBgYBAQCAgEEAgIBAQCAgEBAICAYGAQEAgIBBAICAQEAgIBAQCAgGBwHHxlFvHhhkEBAICAYGAQEAgIBAQCAgEEAjsqbWvmpy/u3D2MYOAQEAgf7RxOumITRcDWRkXOmLVxUCWSbbGhpZtd+/FIk5Kbej+bv19NBr/SPLSGNGii0Vdfe5cILtI1qPR+GmSoXGiBctFXRX9/KCJu1jzklMc/MUSf156o72m9nY6m58luUwyMHY0fM1xtairmyY23mtyz6ez+SDJaZKJZReFbfLrbtVyUVeN3Rz6CdebXmXkLnGpAAAAAElFTkSuQmCC' width='200' height='133' class=\"itemThumbnail\">\n",
       "                       </a>\n",
       "                    </div>\n",
       "\n",
       "                    <div class=\"item_right\"     style=\"float: none; width: auto; overflow: hidden;\">\n",
       "                        <a href='https://dcdev.maps.arcgis.com/home/item.html?id=38fe239fb959490ea594a4b886904482' target='_blank'><b>Manushi test</b>\n",
       "                        </a>\n",
       "                        <br/><img src='https://dcdev.maps.arcgis.com/home/js/jsapi/esri/css/images/item_type_icons/layers16.png' style=\"vertical-align:middle;\">Hub Site Application by mmajumdar_dcdev\n",
       "                        <br/>Last Modified: June 06, 2019\n",
       "                        <br/>0 comments, 34 views\n",
       "                    </div>\n",
       "                </div>\n",
       "                "
      ],
      "text/plain": [
       "<Item title:\"Manushi test\" type:Hub Site Application owner:mmajumdar_dcdev>"
      ]
     },
     "execution_count": 13,
     "metadata": {},
     "output_type": "execute_result"
    }
   ],
   "source": [
    "s = myhub.sites.get('38fe239fb959490ea594a4b886904482')\n",
    "s.item"
   ]
  },
  {
   "cell_type": "code",
   "execution_count": 14,
   "metadata": {},
   "outputs": [
    {
     "data": {
      "text/html": [
       "<div class=\"item_container\" style=\"height: auto; overflow: hidden; border: 1px solid #cfcfcf; border-radius: 2px; background: #f6fafa; line-height: 1.21429em; padding: 10px;\">\n",
       "                    <div class=\"item_left\" style=\"width: 210px; float: left;\">\n",
       "                       <a href='https://dcdev.maps.arcgis.com/home/item.html?id=cb590985aef04d53b4e1ad2555f3788b' target='_blank'>\n",
       "                        <img src='http://static.arcgis.com/images/desktopapp.png' class=\"itemThumbnail\">\n",
       "                       </a>\n",
       "                    </div>\n",
       "\n",
       "                    <div class=\"item_right\"     style=\"float: none; width: auto; overflow: hidden;\">\n",
       "                        <a href='https://dcdev.maps.arcgis.com/home/item.html?id=cb590985aef04d53b4e1ad2555f3788b' target='_blank'><b>Manushi test - Copy e7a520</b>\n",
       "                        </a>\n",
       "                        <br/><img src='https://dcdev.maps.arcgis.com/home/js/jsapi/esri/css/images/item_type_icons/layers16.png' style=\"vertical-align:middle;\">Hub Site Application by mmajumdar_dcdev\n",
       "                        <br/>Last Modified: June 28, 2019\n",
       "                        <br/>0 comments, 0 views\n",
       "                    </div>\n",
       "                </div>\n",
       "                "
      ],
      "text/plain": [
       "<Item title:\"Manushi test - Copy e7a520\" type:Hub Site Application owner:mmajumdar_dcdev>"
      ]
     },
     "execution_count": 14,
     "metadata": {},
     "output_type": "execute_result"
    }
   ],
   "source": [
    "s2 = myhub.sites.clone(s)\n",
    "s2.item"
   ]
  },
  {
   "cell_type": "markdown",
   "metadata": {},
   "source": [
    "### Clone site to another AGOL org"
   ]
  },
  {
   "cell_type": "code",
   "execution_count": 15,
   "metadata": {},
   "outputs": [],
   "source": [
    "newHub = Hub(\"https://cityx.maps.arcgis.com\", \"cityofx_admin\", \"password\")"
   ]
  },
  {
   "cell_type": "code",
   "execution_count": 19,
   "metadata": {},
   "outputs": [
    {
     "data": {
      "text/html": [
       "<div class=\"item_container\" style=\"height: auto; overflow: hidden; border: 1px solid #cfcfcf; border-radius: 2px; background: #f6fafa; line-height: 1.21429em; padding: 10px;\">\n",
       "                    <div class=\"item_left\" style=\"width: 210px; float: left;\">\n",
       "                       <a href='https://cityx.maps.arcgis.com/home/item.html?id=09cb57eee6744318b7e4655fc3677800' target='_blank'>\n",
       "                        <img src='http://static.arcgis.com/images/desktopapp.png' class=\"itemThumbnail\">\n",
       "                       </a>\n",
       "                    </div>\n",
       "\n",
       "                    <div class=\"item_right\"     style=\"float: none; width: auto; overflow: hidden;\">\n",
       "                        <a href='https://cityx.maps.arcgis.com/home/item.html?id=09cb57eee6744318b7e4655fc3677800' target='_blank'><b>Manushi test - Copy 3f9b20</b>\n",
       "                        </a>\n",
       "                        <br/><img src='https://cityx.maps.arcgis.com/home/js/jsapi/esri/css/images/item_type_icons/layers16.png' style=\"vertical-align:middle;\">Hub Site Application by cityofx_admin\n",
       "                        <br/>Last Modified: July 01, 2019\n",
       "                        <br/>0 comments, 0 views\n",
       "                    </div>\n",
       "                </div>\n",
       "                "
      ],
      "text/plain": [
       "<Item title:\"Manushi test - Copy 3f9b20\" type:Hub Site Application owner:cityofx_admin>"
      ]
     },
     "execution_count": 19,
     "metadata": {},
     "output_type": "execute_result"
    }
   ],
   "source": [
    "s_clone = newHub.sites.clone(s)\n",
    "s_clone.item"
   ]
  },
  {
   "cell_type": "code",
   "execution_count": 30,
   "metadata": {},
   "outputs": [],
   "source": [
    "s_clone.delete()"
   ]
  },
  {
   "cell_type": "code",
   "execution_count": 23,
   "metadata": {},
   "outputs": [],
   "source": [
    "from arcgis.gis import GIS\n",
    "gis = GIS(\"https://cityx.maps.arcgis.com\", \"cityofx_admin\", \"password\")"
   ]
  },
  {
   "cell_type": "markdown",
   "metadata": {},
   "source": [
    "## Testing Enterprise Sites"
   ]
  },
  {
   "cell_type": "code",
   "execution_count": 3,
   "metadata": {},
   "outputs": [],
   "source": [
    "eHub = Hub(\"http://dev0004025.esri.com/portal\", \"admin\", \"password\")\n",
    "egis = GIS(\"http://dev0004025.esri.com/portal\", \"admin\", \"password\")"
   ]
  },
  {
   "cell_type": "code",
   "execution_count": 8,
   "metadata": {},
   "outputs": [],
   "source": [
    "g = egis.groups.get('4b1ba60570354a4982871ab33bd4fdef')"
   ]
  },
  {
   "cell_type": "markdown",
   "metadata": {},
   "source": [
    "### Add Enterprise site"
   ]
  },
  {
   "cell_type": "code",
   "execution_count": 9,
   "metadata": {},
   "outputs": [
    {
     "data": {
      "text/html": [
       "<div class=\"item_container\" style=\"height: auto; overflow: hidden; border: 1px solid #cfcfcf; border-radius: 2px; background: #f6fafa; line-height: 1.21429em; padding: 10px;\">\n",
       "                    <div class=\"item_left\" style=\"width: 210px; float: left;\">\n",
       "                       <a href='http://dev0004025.esri.com/portal/home/item.html?id=965f94bc03eb47b7b0ca14488887a581' target='_blank'>\n",
       "                        <img src='http://dev0004025.esri.com/portal/portalimages/desktopapp.png' class=\"itemThumbnail\">\n",
       "                       </a>\n",
       "                    </div>\n",
       "\n",
       "                    <div class=\"item_right\"     style=\"float: none; width: auto; overflow: hidden;\">\n",
       "                        <a href='http://dev0004025.esri.com/portal/home/item.html?id=965f94bc03eb47b7b0ca14488887a581' target='_blank'><b>Manushi test site3</b>\n",
       "                        </a>\n",
       "                        <br/><img src='http://dev0004025.esri.com/portal/home/js/jsapi/esri/css/images/item_type_icons/layers16.png' style=\"vertical-align:middle;\">Site Application by admin\n",
       "                        <br/>Last Modified: July 05, 2019\n",
       "                        <br/>0 comments, 0 views\n",
       "                    </div>\n",
       "                </div>\n",
       "                "
      ],
      "text/plain": [
       "<Item title:\"Manushi test site3\" type:Site Application owner:admin>"
      ]
     },
     "execution_count": 9,
     "metadata": {},
     "output_type": "execute_result"
    }
   ],
   "source": [
    "title = 'Manushi test site3'\n",
    "esite = eHub.sites.add(title=title, subdomain=title, groups=[g])\n",
    "esite.item"
   ]
  },
  {
   "cell_type": "markdown",
   "metadata": {},
   "source": [
    "### Update Enterprise site"
   ]
  },
  {
   "cell_type": "code",
   "execution_count": 10,
   "metadata": {},
   "outputs": [
    {
     "name": "stdout",
     "output_type": "stream",
     "text": [
      "None\n"
     ]
    }
   ],
   "source": [
    "print(esite.description)"
   ]
  },
  {
   "cell_type": "code",
   "execution_count": 11,
   "metadata": {},
   "outputs": [
    {
     "data": {
      "text/plain": [
       "True"
      ]
     },
     "execution_count": 11,
     "metadata": {},
     "output_type": "execute_result"
    }
   ],
   "source": [
    "esite.update(site_properties={'description': 'Testing enterprise-site update'})"
   ]
  },
  {
   "cell_type": "code",
   "execution_count": 12,
   "metadata": {},
   "outputs": [
    {
     "name": "stdout",
     "output_type": "stream",
     "text": [
      "Testing enterprise-site update\n"
     ]
    }
   ],
   "source": [
    "print(esite.description)"
   ]
  },
  {
   "cell_type": "markdown",
   "metadata": {},
   "source": [
    "### Deleting site"
   ]
  },
  {
   "cell_type": "code",
   "execution_count": 13,
   "metadata": {},
   "outputs": [
    {
     "data": {
      "text/plain": [
       "True"
      ]
     },
     "execution_count": 13,
     "metadata": {},
     "output_type": "execute_result"
    }
   ],
   "source": [
    "esite.delete()"
   ]
  },
  {
   "cell_type": "markdown",
   "metadata": {},
   "source": [
    "### Fetching site"
   ]
  },
  {
   "cell_type": "code",
   "execution_count": 4,
   "metadata": {},
   "outputs": [],
   "source": [
    "s = eHub.sites.get('43506a6d94af425a9d3d2653c7963b2d')"
   ]
  },
  {
   "cell_type": "code",
   "execution_count": 5,
   "metadata": {},
   "outputs": [
    {
     "data": {
      "text/html": [
       "<div class=\"item_container\" style=\"height: auto; overflow: hidden; border: 1px solid #cfcfcf; border-radius: 2px; background: #f6fafa; line-height: 1.21429em; padding: 10px;\">\n",
       "                    <div class=\"item_left\" style=\"width: 210px; float: left;\">\n",
       "                       <a href='http://dev0004025.esri.com/portal/home/item.html?id=43506a6d94af425a9d3d2653c7963b2d' target='_blank'>\n",
       "                        <img src='http://dev0004025.esri.com/portal/portalimages/desktopapp.png' class=\"itemThumbnail\">\n",
       "                       </a>\n",
       "                    </div>\n",
       "\n",
       "                    <div class=\"item_right\"     style=\"float: none; width: auto; overflow: hidden;\">\n",
       "                        <a href='http://dev0004025.esri.com/portal/home/item.html?id=43506a6d94af425a9d3d2653c7963b2d' target='_blank'><b>Manushi-test</b>\n",
       "                        </a>\n",
       "                        <br/><img src='http://dev0004025.esri.com/portal/home/js/jsapi/esri/css/images/item_type_icons/layers16.png' style=\"vertical-align:middle;\">Site Application by admin\n",
       "                        <br/>Last Modified: July 05, 2019\n",
       "                        <br/>0 comments, 25 views\n",
       "                    </div>\n",
       "                </div>\n",
       "                "
      ],
      "text/plain": [
       "<Item title:\"Manushi-test\" type:Site Application owner:admin>"
      ]
     },
     "execution_count": 5,
     "metadata": {},
     "output_type": "execute_result"
    }
   ],
   "source": [
    "s.item"
   ]
  },
  {
   "cell_type": "markdown",
   "metadata": {},
   "source": [
    "### Cloning from enterprise to AGOL"
   ]
  },
  {
   "cell_type": "code",
   "execution_count": 6,
   "metadata": {},
   "outputs": [
    {
     "data": {
      "text/html": [
       "<div class=\"item_container\" style=\"height: auto; overflow: hidden; border: 1px solid #cfcfcf; border-radius: 2px; background: #f6fafa; line-height: 1.21429em; padding: 10px;\">\n",
       "                    <div class=\"item_left\" style=\"width: 210px; float: left;\">\n",
       "                       <a href='https://dcdev.maps.arcgis.com/home/item.html?id=8f2434711aff48509311fb2b125c5a43' target='_blank'>\n",
       "                        <img src='http://static.arcgis.com/images/desktopapp.png' class=\"itemThumbnail\">\n",
       "                       </a>\n",
       "                    </div>\n",
       "\n",
       "                    <div class=\"item_right\"     style=\"float: none; width: auto; overflow: hidden;\">\n",
       "                        <a href='https://dcdev.maps.arcgis.com/home/item.html?id=8f2434711aff48509311fb2b125c5a43' target='_blank'><b>Manushi-test-copy-1562783882410</b>\n",
       "                        </a>\n",
       "                        <br/><img src='https://dcdev.maps.arcgis.com/home/js/jsapi/esri/css/images/item_type_icons/layers16.png' style=\"vertical-align:middle;\">Hub Site Application by mmajumdar_dcdev\n",
       "                        <br/>Last Modified: July 10, 2019\n",
       "                        <br/>0 comments, 0 views\n",
       "                    </div>\n",
       "                </div>\n",
       "                "
      ],
      "text/plain": [
       "<Item title:\"Manushi-test-copy-1562783882410\" type:Hub Site Application owner:mmajumdar_dcdev>"
      ]
     },
     "execution_count": 6,
     "metadata": {},
     "output_type": "execute_result"
    }
   ],
   "source": [
    "agol_s = myhub.sites.clone(s)\n",
    "agol_s.item"
   ]
  },
  {
   "cell_type": "markdown",
   "metadata": {},
   "source": [
    "### Cloning from AGOL to Enterprise"
   ]
  },
  {
   "cell_type": "code",
   "execution_count": 17,
   "metadata": {},
   "outputs": [
    {
     "data": {
      "text/html": [
       "<div class=\"item_container\" style=\"height: auto; overflow: hidden; border: 1px solid #cfcfcf; border-radius: 2px; background: #f6fafa; line-height: 1.21429em; padding: 10px;\">\n",
       "                    <div class=\"item_left\" style=\"width: 210px; float: left;\">\n",
       "                       <a href='https://dcdev.maps.arcgis.com/home/item.html?id=38fe239fb959490ea594a4b886904482' target='_blank'>\n",
       "                        <img src='data:image/png;base64,iVBORw0KGgoAAAANSUhEUgAAAMgAAACFCAYAAAAenrcsAAAACXBIWXMAAAsSAAALEgHS3X78AAACgklEQVR42u3dP27TUADH8V9oJqYs7HCDbFFmBpi4Qgp7ogapiE5V50q4cnaUXIGtG2PaKTfgCmFBsDEQZkL1HJvw+RzAsf3y1Xt2/riXBk1n80GS0ySTJMNAOZskqyTLRV1tm3qRXoNxnCW5TDIwljRom+RqUVc3/0Qgu1mj2s0ccCjLJPPSs0m/gR0VB234/Z57XXKjJw0sq94bK1oyHI3GX+/v1uvOLbF2S6svrjnowDXJs1JLrUeFpzhx0LZBySV+yUAmxoaOmHQxEJ9z0JlrkS4GAkdHICAQeJh+a6/84q2zz/5uP5hBwBILBAICAYGAQACBgEBAICAQEAgIBAQCAgGBAAIBgYBAQCBweK39Jv36+RNnn72d35pBwBILBAICAYGAQACBgEBAIHAg/WM7oG+f3nR+Hx+/+ujYzCAgEBAICAQQCAgEBAICAYGAQEAgIBAQCCAQEAgIBAQCAgGBgEBAICAQEAggEBAICAQEAgIBgYBA4Igc3eMPju3v9/+XYzODgEBAICAQQCAgEHgoT7ltgafcmkFAICAQEAggEBAICAQEAgIBgYBAQCAgEEAgIBAQCAgEBAICAYGAQEAgIBBAICAQEAgIBAQCAgGBwHHxlFvHhhkEBAICAYGAQEAgIBAQCAgEEAjsqbWvmpy/u3D2MYOAQEAgf7RxOumITRcDWRkXOmLVxUCWSbbGhpZtd+/FIk5Kbej+bv19NBr/SPLSGNGii0Vdfe5cILtI1qPR+GmSoXGiBctFXRX9/KCJu1jzklMc/MUSf156o72m9nY6m58luUwyMHY0fM1xtairmyY23mtyz6ez+SDJaZKJZReFbfLrbtVyUVeN3Rz6CdebXmXkLnGpAAAAAElFTkSuQmCC' width='200' height='133' class=\"itemThumbnail\">\n",
       "                       </a>\n",
       "                    </div>\n",
       "\n",
       "                    <div class=\"item_right\"     style=\"float: none; width: auto; overflow: hidden;\">\n",
       "                        <a href='https://dcdev.maps.arcgis.com/home/item.html?id=38fe239fb959490ea594a4b886904482' target='_blank'><b>Manushi test</b>\n",
       "                        </a>\n",
       "                        <br/><img src='https://dcdev.maps.arcgis.com/home/js/jsapi/esri/css/images/item_type_icons/layers16.png' style=\"vertical-align:middle;\">Hub Site Application by mmajumdar_dcdev\n",
       "                        <br/>Last Modified: June 06, 2019\n",
       "                        <br/>0 comments, 52 views\n",
       "                    </div>\n",
       "                </div>\n",
       "                "
      ],
      "text/plain": [
       "<Item title:\"Manushi test\" type:Hub Site Application owner:mmajumdar_dcdev>"
      ]
     },
     "execution_count": 17,
     "metadata": {},
     "output_type": "execute_result"
    }
   ],
   "source": [
    "site = myhub.sites.get('38fe239fb959490ea594a4b886904482')\n",
    "site.item"
   ]
  },
  {
   "cell_type": "code",
   "execution_count": 18,
   "metadata": {},
   "outputs": [
    {
     "data": {
      "text/html": [
       "<div class=\"item_container\" style=\"height: auto; overflow: hidden; border: 1px solid #cfcfcf; border-radius: 2px; background: #f6fafa; line-height: 1.21429em; padding: 10px;\">\n",
       "                    <div class=\"item_left\" style=\"width: 210px; float: left;\">\n",
       "                       <a href='http://dev0004025.esri.com/portal/home/item.html?id=23840a29bdcb45eb805a1d3e6cf67e07' target='_blank'>\n",
       "                        <img src='http://dev0004025.esri.com/portal/portalimages/desktopapp.png' class=\"itemThumbnail\">\n",
       "                       </a>\n",
       "                    </div>\n",
       "\n",
       "                    <div class=\"item_right\"     style=\"float: none; width: auto; overflow: hidden;\">\n",
       "                        <a href='http://dev0004025.esri.com/portal/home/item.html?id=23840a29bdcb45eb805a1d3e6cf67e07' target='_blank'><b>Manushi test-_copy_1562353869766</b>\n",
       "                        </a>\n",
       "                        <br/><img src='http://dev0004025.esri.com/portal/home/js/jsapi/esri/css/images/item_type_icons/layers16.png' style=\"vertical-align:middle;\">Site Application by admin\n",
       "                        <br/>Last Modified: July 05, 2019\n",
       "                        <br/>0 comments, 0 views\n",
       "                    </div>\n",
       "                </div>\n",
       "                "
      ],
      "text/plain": [
       "<Item title:\"Manushi test-_copy_1562353869766\" type:Site Application owner:admin>"
      ]
     },
     "execution_count": 18,
     "metadata": {},
     "output_type": "execute_result"
    }
   ],
   "source": [
    "e_site = eHub.sites.clone(site)\n",
    "e_site.item"
   ]
  },
  {
   "cell_type": "code",
   "execution_count": null,
   "metadata": {},
   "outputs": [],
   "source": []
  }
 ],
 "metadata": {
  "kernelspec": {
   "display_name": "Python 3",
   "language": "python",
   "name": "python3"
  },
  "language_info": {
   "codemirror_mode": {
    "name": "ipython",
    "version": 3
   },
   "file_extension": ".py",
   "mimetype": "text/x-python",
   "name": "python",
   "nbconvert_exporter": "python",
   "pygments_lexer": "ipython3",
   "version": "3.7.1"
  }
 },
 "nbformat": 4,
 "nbformat_minor": 2
}
