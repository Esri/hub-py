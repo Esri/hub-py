{
 "cells": [
  {
   "cell_type": "markdown",
   "metadata": {},
   "source": [
    "### Cloning an Initiative in the same org"
   ]
  },
  {
   "cell_type": "markdown",
   "metadata": {},
   "source": [
    "An Initiative supports policy- or activity-oriented goals through workflows, tools and team collaboration. Initiatives manage the team, events, content, and experiences around a shared goal.\n",
    "\n",
    "Initiative configurations can be created individually within a Hub, or they can be made into a Template which is a reusable pattern within or across Hubs. Click [here](https://doc.arcgis.com/en/hub/initiatives/initiatives-overview.htm) to learn more about initiatives."
   ]
  },
  {
   "cell_type": "code",
   "execution_count": 2,
   "metadata": {},
   "outputs": [],
   "source": [
    "from arcgishub.hub import Hub"
   ]
  },
  {
   "cell_type": "markdown",
   "metadata": {},
   "source": [
    "You start by connecting to your GIS and accessing your Hub"
   ]
  },
  {
   "cell_type": "code",
   "execution_count": 3,
   "metadata": {},
   "outputs": [
    {
     "name": "stdout",
     "output_type": "stream",
     "text": [
      "Enter password: ········\n"
     ]
    }
   ],
   "source": [
    "myHub = Hub(\"https://www.arcgis.com\", 'mmajumdar_dcdev')"
   ]
  },
  {
   "cell_type": "markdown",
   "metadata": {},
   "source": [
    "### Cloning an initiative"
   ]
  },
  {
   "cell_type": "markdown",
   "metadata": {},
   "source": [
    "We start by fetching the initiative we would like to clone"
   ]
  },
  {
   "cell_type": "code",
   "execution_count": 4,
   "metadata": {},
   "outputs": [
    {
     "data": {
      "text/plain": [
       "<Initiative title:\"Python initiative - new\" owner:mmajumdar_dcdev>"
      ]
     },
     "execution_count": 4,
     "metadata": {},
     "output_type": "execute_result"
    }
   ],
   "source": [
    "i1 = myHub.initiatives.get('d2f7b4a5e6c74fad91940ee4d0458ff6')\n",
    "i1"
   ]
  },
  {
   "cell_type": "code",
   "execution_count": 5,
   "metadata": {},
   "outputs": [
    {
     "data": {
      "text/html": [
       "<div class=\"item_container\" style=\"height: auto; overflow: hidden; border: 1px solid #cfcfcf; border-radius: 2px; background: #f6fafa; line-height: 1.21429em; padding: 10px;\">\n",
       "                    <div class=\"item_left\" style=\"width: 210px; float: left;\">\n",
       "                       <a href='https://dcdev.maps.arcgis.com/home/item.html?id=fffa7fcbb6da4c0e91565051caf0192d' target='_blank'>\n",
       "                        <img src='http://static.arcgis.com/images/desktopapp.png' class=\"itemThumbnail\">\n",
       "                       </a>\n",
       "                    </div>\n",
       "\n",
       "                    <div class=\"item_right\"     style=\"float: none; width: auto; overflow: hidden;\">\n",
       "                        <a href='https://dcdev.maps.arcgis.com/home/item.html?id=fffa7fcbb6da4c0e91565051caf0192d' target='_blank'><b>Python initiative - Manushi clone</b>\n",
       "                        </a>\n",
       "                        <br/>Python initiative - Manushi clone Custom initiative<img src='https://dcdev.maps.arcgis.com/home/js/jsapi/esri/css/images/item_type_icons/layers16.png' style=\"vertical-align:middle;\">Hub Initiative by mmajumdar_dcdev\n",
       "                        <br/>Last Modified: March 24, 2020\n",
       "                        <br/>0 comments, 1 views\n",
       "                    </div>\n",
       "                </div>\n",
       "                "
      ],
      "text/plain": [
       "<Item title:\"Python initiative - Manushi clone\" type:Hub Initiative owner:mmajumdar_dcdev>"
      ]
     },
     "execution_count": 5,
     "metadata": {},
     "output_type": "execute_result"
    }
   ],
   "source": [
    "i1_clone = myHub.initiatives.clone(i1, title='Python initiative - Manushi clone')\n",
    "i1_clone.item"
   ]
  },
  {
   "cell_type": "code",
   "execution_count": null,
   "metadata": {},
   "outputs": [],
   "source": []
  }
 ],
 "metadata": {
  "kernelspec": {
   "display_name": "Python 3",
   "language": "python",
   "name": "python3"
  },
  "language_info": {
   "codemirror_mode": {
    "name": "ipython",
    "version": 3
   },
   "file_extension": ".py",
   "mimetype": "text/x-python",
   "name": "python",
   "nbconvert_exporter": "python",
   "pygments_lexer": "ipython3",
   "version": "3.7.1"
  }
 },
 "nbformat": 4,
 "nbformat_minor": 2
}
