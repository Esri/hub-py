{
 "cells": [
  {
   "cell_type": "code",
   "execution_count": 1,
   "metadata": {},
   "outputs": [],
   "source": [
    "from arcgishub import hub"
   ]
  },
  {
   "cell_type": "code",
   "execution_count": 5,
   "metadata": {},
   "outputs": [
    {
     "name": "stdout",
     "output_type": "stream",
     "text": [
      "Enter password: ········\n"
     ]
    }
   ],
   "source": [
    "username = 'YOUR_USERNAME'\n",
    "myHub = hub.Hub(\"https://www.arcgis.com\", username)"
   ]
  },
  {
   "cell_type": "markdown",
   "metadata": {},
   "source": [
    "#### Fetching a single initiative"
   ]
  },
  {
   "cell_type": "code",
   "execution_count": 6,
   "metadata": {},
   "outputs": [],
   "source": [
    "walkability_init = myHub.initiatives.get('07fad5be49da45bea02c8f5b0876be24')"
   ]
  },
  {
   "cell_type": "code",
   "execution_count": 7,
   "metadata": {},
   "outputs": [
    {
     "data": {
      "text/html": [
       "<div class=\"item_container\" style=\"height: auto; overflow: hidden; border: 1px solid #cfcfcf; border-radius: 2px; background: #f6fafa; line-height: 1.21429em; padding: 10px;\">\n",
       "                    <div class=\"item_left\" style=\"width: 210px; float: left;\">\n",
       "                       <a href='https://www.arcgis.com/home/item.html?id=07fad5be49da45bea02c8f5b0876be24' target='_blank'>\n",
       "                        <img src='http://static.arcgis.com/images/desktopapp.png' class=\"itemThumbnail\">\n",
       "                       </a>\n",
       "                    </div>\n",
       "\n",
       "                    <div class=\"item_right\"     style=\"float: none; width: auto; overflow: hidden;\">\n",
       "                        <a href='https://www.arcgis.com/home/item.html?id=07fad5be49da45bea02c8f5b0876be24' target='_blank'><b>Walkability Assessment </b>\n",
       "                        </a>\n",
       "                        <br/>Assess how walkable your city is<img src='https://www.arcgis.com/home/js/jsapi/esri/css/images/item_type_icons/layers16.png' style=\"vertical-align:middle;\">Hub Initiative by mmajumdar_dcdev\n",
       "                        <br/>Last Modified: March 21, 2019\n",
       "                        <br/>0 comments, 40 views\n",
       "                    </div>\n",
       "                </div>\n",
       "                "
      ],
      "text/plain": [
       "<Item title:\"Walkability Assessment \" type:Hub Initiative owner:mmajumdar_dcdev>"
      ]
     },
     "execution_count": 7,
     "metadata": {},
     "output_type": "execute_result"
    }
   ],
   "source": [
    "walkability_init.item"
   ]
  },
  {
   "cell_type": "code",
   "execution_count": 8,
   "metadata": {},
   "outputs": [
    {
     "data": {
      "text/plain": [
       "'http://walkability-assessment-dcdev.hub.arcgis.com'"
      ]
     },
     "execution_count": 8,
     "metadata": {},
     "output_type": "execute_result"
    }
   ],
   "source": [
    "walkability_init.siteUrl"
   ]
  },
  {
   "cell_type": "markdown",
   "metadata": {},
   "source": [
    "#### Adding new initiaitve"
   ]
  },
  {
   "cell_type": "code",
   "execution_count": 9,
   "metadata": {},
   "outputs": [],
   "source": [
    "myInitiative = myHub.initiatives.add(title='New Initiative with Python')"
   ]
  },
  {
   "cell_type": "code",
   "execution_count": 10,
   "metadata": {},
   "outputs": [
    {
     "data": {
      "text/html": [
       "<div class=\"item_container\" style=\"height: auto; overflow: hidden; border: 1px solid #cfcfcf; border-radius: 2px; background: #f6fafa; line-height: 1.21429em; padding: 10px;\">\n",
       "                    <div class=\"item_left\" style=\"width: 210px; float: left;\">\n",
       "                       <a href='https://www.arcgis.com/home/item.html?id=4a7542258a384960a66632266045820f' target='_blank'>\n",
       "                        <img src='http://static.arcgis.com/images/desktopapp.png' class=\"itemThumbnail\">\n",
       "                       </a>\n",
       "                    </div>\n",
       "\n",
       "                    <div class=\"item_right\"     style=\"float: none; width: auto; overflow: hidden;\">\n",
       "                        <a href='https://www.arcgis.com/home/item.html?id=4a7542258a384960a66632266045820f' target='_blank'><b>New Initiative with Python</b>\n",
       "                        </a>\n",
       "                        <br/>New Initiative with Python Custom initiative<img src='https://www.arcgis.com/home/js/jsapi/esri/css/images/item_type_icons/layers16.png' style=\"vertical-align:middle;\">Hub Initiative by mmajumdar_dcdev\n",
       "                        <br/>Last Modified: March 25, 2019\n",
       "                        <br/>0 comments, 0 views\n",
       "                    </div>\n",
       "                </div>\n",
       "                "
      ],
      "text/plain": [
       "<Item title:\"New Initiative with Python\" type:Hub Initiative owner:mmajumdar_dcdev>"
      ]
     },
     "execution_count": 10,
     "metadata": {},
     "output_type": "execute_result"
    }
   ],
   "source": [
    "myInitiative.item"
   ]
  },
  {
   "cell_type": "code",
   "execution_count": 11,
   "metadata": {},
   "outputs": [
    {
     "data": {
      "text/plain": [
       "<Initiative title:\"New Initiative with Python\" owner:mmajumdar_dcdev>"
      ]
     },
     "execution_count": 11,
     "metadata": {},
     "output_type": "execute_result"
    }
   ],
   "source": [
    "myInitiative"
   ]
  },
  {
   "cell_type": "markdown",
   "metadata": {},
   "source": [
    "#### Updating initiative"
   ]
  },
  {
   "cell_type": "code",
   "execution_count": 12,
   "metadata": {},
   "outputs": [
    {
     "data": {
      "text/plain": [
       "{\n",
       "  \"assets\": [\n",
       "    {\n",
       "      \"id\": \"bannerImage\",\n",
       "      \"url\": \"https://www.arcgis.com/sharing/rest/content/items/4a7542258a384960a66632266045820f/resources/detail-image.jpg\",\n",
       "      \"properties\": {\n",
       "        \"type\": \"resource\",\n",
       "        \"fileName\": \"detail-image.jpg\",\n",
       "        \"mimeType\": \"image/jepg\"\n",
       "      },\n",
       "      \"license\": {\n",
       "        \"type\": \"none\"\n",
       "      },\n",
       "      \"display\": {\n",
       "        \"position\": {\n",
       "          \"x\": \"center\",\n",
       "          \"y\": \"center\"\n",
       "        }\n",
       "      }\n",
       "    },\n",
       "    {\n",
       "      \"id\": \"iconDark\",\n",
       "      \"url\": \"https://www.arcgis.com/sharing/rest/content/items/4a7542258a384960a66632266045820f/resources/icon-dark.png\",\n",
       "      \"properties\": {\n",
       "        \"type\": \"resource\",\n",
       "        \"fileName\": \"icon-dark.png\",\n",
       "        \"mimeType\": \"image/png\"\n",
       "      },\n",
       "      \"license\": {\n",
       "        \"type\": \"none\"\n",
       "      }\n",
       "    },\n",
       "    {\n",
       "      \"id\": \"iconLight\",\n",
       "      \"url\": \"https://www.arcgis.com/sharing/rest/content/items/4a7542258a384960a66632266045820f/resources/icon-light.png\",\n",
       "      \"properties\": {\n",
       "        \"type\": \"resource\",\n",
       "        \"fileName\": \"icon-light.png\",\n",
       "        \"mimeType\": \"image/png\"\n",
       "      },\n",
       "      \"license\": {\n",
       "        \"type\": \"none\"\n",
       "      }\n",
       "    }\n",
       "  ],\n",
       "  \"steps\": [\n",
       "    {\n",
       "      \"id\": \"informTools\",\n",
       "      \"title\": \"Inform the Public\",\n",
       "      \"description\": \"Share data about your initiative with the public so people can easily find, download and use your data in different formats.\",\n",
       "      \"templateIds\": [],\n",
       "      \"itemIds\": []\n",
       "    },\n",
       "    {\n",
       "      \"id\": \"listenTools\",\n",
       "      \"title\": \"Listen to the Public\",\n",
       "      \"description\": \"Create ways to gather citizen feedback to help inform your city officials.\",\n",
       "      \"templateIds\": [],\n",
       "      \"itemIds\": []\n",
       "    },\n",
       "    {\n",
       "      \"id\": \"monitorTools\",\n",
       "      \"title\": \"Monitor Progress\",\n",
       "      \"description\": \"Establish performance measures that incorporate the publics perspective.\",\n",
       "      \"templateIds\": [],\n",
       "      \"itemIds\": []\n",
       "    }\n",
       "  ],\n",
       "  \"indicators\": [],\n",
       "  \"values\": {\n",
       "    \"collaborationGroupId\": \"57ae5e94cb77442a94c2c9f1e9bc83c9\",\n",
       "    \"openDataGroupId\": \"0adbfa80ca1f4297941475f66c6ce1e3\",\n",
       "    \"followerGroups\": [],\n",
       "    \"bannerImage\": {\n",
       "      \"source\": \"bannerImage\",\n",
       "      \"display\": {\n",
       "        \"position\": {\n",
       "          \"x\": \"center\",\n",
       "          \"y\": \"center\"\n",
       "        }\n",
       "      }\n",
       "    }\n",
       "  }\n",
       "}"
      ]
     },
     "execution_count": 12,
     "metadata": {},
     "output_type": "execute_result"
    }
   ],
   "source": [
    "myInitiative_data = myInitiative.definition\n",
    "myInitiative_data"
   ]
  },
  {
   "cell_type": "code",
   "execution_count": 13,
   "metadata": {},
   "outputs": [],
   "source": [
    "myInitiative_data['snippet'] = 'Create your own initiative by combining existing applications with a custom site'"
   ]
  },
  {
   "cell_type": "code",
   "execution_count": 14,
   "metadata": {},
   "outputs": [
    {
     "data": {
      "text/plain": [
       "True"
      ]
     },
     "execution_count": 14,
     "metadata": {},
     "output_type": "execute_result"
    }
   ],
   "source": [
    "myInitiative.update(initiative_properties=myInitiative_data)"
   ]
  },
  {
   "cell_type": "code",
   "execution_count": 15,
   "metadata": {},
   "outputs": [
    {
     "data": {
      "text/html": [
       "<div class=\"item_container\" style=\"height: auto; overflow: hidden; border: 1px solid #cfcfcf; border-radius: 2px; background: #f6fafa; line-height: 1.21429em; padding: 10px;\">\n",
       "                    <div class=\"item_left\" style=\"width: 210px; float: left;\">\n",
       "                       <a href='https://www.arcgis.com/home/item.html?id=4a7542258a384960a66632266045820f' target='_blank'>\n",
       "                        <img src='http://static.arcgis.com/images/desktopapp.png' class=\"itemThumbnail\">\n",
       "                       </a>\n",
       "                    </div>\n",
       "\n",
       "                    <div class=\"item_right\"     style=\"float: none; width: auto; overflow: hidden;\">\n",
       "                        <a href='https://www.arcgis.com/home/item.html?id=4a7542258a384960a66632266045820f' target='_blank'><b>New Initiative with Python</b>\n",
       "                        </a>\n",
       "                        <br/>Create your own initiative by combining existing applications with a custom site<img src='https://www.arcgis.com/home/js/jsapi/esri/css/images/item_type_icons/layers16.png' style=\"vertical-align:middle;\">Hub Initiative by mmajumdar_dcdev\n",
       "                        <br/>Last Modified: March 25, 2019\n",
       "                        <br/>0 comments, 1 views\n",
       "                    </div>\n",
       "                </div>\n",
       "                "
      ],
      "text/plain": [
       "<Item title:\"New Initiative with Python\" type:Hub Initiative owner:mmajumdar_dcdev>"
      ]
     },
     "execution_count": 15,
     "metadata": {},
     "output_type": "execute_result"
    }
   ],
   "source": [
    "myInitiative.item"
   ]
  },
  {
   "cell_type": "markdown",
   "metadata": {},
   "source": [
    "Refer the [item properties table](https://esri.github.io/arcgis-python-api/apidoc/html/arcgis.gis.toc.html#arcgis.gis.Item.update) to learn more about `initiative_properties` that can be updated using this function"
   ]
  },
  {
   "cell_type": "markdown",
   "metadata": {},
   "source": [
    "#### Searching for initiatives"
   ]
  },
  {
   "cell_type": "code",
   "execution_count": 16,
   "metadata": {},
   "outputs": [
    {
     "data": {
      "text/plain": [
       "[<Initiative title:\"Vision Zero ManushiM\" owner:mmajumdar_dcdev>,\n",
       " <Initiative title:\"Vision Zero with Collision Lens App Florida\" owner:mmajumdar_dcdev>,\n",
       " <Initiative title:\"Place Boundary analysis - DC\" owner:mmajumdar_dcdev>,\n",
       " <Initiative title:\"Vision Zero Manushi\" owner:mmajumdar_dcdev>,\n",
       " <Initiative title:\"Vision Zero - DevSummit\" owner:mmajumdar_dcdev>,\n",
       " <Initiative title:\"Vision Zero 1\" owner:mmajumdar_dcdev>]"
      ]
     },
     "execution_count": 16,
     "metadata": {},
     "output_type": "execute_result"
    }
   ],
   "source": [
    "myHub.initiatives.search(owner=username, tags='Hub')"
   ]
  },
  {
   "cell_type": "markdown",
   "metadata": {},
   "source": [
    "#### Delete initiative"
   ]
  },
  {
   "cell_type": "code",
   "execution_count": 17,
   "metadata": {},
   "outputs": [
    {
     "data": {
      "text/plain": [
       "True"
      ]
     },
     "execution_count": 17,
     "metadata": {},
     "output_type": "execute_result"
    }
   ],
   "source": [
    "myInitiative.delete()"
   ]
  },
  {
   "cell_type": "code",
   "execution_count": null,
   "metadata": {},
   "outputs": [],
   "source": []
  }
 ],
 "metadata": {
  "kernelspec": {
   "display_name": "Python 3",
   "language": "python",
   "name": "python3"
  },
  "language_info": {
   "codemirror_mode": {
    "name": "ipython",
    "version": 3
   },
   "file_extension": ".py",
   "mimetype": "text/x-python",
   "name": "python",
   "nbconvert_exporter": "python",
   "pygments_lexer": "ipython3",
   "version": "3.7.1"
  }
 },
 "nbformat": 4,
 "nbformat_minor": 2
}
