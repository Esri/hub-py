{
 "cells": [
  {
   "cell_type": "markdown",
   "metadata": {},
   "source": [
    "# Initiative Analysis for Vision Zero\n",
    "\n",
    "> 1. Connect to your Hub\n",
    "> 2. Get crashes, DC wards, merge -> publish collisionLens layer\n",
    "> 3. Add it as a derived indicator"
   ]
  },
  {
   "cell_type": "code",
   "execution_count": 1,
   "metadata": {},
   "outputs": [],
   "source": [
    "#Import packages\n",
    "from arcgishub import hub\n",
    "from arcgis import GIS\n",
    "from arcgis.features import *\n",
    "import pandas as pd"
   ]
  },
  {
   "cell_type": "markdown",
   "metadata": {},
   "source": [
    "### User-defined inputs"
   ]
  },
  {
   "cell_type": "code",
   "execution_count": 2,
   "metadata": {},
   "outputs": [],
   "source": [
    "#User-defined inputs\n",
    "org_url = \"https://dc.mapsqa.arcgis.com/\"\n",
    "initiative_id = '75511dbc05dd434ea1885ea1640f8450'\n",
    "username = username\n",
    "password = password\n",
    "start_date = '2018-01-01 00:00:00'\n",
    "end_date = '2019-01-01 00:00:00'"
   ]
  },
  {
   "cell_type": "markdown",
   "metadata": {},
   "source": [
    "### 1. Connect to your Hub"
   ]
  },
  {
   "cell_type": "code",
   "execution_count": 3,
   "metadata": {},
   "outputs": [],
   "source": [
    "myHub = hub.Hub(org_url, username, password)"
   ]
  },
  {
   "cell_type": "code",
   "execution_count": 4,
   "metadata": {},
   "outputs": [],
   "source": [
    "gis = GIS(org_url, username, password)"
   ]
  },
  {
   "cell_type": "code",
   "execution_count": 5,
   "metadata": {},
   "outputs": [
    {
     "data": {
      "text/plain": [
       "[{'id': '75511dbc05dd434ea1885ea1640f8450',\n",
       "  'owner': 'dcadminqa',\n",
       "  'created': '01-15-2019 -- 12:39:15',\n",
       "  'modified': '01-25-2019 -- 14:16:51',\n",
       "  'title': \"Manushi's Vision Zero - Adopted from Template\",\n",
       "  'description': 'Create your own initiative by combining existing applications with a custom site.',\n",
       "  'url': 'https://hubqa.arcgis.com/admin/initiatives/75511dbc05dd434ea1885ea1640f8450',\n",
       "  'tags': ['Hub Initiative']}]"
      ]
     },
     "execution_count": 5,
     "metadata": {},
     "output_type": "execute_result"
    }
   ],
   "source": [
    "#Search for initiative by name\n",
    "vz_analytics = myHub.initiative_search(initiative_id = initiative_id)\n",
    "vz_analytics"
   ]
  },
  {
   "cell_type": "code",
   "execution_count": 6,
   "metadata": {},
   "outputs": [
    {
     "data": {
      "text/plain": [
       "[{'id': 'wardBoundary',\n",
       "  'url': 'https://maps2.dcgis.dc.gov/dcgis/rest/services/DCGIS_DATA/Administrative_Other_Boundaries_WebMercator/MapServer/31',\n",
       "  'itemId': '22f727d281ed4bebb631b477aef091c2',\n",
       "  'name': 'Ward - 2012'},\n",
       " {'id': 'streetCrashes',\n",
       "  'url': 'https://maps2.dcgis.dc.gov/dcgis/rest/services/DCGIS_DATA/Public_Safety_WebMercator/MapServer/24',\n",
       "  'itemId': 'ad20e417ef124914901c26ed46e154bc',\n",
       "  'name': 'DC_Crashes_VZ_analysis'},\n",
       " {'id': 'demographics',\n",
       "  'url': 'https://services.arcgis.com/P3ePLMYs2RVChkJx/ArcGIS/rest/services/AGOL_Base_2018_Final/FeatureServer/3',\n",
       "  'itemId': '72f186389cb849e882b56af7aa1e546b',\n",
       "  'name': 'Popular Demographics in the United States - Zip Code'},\n",
       " {'id': 'surveyCrashes',\n",
       "  'url': 'https://servicesqa.arcgis.com/97KLIFOSt5CxbiRI/arcgis/rest/services/survey123_215eab1c62054b4dad8d0bb18f11b1dd_stakeholder/FeatureServer/0',\n",
       "  'itemId': 'b8df9fd50fc546ec854a6ff509b41073',\n",
       "  'name': 'surveyPoint'}]"
      ]
     },
     "execution_count": 6,
     "metadata": {},
     "output_type": "execute_result"
    }
   ],
   "source": [
    "#Access indicators\n",
    "vz_indicators = myHub.indicator_layers(initiative_id)\n",
    "vz_indicators"
   ]
  },
  {
   "cell_type": "code",
   "execution_count": 7,
   "metadata": {},
   "outputs": [
    {
     "data": {
      "text/plain": [
       "4"
      ]
     },
     "execution_count": 7,
     "metadata": {},
     "output_type": "execute_result"
    }
   ],
   "source": [
    "len(vz_indicators)"
   ]
  },
  {
   "cell_type": "markdown",
   "metadata": {},
   "source": [
    "### 2.1 Crashes for DC"
   ]
  },
  {
   "cell_type": "code",
   "execution_count": 8,
   "metadata": {},
   "outputs": [
    {
     "data": {
      "text/plain": [
       "(198488, 53)"
      ]
     },
     "execution_count": 8,
     "metadata": {},
     "output_type": "execute_result"
    }
   ],
   "source": [
    "#Fetch crashes\n",
    "crashes_url = next(indicator['url'] for indicator in vz_indicators if indicator[\"id\"] == \"streetCrashes\")\n",
    "crashes_layer = FeatureLayer(crashes_url)\n",
    "crashes_features = crashes_layer.query()\n",
    "crashes = crashes_features.sdf\n",
    "crashes.shape"
   ]
  },
  {
   "cell_type": "code",
   "execution_count": 9,
   "metadata": {},
   "outputs": [
    {
     "data": {
      "text/plain": [
       "(26502, 53)"
      ]
     },
     "execution_count": 9,
     "metadata": {},
     "output_type": "execute_result"
    }
   ],
   "source": [
    "#Filter based on timestamp\n",
    "crashes_2018 = crashes[(crashes['FROMDATE'] > start_date) & (crashes['FROMDATE'] < end_date)]\n",
    "crashes_2018.shape"
   ]
  },
  {
   "cell_type": "code",
   "execution_count": 10,
   "metadata": {},
   "outputs": [
    {
     "name": "stderr",
     "output_type": "stream",
     "text": [
      "C:\\Users\\manu9321\\AppData\\Local\\Continuum\\Anaconda3\\lib\\site-packages\\ipykernel_launcher.py:2: SettingWithCopyWarning: \n",
      "A value is trying to be set on a copy of a slice from a DataFrame.\n",
      "Try using .loc[row_indexer,col_indexer] = value instead\n",
      "\n",
      "See the caveats in the documentation: http://pandas.pydata.org/pandas-docs/stable/indexing.html#indexing-view-versus-copy\n",
      "  \n",
      "C:\\Users\\manu9321\\AppData\\Local\\Continuum\\Anaconda3\\lib\\site-packages\\ipykernel_launcher.py:3: SettingWithCopyWarning: \n",
      "A value is trying to be set on a copy of a slice from a DataFrame.\n",
      "Try using .loc[row_indexer,col_indexer] = value instead\n",
      "\n",
      "See the caveats in the documentation: http://pandas.pydata.org/pandas-docs/stable/indexing.html#indexing-view-versus-copy\n",
      "  This is separate from the ipykernel package so we can avoid doing imports until\n"
     ]
    }
   ],
   "source": [
    "#Compute 'Total Injuries' and 'Total Fatalities'\n",
    "crashes_2018['Total_Injuries'] = crashes_2018.apply(lambda row: row['MAJORINJURIES_BICYCLIST'] + row['MAJORINJURIES_DRIVER'] + row['MAJORINJURIES_PEDESTRIAN'] + row['MINORINJURIES_BICYCLIST'] + row['MINORINJURIES_DRIVER'] + row['MINORINJURIES_PEDESTRIAN'] + row['UNKNOWNINJURIES_BICYCLIST'] + row['UNKNOWNINJURIES_DRIVER'] + row['UNKNOWNINJURIES_PEDESTRIAN'], axis=1)\n",
    "crashes_2018['Total_Fatalities'] = crashes_2018.apply(lambda row: row['FATAL_BICYCLIST'] + row['FATAL_PEDESTRIAN'] + row['FATAL_DRIVER'], axis=1)"
   ]
  },
  {
   "cell_type": "code",
   "execution_count": 11,
   "metadata": {},
   "outputs": [],
   "source": [
    "#Limit to columns of Interest\n",
    "crashes_2018_ward = crashes_2018[['WARD', 'Total_Injuries', 'Total_Fatalities']]\n",
    "crashes_2018_ward.reset_index(inplace=True)"
   ]
  },
  {
   "cell_type": "code",
   "execution_count": 12,
   "metadata": {},
   "outputs": [],
   "source": [
    "#Group by Ward name\n",
    "crashes_2018_ward_counts = crashes_2018_ward.groupby('WARD').agg({'Total_Injuries':'sum', 'Total_Fatalities':'sum'}).reset_index()"
   ]
  },
  {
   "cell_type": "markdown",
   "metadata": {},
   "source": [
    "### 2.2 Wards of DC"
   ]
  },
  {
   "cell_type": "code",
   "execution_count": 13,
   "metadata": {},
   "outputs": [
    {
     "data": {
      "text/plain": [
       "(8, 83)"
      ]
     },
     "execution_count": 13,
     "metadata": {},
     "output_type": "execute_result"
    }
   ],
   "source": [
    "wards_url = next(indicator['url'] for indicator in vz_indicators if indicator[\"id\"] == \"wardBoundary\")\n",
    "wards_layer = FeatureLayer(wards_url)\n",
    "wards_features = wards_layer.query()\n",
    "wards = wards_features.sdf\n",
    "wards.shape"
   ]
  },
  {
   "cell_type": "code",
   "execution_count": 14,
   "metadata": {},
   "outputs": [],
   "source": [
    "#Merge collision counts by ward with Ward geometries\n",
    "crashes_ward = pd.merge(wards, crashes_2018_ward_counts, left_on='NAME', right_on='WARD')"
   ]
  },
  {
   "cell_type": "code",
   "execution_count": 15,
   "metadata": {},
   "outputs": [],
   "source": [
    "#Limit to necessary columns\n",
    "crashes_ward = crashes_ward[['SHAPE', 'NAME', 'Total_Injuries', 'Total_Fatalities']]"
   ]
  },
  {
   "cell_type": "markdown",
   "metadata": {},
   "source": [
    "### 2.3 Publish collision lens derived indicator"
   ]
  },
  {
   "cell_type": "code",
   "execution_count": 16,
   "metadata": {},
   "outputs": [],
   "source": [
    "#Publish to org\n",
    "DC_CollisionLens = gis.content.import_data(crashes_ward, title='DC_NewCollisionLens3')"
   ]
  },
  {
   "cell_type": "code",
   "execution_count": 18,
   "metadata": {},
   "outputs": [
    {
     "data": {
      "text/html": [
       "<div class=\"item_container\" style=\"height: auto; overflow: hidden; border: 1px solid #cfcfcf; border-radius: 2px; background: #f6fafa; line-height: 1.21429em; padding: 10px;\">\n",
       "                    <div class=\"item_left\" style=\"width: 210px; float: left;\">\n",
       "                       <a href='https://dc.mapsqa.arcgis.com/home/item.html?id=dc21bf4bdc484ea1ae83d6c73ebc21d3' target='_blank'>\n",
       "                        <img src='data:image/png;base64,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' width='200' height='133' class=\"itemThumbnail\">\n",
       "                       </a>\n",
       "                    </div>\n",
       "\n",
       "                    <div class=\"item_right\"     style=\"float: none; width: auto; overflow: hidden;\">\n",
       "                        <a href='https://dc.mapsqa.arcgis.com/home/item.html?id=dc21bf4bdc484ea1ae83d6c73ebc21d3' target='_blank'><b>DC_NewCollisionLens3</b>\n",
       "                        </a>\n",
       "                        <br/><img src='https://dc.mapsqa.arcgis.com/home/js/jsapi/esri/css/images/item_type_icons/featureshosted16.png' style=\"vertical-align:middle;\">Feature Layer Collection by dcadminqa\n",
       "                        <br/>Last Modified: January 25, 2019\n",
       "                        <br/>0 comments, 5 views\n",
       "                    </div>\n",
       "                </div>\n",
       "                "
      ],
      "text/plain": [
       "<Item title:\"DC_NewCollisionLens3\" type:Feature Layer Collection owner:dcadminqa>"
      ]
     },
     "execution_count": 18,
     "metadata": {},
     "output_type": "execute_result"
    }
   ],
   "source": [
    "#Verifying \n",
    "search_result = gis.content.search(\"DC_NewCollisionLens3\")\n",
    "search_result[0]"
   ]
  },
  {
   "cell_type": "code",
   "execution_count": 19,
   "metadata": {},
   "outputs": [],
   "source": [
    "#Set indicator parameters\n",
    "new_item_id = search_result[0].itemid\n",
    "new_item_name = search_result[0].title\n",
    "new_item_url = search_result[0].url + '/0'"
   ]
  },
  {
   "cell_type": "markdown",
   "metadata": {},
   "source": [
    "### 3. Add it as a derived indicator"
   ]
  },
  {
   "cell_type": "code",
   "execution_count": 20,
   "metadata": {},
   "outputs": [],
   "source": [
    "collisionLens_indicator = {'id': 'collisionLens','name': 'collisionLens','type': 'Data','optional': 'true','definition': {'supportedTypes': ['FeatureLayer'],'geometryTypes': ['esriGeometryPolygon']},'source': {'type': 'FeatureLayer','url': new_item_url,'itemId': new_item_id,'name': new_item_name, \"mappings\": [{'id': 'totalFatalities','name': 'Total_Fata','alias': 'Total_Fata','type': 'esriFieldTypeInteger'},{'id': 'totalInjuries','name': 'Total_Inju','alias': 'Total_Inju','type': 'esriFieldTypeInteger'}]}}"
   ]
  },
  {
   "cell_type": "code",
   "execution_count": 21,
   "metadata": {},
   "outputs": [
    {
     "data": {
      "text/plain": [
       "True"
      ]
     },
     "execution_count": 21,
     "metadata": {},
     "output_type": "execute_result"
    }
   ],
   "source": [
    "myHub.add_derived_indicator(initiative_id=initiative_id, indicator_object=collisionLens_indicator)"
   ]
  },
  {
   "cell_type": "code",
   "execution_count": 22,
   "metadata": {},
   "outputs": [],
   "source": [
    "vz_indicators = myHub.indicator_layers(initiative_id)"
   ]
  },
  {
   "cell_type": "code",
   "execution_count": 23,
   "metadata": {},
   "outputs": [
    {
     "data": {
      "text/plain": [
       "5"
      ]
     },
     "execution_count": 23,
     "metadata": {},
     "output_type": "execute_result"
    }
   ],
   "source": [
    "len(vz_indicators)"
   ]
  },
  {
   "cell_type": "code",
   "execution_count": null,
   "metadata": {},
   "outputs": [],
   "source": []
  }
 ],
 "metadata": {
  "kernelspec": {
   "display_name": "Python 3",
   "language": "python",
   "name": "python3"
  },
  "language_info": {
   "codemirror_mode": {
    "name": "ipython",
    "version": 3
   },
   "file_extension": ".py",
   "mimetype": "text/x-python",
   "name": "python",
   "nbconvert_exporter": "python",
   "pygments_lexer": "ipython3",
   "version": "3.6.8"
  }
 },
 "nbformat": 4,
 "nbformat_minor": 2
}
