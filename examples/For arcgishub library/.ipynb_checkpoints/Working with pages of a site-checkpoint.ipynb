{
 "cells": [
  {
   "cell_type": "code",
   "execution_count": 1,
   "metadata": {},
   "outputs": [],
   "source": [
    "from arcgishub import hub"
   ]
  },
  {
   "cell_type": "code",
   "execution_count": 2,
   "metadata": {},
   "outputs": [
    {
     "name": "stdout",
     "output_type": "stream",
     "text": [
      "Enter password: ········\n"
     ]
    }
   ],
   "source": [
    "myhub = hub.Hub(\"https://www.arcgis.com\", 'mmajumdar_dcdev')"
   ]
  },
  {
   "cell_type": "markdown",
   "metadata": {},
   "source": [
    "### Fetch site"
   ]
  },
  {
   "cell_type": "code",
   "execution_count": 3,
   "metadata": {},
   "outputs": [
    {
     "data": {
      "text/html": [
       "<div class=\"item_container\" style=\"height: auto; overflow: hidden; border: 1px solid #cfcfcf; border-radius: 2px; background: #f6fafa; line-height: 1.21429em; padding: 10px;\">\n",
       "                    <div class=\"item_left\" style=\"width: 210px; float: left;\">\n",
       "                       <a href='https://www.arcgis.com/home/item.html?id=52ec55a018dc43cb896409f071be207d' target='_blank'>\n",
       "                        <img src='data:image/png;base64,iVBORw0KGgoAAAANSUhEUgAAAMgAAACFCAYAAAAenrcsAAAACXBIWXMAAAsSAAALEgHS3X78AAACgklEQVR42u3dP27TUADH8V9oJqYs7HCDbFFmBpi4Qgp7ogapiE5V50q4cnaUXIGtG2PaKTfgCmFBsDEQZkL1HJvw+RzAsf3y1Xt2/riXBk1n80GS0ySTJMNAOZskqyTLRV1tm3qRXoNxnCW5TDIwljRom+RqUVc3/0Qgu1mj2s0ccCjLJPPSs0m/gR0VB234/Z57XXKjJw0sq94bK1oyHI3GX+/v1uvOLbF2S6svrjnowDXJs1JLrUeFpzhx0LZBySV+yUAmxoaOmHQxEJ9z0JlrkS4GAkdHICAQeJh+a6/84q2zz/5uP5hBwBILBAICAYGAQACBgEBAICAQEAgIBAQCAgGBAAIBgYBAQCBweK39Jv36+RNnn72d35pBwBILBAICAYGAQACBgEBAIHAg/WM7oG+f3nR+Hx+/+ujYzCAgEBAICAQQCAgEBAICAYGAQEAgIBAQCCAQEAgIBAQCAgGBgEBAICAQEAggEBAICAQEAgIBgYBA4Igc3eMPju3v9/+XYzODgEBAICAQQCAgEHgoT7ltgafcmkFAICAQEAggEBAICAQEAgIBgYBAQCAgEEAgIBAQCAgEBAICAYGAQEAgIBBAICAQEAgIBAQCAgGBwHHxlFvHhhkEBAICAYGAQEAgIBAQCAgEEAjsqbWvmpy/u3D2MYOAQEAgf7RxOumITRcDWRkXOmLVxUCWSbbGhpZtd+/FIk5Kbej+bv19NBr/SPLSGNGii0Vdfe5cILtI1qPR+GmSoXGiBctFXRX9/KCJu1jzklMc/MUSf156o72m9nY6m58luUwyMHY0fM1xtairmyY23mtyz6ez+SDJaZKJZReFbfLrbtVyUVeN3Rz6CdebXmXkLnGpAAAAAElFTkSuQmCC' width='200' height='133' class=\"itemThumbnail\">\n",
       "                       </a>\n",
       "                    </div>\n",
       "\n",
       "                    <div class=\"item_right\"     style=\"float: none; width: auto; overflow: hidden;\">\n",
       "                        <a href='https://www.arcgis.com/home/item.html?id=52ec55a018dc43cb896409f071be207d' target='_blank'><b>pages of a site</b>\n",
       "                        </a>\n",
       "                        <br/>Create your own initiative by combining existing applications with a custom site. Use this initiative to form teams around a problem and invite your community to participate.<img src='https://www.arcgis.com/home/js/jsapi/esri/css/images/item_type_icons/layers16.png' style=\"vertical-align:middle;\">Hub Site Application by mmajumdar_dcdev\n",
       "                        <br/>Last Modified: February 18, 2020\n",
       "                        <br/>0 comments, 172 views\n",
       "                    </div>\n",
       "                </div>\n",
       "                "
      ],
      "text/plain": [
       "<Item title:\"pages of a site\" type:Hub Site Application owner:mmajumdar_dcdev>"
      ]
     },
     "execution_count": 3,
     "metadata": {},
     "output_type": "execute_result"
    }
   ],
   "source": [
    "s = myhub.sites.get('52ec55a018dc43cb896409f071be207d')\n",
    "s.item"
   ]
  },
  {
   "cell_type": "markdown",
   "metadata": {},
   "source": [
    "### View all pages of a site"
   ]
  },
  {
   "cell_type": "markdown",
   "metadata": {},
   "source": [
    "You can view pages of a site by using either the `all_pages` property of a site, or by using the `search()` method. An example using the property is demonstrated below."
   ]
  },
  {
   "cell_type": "code",
   "execution_count": 4,
   "metadata": {},
   "outputs": [
    {
     "data": {
      "text/plain": [
       "[<Page title:\"a new page\" owner:ghudgins5>,\n",
       " <Page title:\"page1\" owner:mmajumdar_dcdev>,\n",
       " <Page title:\"page2\" owner:mmajumdar_dcdev>,\n",
       " <Page title:\"Python scripted page\" owner:mmajumdar_dcdev>,\n",
       " <Page title:\"Python page\" owner:mmajumdar_dcdev>]"
      ]
     },
     "execution_count": 4,
     "metadata": {},
     "output_type": "execute_result"
    }
   ],
   "source": [
    "s.pages.search()"
   ]
  },
  {
   "cell_type": "markdown",
   "metadata": {},
   "source": [
    "### Fetch a page"
   ]
  },
  {
   "cell_type": "code",
   "execution_count": 5,
   "metadata": {},
   "outputs": [
    {
     "data": {
      "text/html": [
       "<div class=\"item_container\" style=\"height: auto; overflow: hidden; border: 1px solid #cfcfcf; border-radius: 2px; background: #f6fafa; line-height: 1.21429em; padding: 10px;\">\n",
       "                    <div class=\"item_left\" style=\"width: 210px; float: left;\">\n",
       "                       <a href='https://www.arcgis.com/home/item.html?id=1c75da020b2f4943a3f657ef59fc1bc8' target='_blank'>\n",
       "                        <img src='data:image/png;base64,iVBORw0KGgoAAAANSUhEUgAAAMgAAACFCAYAAAAenrcsAAAACXBIWXMAAAsSAAALEgHS3X78AAACVklEQVR42u3bMW7TUBzH8V9oDpCFvdwgm9WZAW6RcoBEDVIRnarOSLiyL5Acoxtj2ik34Aphg42BMFPQe7WpPp8D2JZfvnp/28okFS1X61mS8ySLJPNAOfsk2ySbvmsPtU4yqRjHRZLrJDNrSUWHJDd9197+F4Ecd432uHPAU9kkWZfeTaYVLlQcDOH3b+5dyYOeVBirPlorBjJvmrNvD/e73ehGrONo9dUzByN4JnlVatR6UXiLEwdDm5Uc8UsGsrA2jMRijIH4zsFonkXGGAg8OwIBgcC/mQ525jfv3X0e7+6zHQSMWCAQEAgIBAQCCAQEAgIBgYBAQCAgEBAICAQQCAgEBAICgac32H/SP71+6e7zaJd3dhAwYoFAQCAgEBAIIBAQCAgEBAICAYGAQEAgIBBAICAQEAgIBAQCAgGBgEBAICAQQCAgEBAICAQEAgIBgYBAQCCAQEAgIBAQCAgEBAICAYGAQEAggEBAICAQEAgIBAQCAgGBgEAAgYBAQCAgEBAICAQEAgIBgYBAAIGAQEAgIBAQCAgEBAICAYGAQACBgEBAICAQEAgIBAQCAgGBAAIBgYBAQCAgEBAICASeielQJ778cOXuYwcBgYBA/mjvdjIS+zEGsrUujMR2jIFskhysDQM7HH+LRZyUOtDD/e5705z9SPLWGjGgq75rv4wukGMku6Y5O00yt04MYNN3bdHvBzXeYq1LbnHwFyP+uvRBJ7WudrlaXyS5TjKzdlR+5rjpu/a2xsEnNa98uVrPkpwnWRi7KGyfX2+rNn3XVns59BNlG06FXiiUNQAAAABJRU5ErkJggg==' width='200' height='133' class=\"itemThumbnail\">\n",
       "                       </a>\n",
       "                    </div>\n",
       "\n",
       "                    <div class=\"item_right\"     style=\"float: none; width: auto; overflow: hidden;\">\n",
       "                        <a href='https://www.arcgis.com/home/item.html?id=1c75da020b2f4943a3f657ef59fc1bc8' target='_blank'><b>page space</b>\n",
       "                        </a>\n",
       "                        <br/><img src='https://www.arcgis.com/home/js/jsapi/esri/css/images/item_type_icons/layers16.png' style=\"vertical-align:middle;\">Hub Page by mmajumdar_dcdev\n",
       "                        <br/>Last Modified: February 18, 2020\n",
       "                        <br/>0 comments, 47 views\n",
       "                    </div>\n",
       "                </div>\n",
       "                "
      ],
      "text/plain": [
       "<Item title:\"page space\" type:Hub Page owner:mmajumdar_dcdev>"
      ]
     },
     "execution_count": 5,
     "metadata": {},
     "output_type": "execute_result"
    }
   ],
   "source": [
    "new_page = myhub.pages.get('1c75da020b2f4943a3f657ef59fc1bc8')\n",
    "new_page.item"
   ]
  },
  {
   "cell_type": "markdown",
   "metadata": {},
   "source": [
    "### Link a page"
   ]
  },
  {
   "cell_type": "markdown",
   "metadata": {},
   "source": [
    "Linking an unlinking pages is possible by calling the `link()` or `unlink()` methods on `pages` and passing the page object of the page to link/unlink."
   ]
  },
  {
   "cell_type": "code",
   "execution_count": 6,
   "metadata": {},
   "outputs": [
    {
     "data": {
      "text/plain": [
       "[<Page title:\"a new page\" owner:ghudgins5>,\n",
       " <Page title:\"page1\" owner:mmajumdar_dcdev>,\n",
       " <Page title:\"page2\" owner:mmajumdar_dcdev>,\n",
       " <Page title:\"Python scripted page\" owner:mmajumdar_dcdev>,\n",
       " <Page title:\"Python page\" owner:mmajumdar_dcdev>,\n",
       " <Page title:\"page space\" owner:mmajumdar_dcdev>]"
      ]
     },
     "execution_count": 6,
     "metadata": {},
     "output_type": "execute_result"
    }
   ],
   "source": [
    "s.pages.link(new_page, slug='linked page space')\n",
    "s.pages.search()"
   ]
  },
  {
   "cell_type": "markdown",
   "metadata": {},
   "source": [
    "### Unlink a page"
   ]
  },
  {
   "cell_type": "code",
   "execution_count": 7,
   "metadata": {},
   "outputs": [
    {
     "data": {
      "text/plain": [
       "[<Page title:\"a new page\" owner:ghudgins5>,\n",
       " <Page title:\"page1\" owner:mmajumdar_dcdev>,\n",
       " <Page title:\"page2\" owner:mmajumdar_dcdev>,\n",
       " <Page title:\"Python scripted page\" owner:mmajumdar_dcdev>,\n",
       " <Page title:\"Python page\" owner:mmajumdar_dcdev>]"
      ]
     },
     "execution_count": 7,
     "metadata": {},
     "output_type": "execute_result"
    }
   ],
   "source": [
    "s.pages.unlink(new_page)\n",
    "s.pages.search()"
   ]
  },
  {
   "cell_type": "markdown",
   "metadata": {},
   "source": [
    "### Add a page"
   ]
  },
  {
   "cell_type": "code",
   "execution_count": 8,
   "metadata": {},
   "outputs": [
    {
     "data": {
      "text/html": [
       "<div class=\"item_container\" style=\"height: auto; overflow: hidden; border: 1px solid #cfcfcf; border-radius: 2px; background: #f6fafa; line-height: 1.21429em; padding: 10px;\">\n",
       "                    <div class=\"item_left\" style=\"width: 210px; float: left;\">\n",
       "                       <a href='https://www.arcgis.com/home/item.html?id=4c7f97a334f04bdf85fbc9b2997b0e0e' target='_blank'>\n",
       "                        <img src='http://static.arcgis.com/images/desktopapp.png' class=\"itemThumbnail\">\n",
       "                       </a>\n",
       "                    </div>\n",
       "\n",
       "                    <div class=\"item_right\"     style=\"float: none; width: auto; overflow: hidden;\">\n",
       "                        <a href='https://www.arcgis.com/home/item.html?id=4c7f97a334f04bdf85fbc9b2997b0e0e' target='_blank'><b>Python page</b>\n",
       "                        </a>\n",
       "                        <br/><img src='https://www.arcgis.com/home/js/jsapi/esri/css/images/item_type_icons/layers16.png' style=\"vertical-align:middle;\">Hub Page by mmajumdar_dcdev\n",
       "                        <br/>Last Modified: February 18, 2020\n",
       "                        <br/>0 comments, 0 views\n",
       "                    </div>\n",
       "                </div>\n",
       "                "
      ],
      "text/plain": [
       "<Item title:\"Python page\" type:Hub Page owner:mmajumdar_dcdev>"
      ]
     },
     "execution_count": 8,
     "metadata": {},
     "output_type": "execute_result"
    }
   ],
   "source": [
    "p1 = s.pages.add(title='Python page')\n",
    "p1.item"
   ]
  },
  {
   "cell_type": "markdown",
   "metadata": {},
   "source": [
    "### Clone page in same site"
   ]
  },
  {
   "cell_type": "code",
   "execution_count": 9,
   "metadata": {},
   "outputs": [
    {
     "data": {
      "text/plain": [
       "<Page title:\"Python page-copy-1582057288375\" owner:mmajumdar_dcdev>"
      ]
     },
     "execution_count": 9,
     "metadata": {},
     "output_type": "execute_result"
    }
   ],
   "source": [
    "cloned_page = s.pages.clone(p1)\n",
    "cloned_page"
   ]
  },
  {
   "cell_type": "markdown",
   "metadata": {},
   "source": [
    "### Update a page"
   ]
  },
  {
   "cell_type": "markdown",
   "metadata": {},
   "source": [
    "Let's update the title of the newly cloned page"
   ]
  },
  {
   "cell_type": "code",
   "execution_count": 10,
   "metadata": {},
   "outputs": [
    {
     "data": {
      "text/plain": [
       "<Page title:\"Cloned page\" owner:mmajumdar_dcdev>"
      ]
     },
     "execution_count": 10,
     "metadata": {},
     "output_type": "execute_result"
    }
   ],
   "source": [
    "cloned_page.update(page_properties={'title':'Cloned page'})\n",
    "cloned_page"
   ]
  },
  {
   "cell_type": "code",
   "execution_count": 11,
   "metadata": {},
   "outputs": [
    {
     "data": {
      "text/plain": [
       "[<Page title:\"a new page\" owner:ghudgins5>,\n",
       " <Page title:\"page1\" owner:mmajumdar_dcdev>,\n",
       " <Page title:\"page2\" owner:mmajumdar_dcdev>,\n",
       " <Page title:\"Python scripted page\" owner:mmajumdar_dcdev>,\n",
       " <Page title:\"Python page\" owner:mmajumdar_dcdev>,\n",
       " <Page title:\"Cloned page\" owner:mmajumdar_dcdev>]"
      ]
     },
     "execution_count": 11,
     "metadata": {},
     "output_type": "execute_result"
    }
   ],
   "source": [
    "s.pages.search()"
   ]
  },
  {
   "cell_type": "markdown",
   "metadata": {},
   "source": [
    "### Delete a page"
   ]
  },
  {
   "cell_type": "markdown",
   "metadata": {},
   "source": [
    "We will now delete the cloned page.\n",
    "\n",
    "Note that to verify the delete in the pages of the site, you will have to fetch the site object again as shown below."
   ]
  },
  {
   "cell_type": "code",
   "execution_count": 12,
   "metadata": {},
   "outputs": [],
   "source": [
    "cloned_page.delete()"
   ]
  },
  {
   "cell_type": "code",
   "execution_count": 14,
   "metadata": {},
   "outputs": [
    {
     "data": {
      "text/plain": [
       "[<Page title:\"a new page\" owner:ghudgins5>,\n",
       " <Page title:\"page1\" owner:mmajumdar_dcdev>,\n",
       " <Page title:\"page2\" owner:mmajumdar_dcdev>,\n",
       " <Page title:\"Python scripted page\" owner:mmajumdar_dcdev>,\n",
       " <Page title:\"Python page\" owner:mmajumdar_dcdev>]"
      ]
     },
     "execution_count": 14,
     "metadata": {},
     "output_type": "execute_result"
    }
   ],
   "source": [
    "s = myhub.sites.get('52ec55a018dc43cb896409f071be207d')\n",
    "s.pages.search()"
   ]
  },
  {
   "cell_type": "markdown",
   "metadata": {},
   "source": [
    "### Clone page in another site"
   ]
  },
  {
   "cell_type": "code",
   "execution_count": 15,
   "metadata": {},
   "outputs": [
    {
     "data": {
      "text/html": [
       "<div class=\"item_container\" style=\"height: auto; overflow: hidden; border: 1px solid #cfcfcf; border-radius: 2px; background: #f6fafa; line-height: 1.21429em; padding: 10px;\">\n",
       "                    <div class=\"item_left\" style=\"width: 210px; float: left;\">\n",
       "                       <a href='https://www.arcgis.com/home/item.html?id=66dde827deed4f26ae5d842aba053b67' target='_blank'>\n",
       "                        <img src='data:image/png;base64,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' width='200' height='133' class=\"itemThumbnail\">\n",
       "                       </a>\n",
       "                    </div>\n",
       "\n",
       "                    <div class=\"item_right\"     style=\"float: none; width: auto; overflow: hidden;\">\n",
       "                        <a href='https://www.arcgis.com/home/item.html?id=66dde827deed4f26ae5d842aba053b67' target='_blank'><b>Manushi data inventory v2 - restaurant inspections</b>\n",
       "                        </a>\n",
       "                        <br/>Create your own initiative by combining existing applications with a custom site.<img src='https://www.arcgis.com/home/js/jsapi/esri/css/images/item_type_icons/layers16.png' style=\"vertical-align:middle;\">Hub Initiative by mmajumdar_dcdev\n",
       "                        <br/>Last Modified: January 31, 2020\n",
       "                        <br/>0 comments, 53 views\n",
       "                    </div>\n",
       "                </div>\n",
       "                "
      ],
      "text/plain": [
       "<Item title:\"Manushi data inventory v2 - restaurant inspections\" type:Hub Initiative owner:mmajumdar_dcdev>"
      ]
     },
     "execution_count": 15,
     "metadata": {},
     "output_type": "execute_result"
    }
   ],
   "source": [
    "i2 = myhub.initiatives.get('66dde827deed4f26ae5d842aba053b67')\n",
    "i2.item"
   ]
  },
  {
   "cell_type": "code",
   "execution_count": 16,
   "metadata": {},
   "outputs": [],
   "source": [
    "s2 = myhub.sites.get(i2.site_id)"
   ]
  },
  {
   "cell_type": "code",
   "execution_count": 18,
   "metadata": {},
   "outputs": [
    {
     "data": {
      "text/plain": [
       "[<Page title:\"Measure\" owner:mmajumdar_dcdev>,\n",
       " <Page title:\"Python scripted page-copy-1580510681193\" owner:mmajumdar_dcdev>]"
      ]
     },
     "execution_count": 18,
     "metadata": {},
     "output_type": "execute_result"
    }
   ],
   "source": [
    "s2.pages.search()"
   ]
  },
  {
   "cell_type": "code",
   "execution_count": 19,
   "metadata": {},
   "outputs": [
    {
     "data": {
      "text/plain": [
       "<Page title:\"Python page-copy-1582057400931\" owner:mmajumdar_dcdev>"
      ]
     },
     "execution_count": 19,
     "metadata": {},
     "output_type": "execute_result"
    }
   ],
   "source": [
    "p_cloned = s2.pages.clone(p1)\n",
    "p_cloned"
   ]
  },
  {
   "cell_type": "code",
   "execution_count": 20,
   "metadata": {},
   "outputs": [
    {
     "data": {
      "text/plain": [
       "[<Page title:\"Measure\" owner:mmajumdar_dcdev>,\n",
       " <Page title:\"Python scripted page-copy-1580510681193\" owner:mmajumdar_dcdev>,\n",
       " <Page title:\"Python page-copy-1582057400931\" owner:mmajumdar_dcdev>]"
      ]
     },
     "execution_count": 20,
     "metadata": {},
     "output_type": "execute_result"
    }
   ],
   "source": [
    "s2.pages.search()"
   ]
  },
  {
   "cell_type": "code",
   "execution_count": null,
   "metadata": {},
   "outputs": [],
   "source": []
  }
 ],
 "metadata": {
  "kernelspec": {
   "display_name": "Python 3",
   "language": "python",
   "name": "python3"
  },
  "language_info": {
   "codemirror_mode": {
    "name": "ipython",
    "version": 3
   },
   "file_extension": ".py",
   "mimetype": "text/x-python",
   "name": "python",
   "nbconvert_exporter": "python",
   "pygments_lexer": "ipython3",
   "version": "3.7.1"
  }
 },
 "nbformat": 4,
 "nbformat_minor": 2
}
