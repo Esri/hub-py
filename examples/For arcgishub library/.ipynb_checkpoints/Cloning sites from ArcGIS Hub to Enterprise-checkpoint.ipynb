{
 "cells": [
  {
   "cell_type": "markdown",
   "metadata": {},
   "source": [
    "# Cloning sites from ArcGIS Hub to Enterprise\n",
    "\n",
    "A Site is container for web addressable content. Sites is a feature supported in both ArcGIS Online (through ArcGIS Hub) and ArcGIS Enterprise. \n",
    "\n",
    "We will start by exploring Sites as supported in ArcGIS Hub. A site within ArcGIS Hub exists on it's own or could be part of an initiative. "
   ]
  },
  {
   "cell_type": "code",
   "execution_count": 1,
   "metadata": {},
   "outputs": [],
   "source": [
    "from arcgishub.hub import Hub"
   ]
  },
  {
   "cell_type": "markdown",
   "metadata": {},
   "source": [
    "### Cloning site from Hub Basic to Enterprise"
   ]
  },
  {
   "cell_type": "code",
   "execution_count": 2,
   "metadata": {},
   "outputs": [
    {
     "name": "stdout",
     "output_type": "stream",
     "text": [
      "Enter password: ········\n"
     ]
    }
   ],
   "source": [
    "hub_basic = Hub(\"https://www.arcgis.com\", \"prod_bas_hub_admin\")"
   ]
  },
  {
   "cell_type": "code",
   "execution_count": 4,
   "metadata": {},
   "outputs": [
    {
     "data": {
      "text/html": [
       "<div class=\"item_container\" style=\"height: auto; overflow: hidden; border: 1px solid #cfcfcf; border-radius: 2px; background: #f6fafa; line-height: 1.21429em; padding: 10px;\">\n",
       "                    <div class=\"item_left\" style=\"width: 210px; float: left;\">\n",
       "                       <a href='https://prod-bas-hub.maps.arcgis.com/home/item.html?id=c4de575b3cb1492a89e7bf9d45ee4520' target='_blank'>\n",
       "                        <img src='data:image/png;base64,iVBORw0KGgoAAAANSUhEUgAAAMgAAACFCAYAAAAenrcsAAAACXBIWXMAAAsSAAALEgHS3X78AAACgklEQVR42u3dP27TUADH8V9oJqYs7HCDbFFmBpi4Qgp7ogapiE5V50q4cnaUXIGtG2PaKTfgCmFBsDEQZkL1HJvw+RzAsf3y1Xt2/riXBk1n80GS0ySTJMNAOZskqyTLRV1tm3qRXoNxnCW5TDIwljRom+RqUVc3/0Qgu1mj2s0ccCjLJPPSs0m/gR0VB234/Z57XXKjJw0sq94bK1oyHI3GX+/v1uvOLbF2S6svrjnowDXJs1JLrUeFpzhx0LZBySV+yUAmxoaOmHQxEJ9z0JlrkS4GAkdHICAQeJh+a6/84q2zz/5uP5hBwBILBAICAYGAQACBgEBAICAQEAgIBAQCAgGBAAIBgYBAQCBweK39Jv36+RNnn72d35pBwBILBAICAYGAQACBgEBAIHAg/WM7oG+f3nR+Hx+/+ujYzCAgEBAICAQQCAgEBAICAYGAQEAgIBAQCCAQEAgIBAQCAgGBgEBAICAQEAggEBAICAQEAgIBgYBA4Igc3eMPju3v9/+XYzODgEBAICAQQCAgEHgoT7ltgafcmkFAICAQEAggEBAICAQEAgIBgYBAQCAgEEAgIBAQCAgEBAICAYGAQEAgIBBAICAQEAgIBAQCAgGBwHHxlFvHhhkEBAICAYGAQEAgIBAQCAgEEAjsqbWvmpy/u3D2MYOAQEAgf7RxOumITRcDWRkXOmLVxUCWSbbGhpZtd+/FIk5Kbej+bv19NBr/SPLSGNGii0Vdfe5cILtI1qPR+GmSoXGiBctFXRX9/KCJu1jzklMc/MUSf156o72m9nY6m58luUwyMHY0fM1xtairmyY23mtyz6ez+SDJaZKJZReFbfLrbtVyUVeN3Rz6CdebXmXkLnGpAAAAAElFTkSuQmCC' width='200' height='133' class=\"itemThumbnail\">\n",
       "                       </a>\n",
       "                    </div>\n",
       "\n",
       "                    <div class=\"item_right\"     style=\"float: none; width: auto; overflow: hidden;\">\n",
       "                        <a href='https://prod-bas-hub.maps.arcgis.com/home/item.html?id=c4de575b3cb1492a89e7bf9d45ee4520' target='_blank'><b>New site - Manushi</b>\n",
       "                        </a>\n",
       "                        <br/><img src='https://prod-bas-hub.maps.arcgis.com/home/js/jsapi/esri/css/images/item_type_icons/layers16.png' style=\"vertical-align:middle;\">Hub Site Application by prod_bas_hub_admin\n",
       "                        <br/>Last Modified: March 24, 2020\n",
       "                        <br/>0 comments, 1 views\n",
       "                    </div>\n",
       "                </div>\n",
       "                "
      ],
      "text/plain": [
       "<Item title:\"New site - Manushi\" type:Hub Site Application owner:prod_bas_hub_admin>"
      ]
     },
     "execution_count": 4,
     "metadata": {},
     "output_type": "execute_result"
    }
   ],
   "source": [
    "site = hub_basic.sites.get('c4de575b3cb1492a89e7bf9d45ee4520')\n",
    "site.item"
   ]
  },
  {
   "cell_type": "code",
   "execution_count": 5,
   "metadata": {},
   "outputs": [],
   "source": [
    "eHub = Hub(\"url\", \"username\", \"password\")"
   ]
  },
  {
   "cell_type": "code",
   "execution_count": 6,
   "metadata": {},
   "outputs": [
    {
     "data": {
      "text/html": [
       "<div class=\"item_container\" style=\"height: auto; overflow: hidden; border: 1px solid #cfcfcf; border-radius: 2px; background: #f6fafa; line-height: 1.21429em; padding: 10px;\">\n",
       "                    <div class=\"item_left\" style=\"width: 210px; float: left;\">\n",
       "                       <a href='https://enterprise-108-ubuntu.dev.hub.geocloud.com/portal//home/item.html?id=985236da99b34496bdc02c21381c5e4b' target='_blank'>\n",
       "                        <img src='https://enterprise-108-ubuntu.dev.hub.geocloud.com/portal//portalimages/desktopapp.png' class=\"itemThumbnail\">\n",
       "                       </a>\n",
       "                    </div>\n",
       "\n",
       "                    <div class=\"item_right\"     style=\"float: none; width: auto; overflow: hidden;\">\n",
       "                        <a href='https://enterprise-108-ubuntu.dev.hub.geocloud.com/portal//home/item.html?id=985236da99b34496bdc02c21381c5e4b' target='_blank'><b>New site - Manushi-copy-1585093832239</b>\n",
       "                        </a>\n",
       "                        <br/><img src='https://enterprise-108-ubuntu.dev.hub.geocloud.com/portal//home/js/jsapi/esri/css/images/item_type_icons/layers16.png' style=\"vertical-align:middle;\">Site Application by admin\n",
       "                        <br/>Last Modified: March 24, 2020\n",
       "                        <br/>0 comments, 0 views\n",
       "                    </div>\n",
       "                </div>\n",
       "                "
      ],
      "text/plain": [
       "<Item title:\"New site - Manushi-copy-1585093832239\" type:Site Application owner:admin>"
      ]
     },
     "execution_count": 6,
     "metadata": {},
     "output_type": "execute_result"
    }
   ],
   "source": [
    "site_cloned = eHub.sites.clone(site)\n",
    "site_cloned.item"
   ]
  },
  {
   "cell_type": "markdown",
   "metadata": {},
   "source": [
    "### Cloning site from ArcGIS Enterprise to Hub"
   ]
  },
  {
   "cell_type": "code",
   "execution_count": 7,
   "metadata": {},
   "outputs": [
    {
     "data": {
      "text/html": [
       "<div class=\"item_container\" style=\"height: auto; overflow: hidden; border: 1px solid #cfcfcf; border-radius: 2px; background: #f6fafa; line-height: 1.21429em; padding: 10px;\">\n",
       "                    <div class=\"item_left\" style=\"width: 210px; float: left;\">\n",
       "                       <a href='https://enterprise-108-ubuntu.dev.hub.geocloud.com/portal//home/item.html?id=9b0c589a8bb041d3af072b0cbbfde8a9' target='_blank'>\n",
       "                        <img src='https://enterprise-108-ubuntu.dev.hub.geocloud.com/portal//portalimages/desktopapp.png' class=\"itemThumbnail\">\n",
       "                       </a>\n",
       "                    </div>\n",
       "\n",
       "                    <div class=\"item_right\"     style=\"float: none; width: auto; overflow: hidden;\">\n",
       "                        <a href='https://enterprise-108-ubuntu.dev.hub.geocloud.com/portal//home/item.html?id=9b0c589a8bb041d3af072b0cbbfde8a9' target='_blank'><b>Manushi enterprise site new</b>\n",
       "                        </a>\n",
       "                        <br/><img src='https://enterprise-108-ubuntu.dev.hub.geocloud.com/portal//home/js/jsapi/esri/css/images/item_type_icons/layers16.png' style=\"vertical-align:middle;\">Site Application by admin\n",
       "                        <br/>Last Modified: March 24, 2020\n",
       "                        <br/>0 comments, 2 views\n",
       "                    </div>\n",
       "                </div>\n",
       "                "
      ],
      "text/plain": [
       "<Item title:\"Manushi enterprise site new\" type:Site Application owner:admin>"
      ]
     },
     "execution_count": 7,
     "metadata": {},
     "output_type": "execute_result"
    }
   ],
   "source": [
    "e_site = eHub.sites.get('9b0c589a8bb041d3af072b0cbbfde8a9')\n",
    "e_site.item"
   ]
  },
  {
   "cell_type": "code",
   "execution_count": 8,
   "metadata": {},
   "outputs": [
    {
     "data": {
      "text/html": [
       "<div class=\"item_container\" style=\"height: auto; overflow: hidden; border: 1px solid #cfcfcf; border-radius: 2px; background: #f6fafa; line-height: 1.21429em; padding: 10px;\">\n",
       "                    <div class=\"item_left\" style=\"width: 210px; float: left;\">\n",
       "                       <a href='https://prod-bas-hub.maps.arcgis.com/home/item.html?id=3d52c0ccc2d04cbe8f938d46dcb2c9b4' target='_blank'>\n",
       "                        <img src='http://static.arcgis.com/images/desktopapp.png' class=\"itemThumbnail\">\n",
       "                       </a>\n",
       "                    </div>\n",
       "\n",
       "                    <div class=\"item_right\"     style=\"float: none; width: auto; overflow: hidden;\">\n",
       "                        <a href='https://prod-bas-hub.maps.arcgis.com/home/item.html?id=3d52c0ccc2d04cbe8f938d46dcb2c9b4' target='_blank'><b>Manushi enterprise site new-copy-1585093879512</b>\n",
       "                        </a>\n",
       "                        <br/><img src='https://prod-bas-hub.maps.arcgis.com/home/js/jsapi/esri/css/images/item_type_icons/layers16.png' style=\"vertical-align:middle;\">Hub Site Application by prod_bas_hub_admin\n",
       "                        <br/>Last Modified: March 24, 2020\n",
       "                        <br/>0 comments, 0 views\n",
       "                    </div>\n",
       "                </div>\n",
       "                "
      ],
      "text/plain": [
       "<Item title:\"Manushi enterprise site new-copy-1585093879512\" type:Hub Site Application owner:prod_bas_hub_admin>"
      ]
     },
     "execution_count": 8,
     "metadata": {},
     "output_type": "execute_result"
    }
   ],
   "source": [
    "esite_cloned = hub_basic.sites.clone(e_site)\n",
    "esite_cloned.item"
   ]
  },
  {
   "cell_type": "code",
   "execution_count": null,
   "metadata": {},
   "outputs": [],
   "source": []
  }
 ],
 "metadata": {
  "kernelspec": {
   "display_name": "Python 3",
   "language": "python",
   "name": "python3"
  },
  "language_info": {
   "codemirror_mode": {
    "name": "ipython",
    "version": 3
   },
   "file_extension": ".py",
   "mimetype": "text/x-python",
   "name": "python",
   "nbconvert_exporter": "python",
   "pygments_lexer": "ipython3",
   "version": "3.7.1"
  }
 },
 "nbformat": 4,
 "nbformat_minor": 2
}
