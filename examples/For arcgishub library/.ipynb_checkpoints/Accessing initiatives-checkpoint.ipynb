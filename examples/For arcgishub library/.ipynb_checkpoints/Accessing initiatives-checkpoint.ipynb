{
 "cells": [
  {
   "cell_type": "markdown",
   "metadata": {},
   "source": [
    "### Accessing Initiatives"
   ]
  },
  {
   "cell_type": "markdown",
   "metadata": {},
   "source": [
    "An Initiative supports policy- or activity-oriented goals through workflows, tools and team collaboration. Initiatives manage the team, events, content, and experiences around a shared goal.\n",
    "\n",
    "Initiative configurations can be created individually within a Hub, or they can be made into a Template which is a reusable pattern within or across Hubs. Click [here](https://doc.arcgis.com/en/hub/initiatives/initiatives-overview.htm) to learn more about initiatives."
   ]
  },
  {
   "cell_type": "code",
   "execution_count": 1,
   "metadata": {},
   "outputs": [],
   "source": [
    "from arcgishub.hub import Hub"
   ]
  },
  {
   "cell_type": "markdown",
   "metadata": {},
   "source": [
    "You start by connecting to your GIS and accessing your Hub"
   ]
  },
  {
   "cell_type": "code",
   "execution_count": 2,
   "metadata": {},
   "outputs": [
    {
     "name": "stdout",
     "output_type": "stream",
     "text": [
      "Enter password: ········\n"
     ]
    }
   ],
   "source": [
    "myHub = Hub(\"https://www.arcgis.com\", 'mmajumdar_dcdev')"
   ]
  },
  {
   "cell_type": "markdown",
   "metadata": {},
   "source": [
    "### Fetching a single initiative\n",
    "\n",
    "To fetch a particular initiative pass the initiative itemId to the `get` method on `initiatives`"
   ]
  },
  {
   "cell_type": "code",
   "execution_count": 3,
   "metadata": {},
   "outputs": [],
   "source": [
    "walkability_init = myHub.initiatives.get('07fad5be49da45bea02c8f5b0876be24')"
   ]
  },
  {
   "cell_type": "code",
   "execution_count": 4,
   "metadata": {},
   "outputs": [
    {
     "data": {
      "text/html": [
       "<div class=\"item_container\" style=\"height: auto; overflow: hidden; border: 1px solid #cfcfcf; border-radius: 2px; background: #f6fafa; line-height: 1.21429em; padding: 10px;\">\n",
       "                    <div class=\"item_left\" style=\"width: 210px; float: left;\">\n",
       "                       <a href='https://www.arcgis.com/home/item.html?id=07fad5be49da45bea02c8f5b0876be24' target='_blank'>\n",
       "                        <img src='http://static.arcgis.com/images/desktopapp.png' class=\"itemThumbnail\">\n",
       "                       </a>\n",
       "                    </div>\n",
       "\n",
       "                    <div class=\"item_right\"     style=\"float: none; width: auto; overflow: hidden;\">\n",
       "                        <a href='https://www.arcgis.com/home/item.html?id=07fad5be49da45bea02c8f5b0876be24' target='_blank'><b>Walkability Assessment </b>\n",
       "                        </a>\n",
       "                        <br/>Assess how walkable your city is<img src='https://www.arcgis.com/home/js/jsapi/esri/css/images/item_type_icons/layers16.png' style=\"vertical-align:middle;\">Hub Initiative by mmajumdar_dcdev\n",
       "                        <br/>Last Modified: June 28, 2019\n",
       "                        <br/>0 comments, 270 views\n",
       "                    </div>\n",
       "                </div>\n",
       "                "
      ],
      "text/plain": [
       "<Item title:\"Walkability Assessment \" type:Hub Initiative owner:mmajumdar_dcdev>"
      ]
     },
     "execution_count": 4,
     "metadata": {},
     "output_type": "execute_result"
    }
   ],
   "source": [
    "walkability_init.item"
   ]
  },
  {
   "cell_type": "markdown",
   "metadata": {},
   "source": [
    "Properties of an initiative can be accessed as follows:"
   ]
  },
  {
   "cell_type": "code",
   "execution_count": 5,
   "metadata": {},
   "outputs": [
    {
     "data": {
      "text/plain": [
       "'12b8f977ee1e46998c2d8aa39feb15a7'"
      ]
     },
     "execution_count": 5,
     "metadata": {},
     "output_type": "execute_result"
    }
   ],
   "source": [
    "walkability_init.site_id"
   ]
  },
  {
   "cell_type": "markdown",
   "metadata": {},
   "source": [
    "### Searching for initiatives"
   ]
  },
  {
   "cell_type": "markdown",
   "metadata": {},
   "source": [
    "You can search for initiatives based on `title`, `owner`, information about when the initiative was `created` and last `modified` or `tags`"
   ]
  },
  {
   "cell_type": "code",
   "execution_count": 6,
   "metadata": {},
   "outputs": [
    {
     "data": {
      "text/plain": [
       "[<Initiative title:\"Vision Zero - DS 2019\" owner:mmajumdar_dcdev>,\n",
       " <Initiative title:\"Vision Zero ManushiM\" owner:mmajumdar_dcdev>,\n",
       " <Initiative title:\"Vision Zero with Collision Lens App Florida\" owner:mmajumdar_dcdev>,\n",
       " <Initiative title:\"Vision Zero 1\" owner:mmajumdar_dcdev>,\n",
       " <Initiative title:\"Vision Zero\" owner:mmajumdar_dcdev>,\n",
       " <Initiative title:\"Vision Zero with Collision Lens App ksdjfjh\" owner:mmajumdar_dcdev>,\n",
       " <Initiative title:\"Vision Zero Manushi\" owner:mmajumdar_dcdev>]"
      ]
     },
     "execution_count": 6,
     "metadata": {},
     "output_type": "execute_result"
    }
   ],
   "source": [
    "myHub.initiatives.search(title='Vision Zero', owner='mmajumdar_dcdev', tags='Hub')"
   ]
  },
  {
   "cell_type": "code",
   "execution_count": null,
   "metadata": {},
   "outputs": [],
   "source": []
  }
 ],
 "metadata": {
  "kernelspec": {
   "display_name": "Python 3 (ipykernel)",
   "language": "python",
   "name": "python3"
  },
  "language_info": {
   "codemirror_mode": {
    "name": "ipython",
    "version": 3
   },
   "file_extension": ".py",
   "mimetype": "text/x-python",
   "name": "python",
   "nbconvert_exporter": "python",
   "pygments_lexer": "ipython3",
   "version": "3.7.11"
  }
 },
 "nbformat": 4,
 "nbformat_minor": 2
}
