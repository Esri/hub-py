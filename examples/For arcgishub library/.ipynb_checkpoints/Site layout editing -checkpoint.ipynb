{
 "cells": [
  {
   "cell_type": "code",
   "execution_count": 1,
   "metadata": {},
   "outputs": [
    {
     "name": "stdout",
     "output_type": "stream",
     "text": [
      "Enter password: ········\n"
     ]
    }
   ],
   "source": [
    "from arcgishub import hub\n",
    "myhub = hub.Hub(\"https://www.arcgis.com\", \"mmajumdar_dcdev\")"
   ]
  },
  {
   "cell_type": "markdown",
   "metadata": {},
   "source": [
    "### Let's start by creating an initiative and accessing its site"
   ]
  },
  {
   "cell_type": "code",
   "execution_count": 2,
   "metadata": {
    "scrolled": true
   },
   "outputs": [
    {
     "data": {
      "text/html": [
       "<div class=\"item_container\" style=\"height: auto; overflow: hidden; border: 1px solid #cfcfcf; border-radius: 2px; background: #f6fafa; line-height: 1.21429em; padding: 10px;\">\n",
       "                    <div class=\"item_left\" style=\"width: 210px; float: left;\">\n",
       "                       <a href='https://www.arcgis.com/home/item.html?id=57357be876f84e23bf1f23f02309429f' target='_blank'>\n",
       "                        <img src='http://static.arcgis.com/images/desktopapp.png' class=\"itemThumbnail\">\n",
       "                       </a>\n",
       "                    </div>\n",
       "\n",
       "                    <div class=\"item_right\"     style=\"float: none; width: auto; overflow: hidden;\">\n",
       "                        <a href='https://www.arcgis.com/home/item.html?id=57357be876f84e23bf1f23f02309429f' target='_blank'><b>Editing site layout</b>\n",
       "                        </a>\n",
       "                        <br/>Editing site layout Custom initiative<img src='https://www.arcgis.com/home/js/jsapi/esri/css/images/item_type_icons/layers16.png' style=\"vertical-align:middle;\">Hub Initiative by mmajumdar_dcdev\n",
       "                        <br/>Last Modified: March 05, 2020\n",
       "                        <br/>0 comments, 1 views\n",
       "                    </div>\n",
       "                </div>\n",
       "                "
      ],
      "text/plain": [
       "<Item title:\"Editing site layout\" type:Hub Initiative owner:mmajumdar_dcdev>"
      ]
     },
     "execution_count": 2,
     "metadata": {},
     "output_type": "execute_result"
    }
   ],
   "source": [
    "i1 = myhub.initiatives.add('Editing site layout')\n",
    "i1.item"
   ]
  },
  {
   "cell_type": "code",
   "execution_count": 3,
   "metadata": {
    "scrolled": true
   },
   "outputs": [
    {
     "data": {
      "text/html": [
       "<div class=\"item_container\" style=\"height: auto; overflow: hidden; border: 1px solid #cfcfcf; border-radius: 2px; background: #f6fafa; line-height: 1.21429em; padding: 10px;\">\n",
       "                    <div class=\"item_left\" style=\"width: 210px; float: left;\">\n",
       "                       <a href='https://www.arcgis.com/home/item.html?id=953e8c2c25f74bea802e6bfd9934aed1' target='_blank'>\n",
       "                        <img src='http://static.arcgis.com/images/desktopapp.png' class=\"itemThumbnail\">\n",
       "                       </a>\n",
       "                    </div>\n",
       "\n",
       "                    <div class=\"item_right\"     style=\"float: none; width: auto; overflow: hidden;\">\n",
       "                        <a href='https://www.arcgis.com/home/item.html?id=953e8c2c25f74bea802e6bfd9934aed1' target='_blank'><b>Editing site layout</b>\n",
       "                        </a>\n",
       "                        <br/><img src='https://www.arcgis.com/home/js/jsapi/esri/css/images/item_type_icons/layers16.png' style=\"vertical-align:middle;\">Hub Site Application by mmajumdar_dcdev\n",
       "                        <br/>Last Modified: March 05, 2020\n",
       "                        <br/>0 comments, 1 views\n",
       "                    </div>\n",
       "                </div>\n",
       "                "
      ],
      "text/plain": [
       "<Item title:\"Editing site layout\" type:Hub Site Application owner:mmajumdar_dcdev>"
      ]
     },
     "execution_count": 3,
     "metadata": {},
     "output_type": "execute_result"
    }
   ],
   "source": [
    "s1 = myhub.sites.get(i1.site_id)\n",
    "s1.item"
   ]
  },
  {
   "cell_type": "markdown",
   "metadata": {},
   "source": [
    "We have successfully created a new initiative and its site. We will edit the layout of this new site. To access the layout of a site, we access the `layout` property of the site object."
   ]
  },
  {
   "cell_type": "code",
   "execution_count": 4,
   "metadata": {},
   "outputs": [],
   "source": [
    "layout = s1.layout"
   ]
  },
  {
   "cell_type": "markdown",
   "metadata": {},
   "source": [
    "### Background on the layout of a site\n",
    "\n",
    "The Site Editor provides a user with several capabilities in the form of __cards__ to simplify their site building and editing workflows. However, applying a common change to multiple sites and pages in your organization can become a tedious process.\n",
    "Using the site layout editing functionality supported in Hub's Python API, you can successfully apply a common change across all the necessary sites and pages. \n",
    "In order to programmatically edit a site, we need to take a deeper dive into the data model of a Site/Page item. The site layout has __Sections__ which contain __Rows__ within, and the row contain __Cards__ within. \n",
    "Sections have configurable attributes such as background color and font-color and are used to theme a site or page. Rows are the building blocks of your site are implicitly created when you add a card to a section below another card. Whenever you want to add a card, such as a text card or image card, you must have a row card positioned where you want to add the content. Multiple cards can fit in a row card.\n",
    "\n",
    "![site_layout](https://user-images.githubusercontent.com/13968196/75702534-a8c25280-5c83-11ea-844a-1b513bdef50b.png)"
   ]
  },
  {
   "cell_type": "markdown",
   "metadata": {},
   "source": [
    "### Accessing elements"
   ]
  },
  {
   "cell_type": "code",
   "execution_count": 5,
   "metadata": {},
   "outputs": [
    {
     "data": {
      "text/plain": [
       "{'component': {'name': 'markdown-card', 'settings': {'markdown': \" <br> <br> <br> <br> <br><h1 style='text-align: center; '>New Initiative</h1><p style='text-align: center; '><br></p><p style='text-align: center; '><br></p><p style='text-align: center; '>What will this initiative achieve if successful?</p> <br> <br> <br> <br> <br>\"}}, 'width': 12, 'showEditor': False}"
      ]
     },
     "execution_count": 5,
     "metadata": {},
     "output_type": "execute_result"
    }
   ],
   "source": [
    "s1.layout.sections[0].ROWS[0].cards[0]"
   ]
  },
  {
   "cell_type": "markdown",
   "metadata": {},
   "source": [
    "### Editing Background color of a section"
   ]
  },
  {
   "cell_type": "markdown",
   "metadata": {},
   "source": [
    "![background_section](https://user-images.githubusercontent.com/13968196/75731926-0cb63c80-5cbf-11ea-9476-09fae298dce1.png)"
   ]
  },
  {
   "cell_type": "markdown",
   "metadata": {},
   "source": [
    "We will change the color of the background of this (2nd) `section` to maroon"
   ]
  },
  {
   "cell_type": "code",
   "execution_count": 6,
   "metadata": {},
   "outputs": [
    {
     "data": {
      "text/plain": [
       "'#3276ae'"
      ]
     },
     "execution_count": 6,
     "metadata": {},
     "output_type": "execute_result"
    }
   ],
   "source": [
    "layout.sections[1].style.background.color"
   ]
  },
  {
   "cell_type": "code",
   "execution_count": 7,
   "metadata": {},
   "outputs": [
    {
     "data": {
      "text/plain": [
       "'#800000'"
      ]
     },
     "execution_count": 7,
     "metadata": {},
     "output_type": "execute_result"
    }
   ],
   "source": [
    "layout.sections[1].style.background.color = '#800000'\n",
    "layout.sections[1].style.background.color"
   ]
  },
  {
   "cell_type": "markdown",
   "metadata": {},
   "source": [
    "### Publish new layout\n",
    "\n",
    "To update these changes to the site, we need to call the `update_layout` method on the site object, with the modified `layout`."
   ]
  },
  {
   "cell_type": "code",
   "execution_count": 8,
   "metadata": {},
   "outputs": [
    {
     "data": {
      "text/plain": [
       "True"
      ]
     },
     "execution_count": 8,
     "metadata": {},
     "output_type": "execute_result"
    }
   ],
   "source": [
    "s1.update_layout(layout)"
   ]
  },
  {
   "cell_type": "markdown",
   "metadata": {},
   "source": [
    "![maroon_section](https://user-images.githubusercontent.com/13968196/75732084-7b939580-5cbf-11ea-832e-cec5aabbae0d.png)"
   ]
  },
  {
   "cell_type": "markdown",
   "metadata": {},
   "source": [
    "### Adding a new card "
   ]
  },
  {
   "cell_type": "markdown",
   "metadata": {},
   "source": [
    "To add a new `card` you update the `cards` list for the row within the section with the dictionary for the new card.\n",
    "\n",
    "We start by first accessing the row of interest we would like to add the new card to."
   ]
  },
  {
   "cell_type": "code",
   "execution_count": 12,
   "metadata": {},
   "outputs": [
    {
     "data": {
      "text/plain": [
       "{'cards': [{'component': {'name': 'markdown-card', 'settings': {'markdown': \"<h5 style='text-align: center; '>Create your own initiative by combining existing applications with a custom site. Use this initiative to form teams around a problem and invite your community to participate.</h5><h5 style='text-align: center; '><br></h5><h5 style='text-align: center; '> </h5><p style='text-align: center; '></p>\"}}, 'width': 12, 'showEditor': False}]}"
      ]
     },
     "execution_count": 12,
     "metadata": {},
     "output_type": "execute_result"
    }
   ],
   "source": [
    "layout.sections[1].rows[0]"
   ]
  },
  {
   "cell_type": "markdown",
   "metadata": {},
   "source": [
    "The 1st row of 2nd section has 1 text card. We will now add another text card"
   ]
  },
  {
   "cell_type": "code",
   "execution_count": 13,
   "metadata": {},
   "outputs": [
    {
     "data": {
      "text/plain": [
       "[{'component': {'name': 'markdown-card', 'settings': {'markdown': \"<h5 style='text-align: center; '>Create your own initiative by combining existing applications with a custom site. Use this initiative to form teams around a problem and invite your community to participate.</h5><h5 style='text-align: center; '><br></h5><h5 style='text-align: center; '> </h5><p style='text-align: center; '></p>\"}}, 'width': 12, 'showEditor': False},\n",
       " {'component': {'name': 'markdown-card',\n",
       "   'settings': {'markdown': \"## Cross-Functional Events Data is best used in coordination between multiple departments and groups. By hosting in-person events you can share knowledge and build a cohesive collaboration to solve your more important initiatives. It is often helpful to have regular and on-going events that align with existing local community events when possible. Examples: - [GeoDev Meetup](http://www.esri.com/events/geodev-meetups) on visualization - Transportation Data Meetup, hosted by DOT - Public Safety and You, hosted by PD - Community App Challenge, hosted by Mayor's office - [ConnectEd](http://www.esri.com/connected) event with local Schools\"}},\n",
       "  'width': 6,\n",
       "  'showEditor': False}]"
      ]
     },
     "execution_count": 13,
     "metadata": {},
     "output_type": "execute_result"
    }
   ],
   "source": [
    "new_card = {'component': {'name': \"markdown-card\",'settings': {'markdown': \"## Cross-Functional Events Data is best used in coordination between multiple departments and groups. By hosting in-person events you can share knowledge and build a cohesive collaboration to solve your more important initiatives. It is often helpful to have regular and on-going events that align with existing local community events when possible. Examples: - [GeoDev Meetup](http://www.esri.com/events/geodev-meetups) on visualization - Transportation Data Meetup, hosted by DOT - Public Safety and You, hosted by PD - Community App Challenge, hosted by Mayor's office - [ConnectEd](http://www.esri.com/connected) event with local Schools\"}},'width': 6,'showEditor': False}\n",
    "layout.sections[1].rows[0].cards.append(new_card)\n",
    "layout.sections[1].rows[0].cards"
   ]
  },
  {
   "cell_type": "markdown",
   "metadata": {},
   "source": [
    "We will now publish these changes and verify the new card added"
   ]
  },
  {
   "cell_type": "code",
   "execution_count": 14,
   "metadata": {},
   "outputs": [
    {
     "data": {
      "text/plain": [
       "True"
      ]
     },
     "execution_count": 14,
     "metadata": {},
     "output_type": "execute_result"
    }
   ],
   "source": [
    "s1.update_layout(layout)"
   ]
  },
  {
   "cell_type": "markdown",
   "metadata": {},
   "source": [
    "As we can see, a new text card got added in the same previously edited row\n",
    "\n",
    "![new_card](https://user-images.githubusercontent.com/13968196/76025285-a4539f00-5efa-11ea-8abc-f68f8639770c.png)"
   ]
  },
  {
   "cell_type": "code",
   "execution_count": 54,
   "metadata": {},
   "outputs": [
    {
     "data": {
      "text/plain": [
       "arcgis._impl.common._isd.InsensitiveDict"
      ]
     },
     "execution_count": 54,
     "metadata": {},
     "output_type": "execute_result"
    }
   ],
   "source": [
    "#_layout = layout._to_isd(data=layout)\n",
    "type(nlayout.sections[3].rows[2].cards[0])"
   ]
  },
  {
   "cell_type": "markdown",
   "metadata": {},
   "source": [
    "### Deleting last section"
   ]
  },
  {
   "cell_type": "markdown",
   "metadata": {},
   "source": [
    "Let's take a look at the last section on the site before we delete it.\n",
    "\n",
    "![last_section](https://user-images.githubusercontent.com/13968196/75738182-9968f680-5ccf-11ea-8a4f-f6d814d3610b.png)\n"
   ]
  },
  {
   "cell_type": "code",
   "execution_count": 15,
   "metadata": {},
   "outputs": [
    {
     "data": {
      "text/plain": [
       "{'containment': 'fixed', 'isFooter': False, 'style': {'background': {'color': '#555555', 'image': '', 'darken': True}, 'color': '#ffffff'}, 'rows': [{'cards': [{'component': {'name': 'markdown-card', 'settings': {'markdown': '<div>&nbsp;</div>'}}, 'width': 3, 'showEditor': False}, {'component': {'name': 'markdown-card', 'settings': {'markdown': \"<div class='mt-6 mb-6' style='text-align: center;'> <h1>Contact</h1> <p>Make your site a two-way communication platform with your community. Use this to let them know that you welcome their feedback and that you want to hear from them.</p> <p><a href='#' class='btn btn-lg btn-primary'>Call To Action</a></p> </div>\"}}, 'width': 6, 'showEditor': False}, {'component': {'name': 'markdown-card', 'settings': {'markdown': '<div>&nbsp;</div>'}}, 'width': 3, 'showEditor': False}]}]}"
      ]
     },
     "execution_count": 15,
     "metadata": {},
     "output_type": "execute_result"
    }
   ],
   "source": [
    "layout.sections.pop(-1)"
   ]
  },
  {
   "cell_type": "code",
   "execution_count": 16,
   "metadata": {},
   "outputs": [
    {
     "data": {
      "text/plain": [
       "True"
      ]
     },
     "execution_count": 16,
     "metadata": {},
     "output_type": "execute_result"
    }
   ],
   "source": [
    "#Update the changes\n",
    "s1.update_layout(layout)"
   ]
  },
  {
   "cell_type": "markdown",
   "metadata": {},
   "source": [
    "![deleted_section](https://user-images.githubusercontent.com/13968196/76025670-6f941780-5efb-11ea-8d21-12f37d4faafb.png)\n"
   ]
  },
  {
   "cell_type": "markdown",
   "metadata": {},
   "source": [
    "This shows the `Call to Action` section successfully deleted from the site."
   ]
  },
  {
   "cell_type": "code",
   "execution_count": null,
   "metadata": {},
   "outputs": [],
   "source": []
  }
 ],
 "metadata": {
  "kernelspec": {
   "display_name": "Python 3",
   "language": "python",
   "name": "python3"
  },
  "language_info": {
   "codemirror_mode": {
    "name": "ipython",
    "version": 3
   },
   "file_extension": ".py",
   "mimetype": "text/x-python",
   "name": "python",
   "nbconvert_exporter": "python",
   "pygments_lexer": "ipython3",
   "version": "3.7.1"
  }
 },
 "nbformat": 4,
 "nbformat_minor": 2
}
