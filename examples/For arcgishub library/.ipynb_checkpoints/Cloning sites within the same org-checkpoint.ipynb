{
 "cells": [
  {
   "cell_type": "markdown",
   "metadata": {},
   "source": [
    "# Cloning sites within the same organization\n",
    "\n",
    "A Site is container for web addressable content. Sites is a feature supported in both ArcGIS Online (through ArcGIS Hub) and ArcGIS Enterprise. \n",
    "\n",
    "We will start by exploring Sites as supported in ArcGIS Hub. A site within ArcGIS Hub exists on it's own or could be part of an initiative. "
   ]
  },
  {
   "cell_type": "code",
   "execution_count": 1,
   "metadata": {},
   "outputs": [],
   "source": [
    "from arcgishub.hub import Hub"
   ]
  },
  {
   "cell_type": "markdown",
   "metadata": {},
   "source": [
    "### Cloning site for Hub Basic org"
   ]
  },
  {
   "cell_type": "code",
   "execution_count": 2,
   "metadata": {},
   "outputs": [
    {
     "name": "stdout",
     "output_type": "stream",
     "text": [
      "Enter password: ········\n"
     ]
    }
   ],
   "source": [
    "hub_basic = Hub(\"https://www.arcgis.com\", \"prod_bas_hub_admin\")"
   ]
  },
  {
   "cell_type": "code",
   "execution_count": 4,
   "metadata": {},
   "outputs": [
    {
     "data": {
      "text/html": [
       "<div class=\"item_container\" style=\"height: auto; overflow: hidden; border: 1px solid #cfcfcf; border-radius: 2px; background: #f6fafa; line-height: 1.21429em; padding: 10px;\">\n",
       "                    <div class=\"item_left\" style=\"width: 210px; float: left;\">\n",
       "                       <a href='https://prod-bas-hub.maps.arcgis.com/home/item.html?id=cf2e660cd39347eea951c990718fd8a3' target='_blank'>\n",
       "                        <img src='data:image/png;base64,iVBORw0KGgoAAAANSUhEUgAAAMgAAACFCAYAAAAenrcsAAAACXBIWXMAAAsSAAALEgHS3X78AAACgklEQVR42u3dP27TUADH8V9oJqYs7HCDbFFmBpi4Qgp7ogapiE5V50q4cnaUXIGtG2PaKTfgCmFBsDEQZkL1HJvw+RzAsf3y1Xt2/riXBk1n80GS0ySTJMNAOZskqyTLRV1tm3qRXoNxnCW5TDIwljRom+RqUVc3/0Qgu1mj2s0ccCjLJPPSs0m/gR0VB234/Z57XXKjJw0sq94bK1oyHI3GX+/v1uvOLbF2S6svrjnowDXJs1JLrUeFpzhx0LZBySV+yUAmxoaOmHQxEJ9z0JlrkS4GAkdHICAQeJh+a6/84q2zz/5uP5hBwBILBAICAYGAQACBgEBAICAQEAgIBAQCAgGBAAIBgYBAQCBweK39Jv36+RNnn72d35pBwBILBAICAYGAQACBgEBAIHAg/WM7oG+f3nR+Hx+/+ujYzCAgEBAICAQQCAgEBAICAYGAQEAgIBAQCCAQEAgIBAQCAgGBgEBAICAQEAggEBAICAQEAgIBgYBA4Igc3eMPju3v9/+XYzODgEBAICAQQCAgEHgoT7ltgafcmkFAICAQEAggEBAICAQEAgIBgYBAQCAgEEAgIBAQCAgEBAICAYGAQEAgIBBAICAQEAgIBAQCAgGBwHHxlFvHhhkEBAICAYGAQEAgIBAQCAgEEAjsqbWvmpy/u3D2MYOAQEAgf7RxOumITRcDWRkXOmLVxUCWSbbGhpZtd+/FIk5Kbej+bv19NBr/SPLSGNGii0Vdfe5cILtI1qPR+GmSoXGiBctFXRX9/KCJu1jzklMc/MUSf156o72m9nY6m58luUwyMHY0fM1xtairmyY23mtyz6ez+SDJaZKJZReFbfLrbtVyUVeN3Rz6CdebXmXkLnGpAAAAAElFTkSuQmCC' width='200' height='133' class=\"itemThumbnail\">\n",
       "                       </a>\n",
       "                    </div>\n",
       "\n",
       "                    <div class=\"item_right\"     style=\"float: none; width: auto; overflow: hidden;\">\n",
       "                        <a href='https://prod-bas-hub.maps.arcgis.com/home/item.html?id=cf2e660cd39347eea951c990718fd8a3' target='_blank'><b>Coronavirus Response</b>\n",
       "                        </a>\n",
       "                        <br/>Discover the latest resources, maps and information about the coronavirus (COVID-19) outbreak in your community<img src='https://prod-bas-hub.maps.arcgis.com/home/js/jsapi/esri/css/images/item_type_icons/layers16.png' style=\"vertical-align:middle;\">Hub Site Application by ArcGIS_Hub\n",
       "                        <br/>Last Modified: March 23, 2020\n",
       "                        <br/>0 comments, 8,436 views\n",
       "                    </div>\n",
       "                </div>\n",
       "                "
      ],
      "text/plain": [
       "<Item title:\"Coronavirus Response\" type:Hub Site Application owner:ArcGIS_Hub>"
      ]
     },
     "execution_count": 4,
     "metadata": {},
     "output_type": "execute_result"
    }
   ],
   "source": [
    "site = hub_basic.sites.get('cf2e660cd39347eea951c990718fd8a3')\n",
    "site.item"
   ]
  },
  {
   "cell_type": "code",
   "execution_count": 5,
   "metadata": {},
   "outputs": [
    {
     "data": {
      "text/html": [
       "<div class=\"item_container\" style=\"height: auto; overflow: hidden; border: 1px solid #cfcfcf; border-radius: 2px; background: #f6fafa; line-height: 1.21429em; padding: 10px;\">\n",
       "                    <div class=\"item_left\" style=\"width: 210px; float: left;\">\n",
       "                       <a href='https://prod-bas-hub.maps.arcgis.com/home/item.html?id=6cb0577371684aee8ace7374269d4001' target='_blank'>\n",
       "                        <img src='http://static.arcgis.com/images/desktopapp.png' class=\"itemThumbnail\">\n",
       "                       </a>\n",
       "                    </div>\n",
       "\n",
       "                    <div class=\"item_right\"     style=\"float: none; width: auto; overflow: hidden;\">\n",
       "                        <a href='https://prod-bas-hub.maps.arcgis.com/home/item.html?id=6cb0577371684aee8ace7374269d4001' target='_blank'><b>Coronavirus Response-copy-1585092796954</b>\n",
       "                        </a>\n",
       "                        <br/><img src='https://prod-bas-hub.maps.arcgis.com/home/js/jsapi/esri/css/images/item_type_icons/layers16.png' style=\"vertical-align:middle;\">Hub Site Application by prod_bas_hub_admin\n",
       "                        <br/>Last Modified: March 24, 2020\n",
       "                        <br/>0 comments, 1 views\n",
       "                    </div>\n",
       "                </div>\n",
       "                "
      ],
      "text/plain": [
       "<Item title:\"Coronavirus Response-copy-1585092796954\" type:Hub Site Application owner:prod_bas_hub_admin>"
      ]
     },
     "execution_count": 5,
     "metadata": {},
     "output_type": "execute_result"
    }
   ],
   "source": [
    "site_cloned = hub_basic.sites.clone(site)\n",
    "site_cloned.item"
   ]
  },
  {
   "cell_type": "markdown",
   "metadata": {},
   "source": [
    "### Cloning site for ArcGIS Enterprise org"
   ]
  },
  {
   "cell_type": "code",
   "execution_count": 6,
   "metadata": {},
   "outputs": [],
   "source": [
    "eHub = Hub(\"url\", \"username\", \"password\")"
   ]
  },
  {
   "cell_type": "code",
   "execution_count": 7,
   "metadata": {},
   "outputs": [
    {
     "data": {
      "text/html": [
       "<div class=\"item_container\" style=\"height: auto; overflow: hidden; border: 1px solid #cfcfcf; border-radius: 2px; background: #f6fafa; line-height: 1.21429em; padding: 10px;\">\n",
       "                    <div class=\"item_left\" style=\"width: 210px; float: left;\">\n",
       "                       <a href='https://enterprise-108-ubuntu.dev.hub.geocloud.com/portal//home/item.html?id=9b0c589a8bb041d3af072b0cbbfde8a9' target='_blank'>\n",
       "                        <img src='https://enterprise-108-ubuntu.dev.hub.geocloud.com/portal//portalimages/desktopapp.png' class=\"itemThumbnail\">\n",
       "                       </a>\n",
       "                    </div>\n",
       "\n",
       "                    <div class=\"item_right\"     style=\"float: none; width: auto; overflow: hidden;\">\n",
       "                        <a href='https://enterprise-108-ubuntu.dev.hub.geocloud.com/portal//home/item.html?id=9b0c589a8bb041d3af072b0cbbfde8a9' target='_blank'><b>Manushi enterprise site new</b>\n",
       "                        </a>\n",
       "                        <br/><img src='https://enterprise-108-ubuntu.dev.hub.geocloud.com/portal//home/js/jsapi/esri/css/images/item_type_icons/layers16.png' style=\"vertical-align:middle;\">Site Application by admin\n",
       "                        <br/>Last Modified: March 24, 2020\n",
       "                        <br/>0 comments, 1 views\n",
       "                    </div>\n",
       "                </div>\n",
       "                "
      ],
      "text/plain": [
       "<Item title:\"Manushi enterprise site new\" type:Site Application owner:admin>"
      ]
     },
     "execution_count": 7,
     "metadata": {},
     "output_type": "execute_result"
    }
   ],
   "source": [
    "e_site = eHub.sites.get('9b0c589a8bb041d3af072b0cbbfde8a9')\n",
    "e_site.item"
   ]
  },
  {
   "cell_type": "code",
   "execution_count": 8,
   "metadata": {},
   "outputs": [
    {
     "data": {
      "text/html": [
       "<div class=\"item_container\" style=\"height: auto; overflow: hidden; border: 1px solid #cfcfcf; border-radius: 2px; background: #f6fafa; line-height: 1.21429em; padding: 10px;\">\n",
       "                    <div class=\"item_left\" style=\"width: 210px; float: left;\">\n",
       "                       <a href='https://enterprise-108-ubuntu.dev.hub.geocloud.com/portal//home/item.html?id=482be54a47af4201979f1f240da0ed57' target='_blank'>\n",
       "                        <img src='https://enterprise-108-ubuntu.dev.hub.geocloud.com/portal//portalimages/desktopapp.png' class=\"itemThumbnail\">\n",
       "                       </a>\n",
       "                    </div>\n",
       "\n",
       "                    <div class=\"item_right\"     style=\"float: none; width: auto; overflow: hidden;\">\n",
       "                        <a href='https://enterprise-108-ubuntu.dev.hub.geocloud.com/portal//home/item.html?id=482be54a47af4201979f1f240da0ed57' target='_blank'><b>Manushi enterprise site new-copy-1585092943223</b>\n",
       "                        </a>\n",
       "                        <br/><img src='https://enterprise-108-ubuntu.dev.hub.geocloud.com/portal//home/js/jsapi/esri/css/images/item_type_icons/layers16.png' style=\"vertical-align:middle;\">Site Application by admin\n",
       "                        <br/>Last Modified: March 24, 2020\n",
       "                        <br/>0 comments, 0 views\n",
       "                    </div>\n",
       "                </div>\n",
       "                "
      ],
      "text/plain": [
       "<Item title:\"Manushi enterprise site new-copy-1585092943223\" type:Site Application owner:admin>"
      ]
     },
     "execution_count": 8,
     "metadata": {},
     "output_type": "execute_result"
    }
   ],
   "source": [
    "esite_cloned = eHub.sites.clone(e_site)\n",
    "esite_cloned.item"
   ]
  },
  {
   "cell_type": "markdown",
   "metadata": {},
   "source": [
    "### Cloning site in a Hub Premium org"
   ]
  },
  {
   "cell_type": "code",
   "execution_count": 9,
   "metadata": {},
   "outputs": [
    {
     "name": "stdout",
     "output_type": "stream",
     "text": [
      "Enter password: ········\n"
     ]
    }
   ],
   "source": [
    "myhub = Hub(\"https://www.arcgis.com\", \"mmajumdar_dcdev\")"
   ]
  },
  {
   "cell_type": "markdown",
   "metadata": {},
   "source": [
    "A __preferred__ pattern for implementing this would be to clone the initiative for this site, using the `initiatives` module. While you can clone the site object too, note that the result obtained from that method will be the __initiative__ object for that site.\n",
    "\n",
    "Here is an example:"
   ]
  },
  {
   "cell_type": "code",
   "execution_count": 10,
   "metadata": {},
   "outputs": [
    {
     "data": {
      "text/html": [
       "<div class=\"item_container\" style=\"height: auto; overflow: hidden; border: 1px solid #cfcfcf; border-radius: 2px; background: #f6fafa; line-height: 1.21429em; padding: 10px;\">\n",
       "                    <div class=\"item_left\" style=\"width: 210px; float: left;\">\n",
       "                       <a href='https://www.arcgis.com/home/item.html?id=51f5738bd1b54e9fa762a3aa5b5869ad' target='_blank'>\n",
       "                        <img src='http://static.arcgis.com/images/desktopapp.png' class=\"itemThumbnail\">\n",
       "                       </a>\n",
       "                    </div>\n",
       "\n",
       "                    <div class=\"item_right\"     style=\"float: none; width: auto; overflow: hidden;\">\n",
       "                        <a href='https://www.arcgis.com/home/item.html?id=51f5738bd1b54e9fa762a3aa5b5869ad' target='_blank'><b>Coronavirus Response-copy-1585093189588</b>\n",
       "                        </a>\n",
       "                        <br/>Coronavirus Response-copy-1585093189588 Custom initiative<img src='https://www.arcgis.com/home/js/jsapi/esri/css/images/item_type_icons/layers16.png' style=\"vertical-align:middle;\">Hub Initiative by mmajumdar_dcdev\n",
       "                        <br/>Last Modified: March 24, 2020\n",
       "                        <br/>0 comments, 1 views\n",
       "                    </div>\n",
       "                </div>\n",
       "                "
      ],
      "text/plain": [
       "<Item title:\"Coronavirus Response-copy-1585093189588\" type:Hub Initiative owner:mmajumdar_dcdev>"
      ]
     },
     "execution_count": 10,
     "metadata": {},
     "output_type": "execute_result"
    }
   ],
   "source": [
    "i1 = myhub.sites.clone(site)\n",
    "i1.item"
   ]
  },
  {
   "cell_type": "code",
   "execution_count": 11,
   "metadata": {},
   "outputs": [
    {
     "data": {
      "text/plain": [
       "arcgishub.hub.Initiative"
      ]
     },
     "execution_count": 11,
     "metadata": {},
     "output_type": "execute_result"
    }
   ],
   "source": [
    "type(i1)"
   ]
  },
  {
   "cell_type": "code",
   "execution_count": null,
   "metadata": {},
   "outputs": [],
   "source": []
  }
 ],
 "metadata": {
  "kernelspec": {
   "display_name": "Python 3",
   "language": "python",
   "name": "python3"
  },
  "language_info": {
   "codemirror_mode": {
    "name": "ipython",
    "version": 3
   },
   "file_extension": ".py",
   "mimetype": "text/x-python",
   "name": "python",
   "nbconvert_exporter": "python",
   "pygments_lexer": "ipython3",
   "version": "3.7.1"
  }
 },
 "nbformat": 4,
 "nbformat_minor": 2
}
