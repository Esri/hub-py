{
 "cells": [
  {
   "cell_type": "markdown",
   "metadata": {},
   "source": [
    "### Working with Events"
   ]
  },
  {
   "cell_type": "markdown",
   "metadata": {},
   "source": [
    "ArcGIS Hub supports engagement through in-person and virtual events.\n",
    "\n",
    "Events are meetings for people to support an Initiative. Events are scheduled by an organizer and have many attendees. An Event has a Group so that they can include content for preparation as well as gather and archive content during the event for later retrieval or analysis.\n",
    "\n",
    "A Hub has many Events that can be associated with an Initiative."
   ]
  },
  {
   "cell_type": "code",
   "execution_count": 1,
   "metadata": {},
   "outputs": [],
   "source": [
    "import sys\n",
    "sys.path.append(\"../../\")\n",
    "\n",
    "from arcgishub import hub"
   ]
  },
  {
   "cell_type": "code",
   "execution_count": 2,
   "metadata": {},
   "outputs": [],
   "source": [
    "myhub = hub.Hub(\"https://www.arcgis.com\", 'aturner')"
   ]
  },
  {
   "cell_type": "markdown",
   "metadata": {},
   "source": [
    "### Searching for events\n",
    "\n",
    "You can search for `events` of a Hub using the following parameters:\n",
    "* `initiative_id`\n",
    "* `title`\n",
    "* `venue`\n",
    "* `organizer_name`"
   ]
  },
  {
   "cell_type": "code",
   "execution_count": 3,
   "metadata": {},
   "outputs": [
    {
     "name": "stdout",
     "output_type": "stream",
     "text": [
      "_hub_environment: https://dc.mapsqa.arcgis.com\n"
     ]
    },
    {
     "ename": "Exception",
     "evalue": "{'code': 400, 'message': 'No events service found. Events may not be enabled or you lack permissions for this organization.'}",
     "output_type": "error",
     "traceback": [
      "\u001b[0;31m---------------------------------------------------------------------------\u001b[0m",
      "\u001b[0;31mException\u001b[0m                                 Traceback (most recent call last)",
      "Cell \u001b[0;32mIn[3], line 1\u001b[0m\n\u001b[0;32m----> 1\u001b[0m all_events \u001b[39m=\u001b[39m myhub\u001b[39m.\u001b[39;49mevents\u001b[39m.\u001b[39;49msearch()\n\u001b[1;32m      2\u001b[0m all_events[:\u001b[39m5\u001b[39m]\n",
      "File \u001b[0;32m~/Projects/esri/hub-py/examples/For arcgishub library/../../arcgishub/events.py:397\u001b[0m, in \u001b[0;36mEventManager.search\u001b[0;34m(self, initiative_id, title, venue, organizer_name)\u001b[0m\n\u001b[1;32m    377\u001b[0m \u001b[39m\u001b[39m\u001b[39m\"\"\" \u001b[39;00m\n\u001b[1;32m    378\u001b[0m \u001b[39mSearches for events within a Hub.\u001b[39;00m\n\u001b[1;32m    379\u001b[0m \u001b[39m\u001b[39;00m\n\u001b[0;32m   (...)\u001b[0m\n\u001b[1;32m    394\u001b[0m \u001b[39m\u001b[39;00m\n\u001b[1;32m    395\u001b[0m \u001b[39m\"\"\"\u001b[39;00m\n\u001b[1;32m    396\u001b[0m events \u001b[39m=\u001b[39m []\n\u001b[0;32m--> 397\u001b[0m events \u001b[39m=\u001b[39m \u001b[39mself\u001b[39;49m\u001b[39m.\u001b[39;49m_all_events()\n\u001b[1;32m    398\u001b[0m \u001b[39mif\u001b[39;00m initiative_id\u001b[39m!=\u001b[39m\u001b[39mNone\u001b[39;00m:\n\u001b[1;32m    399\u001b[0m     \u001b[39m#events = \u001b[39;00m\n\u001b[1;32m    400\u001b[0m     events \u001b[39m=\u001b[39m [event \u001b[39mfor\u001b[39;00m event \u001b[39min\u001b[39;00m events \u001b[39mif\u001b[39;00m initiative_id\u001b[39m==\u001b[39mevent\u001b[39m.\u001b[39minitiative_id]\n",
      "File \u001b[0;32m~/Projects/esri/hub-py/examples/For arcgishub library/../../arcgishub/events.py:230\u001b[0m, in \u001b[0;36mEventManager._all_events\u001b[0;34m(self)\u001b[0m\n\u001b[1;32m    223\u001b[0m url \u001b[39m=\u001b[39m \u001b[39mf\u001b[39m\u001b[39m\"\u001b[39m\u001b[39mhttps://\u001b[39m\u001b[39m{\u001b[39;00m\u001b[39mself\u001b[39m\u001b[39m.\u001b[39m_hub\u001b[39m.\u001b[39m_hub_environment\u001b[39m}\u001b[39;00m\u001b[39m/api/v3/events/\u001b[39m\u001b[39m'\u001b[39m\u001b[39m+self._hub.enterprise_org_id+\u001b[39m\u001b[39m'\u001b[39m\u001b[39m/Hub Events/FeatureServer/0/query\u001b[39m\u001b[39m\"\u001b[39m\n\u001b[1;32m    224\u001b[0m params \u001b[39m=\u001b[39m {\n\u001b[1;32m    225\u001b[0m     \u001b[39m'\u001b[39m\u001b[39mf\u001b[39m\u001b[39m'\u001b[39m :\u001b[39m'\u001b[39m\u001b[39mjson\u001b[39m\u001b[39m'\u001b[39m, \n\u001b[1;32m    226\u001b[0m     \u001b[39m'\u001b[39m\u001b[39moutFields\u001b[39m\u001b[39m'\u001b[39m: \u001b[39m'\u001b[39m\u001b[39m*\u001b[39m\u001b[39m'\u001b[39m, \n\u001b[1;32m    227\u001b[0m     \u001b[39m'\u001b[39m\u001b[39mwhere\u001b[39m\u001b[39m'\u001b[39m: \u001b[39m'\u001b[39m\u001b[39m1=1\u001b[39m\u001b[39m'\u001b[39m,\n\u001b[1;32m    228\u001b[0m     \u001b[39m'\u001b[39m\u001b[39mtoken\u001b[39m\u001b[39m'\u001b[39m: \u001b[39mself\u001b[39m\u001b[39m.\u001b[39m_gis\u001b[39m.\u001b[39m_con\u001b[39m.\u001b[39mtoken\n\u001b[1;32m    229\u001b[0m }\n\u001b[0;32m--> 230\u001b[0m all_events \u001b[39m=\u001b[39m \u001b[39mself\u001b[39;49m\u001b[39m.\u001b[39;49m_gis\u001b[39m.\u001b[39;49m_con\u001b[39m.\u001b[39;49mget(url, params)\n\u001b[1;32m    231\u001b[0m _events_data \u001b[39m=\u001b[39m all_events[\u001b[39m'\u001b[39m\u001b[39mfeatures\u001b[39m\u001b[39m'\u001b[39m]\n\u001b[1;32m    232\u001b[0m \u001b[39mfor\u001b[39;00m event \u001b[39min\u001b[39;00m _events_data:\n",
      "File \u001b[0;32m~/Library/Python/3.9/lib/python/site-packages/arcgis/gis/_impl/_con/_connection.py:884\u001b[0m, in \u001b[0;36mConnection.get\u001b[0;34m(self, path, params, **kwargs)\u001b[0m\n\u001b[1;32m    882\u001b[0m \u001b[39mif\u001b[39;00m return_raw_response:\n\u001b[1;32m    883\u001b[0m     \u001b[39mreturn\u001b[39;00m resp\n\u001b[0;32m--> 884\u001b[0m \u001b[39mreturn\u001b[39;00m \u001b[39mself\u001b[39;49m\u001b[39m.\u001b[39;49m_handle_response(\n\u001b[1;32m    885\u001b[0m     resp,\n\u001b[1;32m    886\u001b[0m     file_name,\n\u001b[1;32m    887\u001b[0m     out_path,\n\u001b[1;32m    888\u001b[0m     try_json,\n\u001b[1;32m    889\u001b[0m     force_bytes\u001b[39m=\u001b[39;49mkwargs\u001b[39m.\u001b[39;49mpop(\u001b[39m\"\u001b[39;49m\u001b[39mforce_bytes\u001b[39;49m\u001b[39m\"\u001b[39;49m, \u001b[39mFalse\u001b[39;49;00m),\n\u001b[1;32m    890\u001b[0m     ignore_error_key\u001b[39m=\u001b[39;49mignore_error_key,\n\u001b[1;32m    891\u001b[0m )\n",
      "File \u001b[0;32m~/Library/Python/3.9/lib/python/site-packages/arcgis/gis/_impl/_con/_connection.py:1007\u001b[0m, in \u001b[0;36mConnection._handle_response\u001b[0;34m(self, resp, file_name, out_path, try_json, force_bytes, ignore_error_key)\u001b[0m\n\u001b[1;32m   1005\u001b[0m     data \u001b[39m=\u001b[39m json\u001b[39m.\u001b[39mloads(data)\n\u001b[1;32m   1006\u001b[0m     \u001b[39mif\u001b[39;00m \u001b[39m\"\u001b[39m\u001b[39merror\u001b[39m\u001b[39m\"\u001b[39m \u001b[39min\u001b[39;00m data \u001b[39mand\u001b[39;00m ignore_error_key \u001b[39m==\u001b[39m \u001b[39mFalse\u001b[39;00m:\n\u001b[0;32m-> 1007\u001b[0m         \u001b[39mraise\u001b[39;00m \u001b[39mException\u001b[39;00m(data[\u001b[39m\"\u001b[39m\u001b[39merror\u001b[39m\u001b[39m\"\u001b[39m])\n\u001b[1;32m   1008\u001b[0m \u001b[39melse\u001b[39;00m:\n\u001b[1;32m   1009\u001b[0m     \u001b[39mtry\u001b[39;00m:\n",
      "\u001b[0;31mException\u001b[0m: {'code': 400, 'message': 'No events service found. Events may not be enabled or you lack permissions for this organization.'}"
     ]
    }
   ],
   "source": [
    "all_events = myhub.events.search()\n",
    "all_events[:5]"
   ]
  },
  {
   "cell_type": "markdown",
   "metadata": {},
   "source": [
    "### Adding a new event"
   ]
  },
  {
   "cell_type": "markdown",
   "metadata": {},
   "source": [
    "You can add a new event by passing the necessary attributes as `event_properties` to the `add()` method.\n",
    "\n",
    "The required attributes needed for adding an event are:\n",
    "* `title`\n",
    "* `description`\n",
    "* `initiativeId`\n",
    "* `venue`\n",
    "* `address1`\n",
    "* `status`\n",
    "* `startDate`\n",
    "* `endDate`\n",
    "* `isAllDay`\n",
    "\n",
    "The other optional attributes that can also be provided while creating an event are:\n",
    "* `url` if web event\n",
    "* `attendance` capacity of the event\n",
    "* `status` - public/planned/private\n",
    "* `organizers` - dictionary with values for `name`, `contact` (email), `username` (ArcGIS Online username)\n",
    "* `sponsors` - - dictionary with values for `name`, `contact` (email/website/Twitter/etc), `username` (ArcGIS Online username)\n",
    "* `geometry` - In the absence of this field, the `address1` field is geocoded\n",
    "\n",
    "Follow through the example below to see how to create an event."
   ]
  },
  {
   "cell_type": "code",
   "execution_count": null,
   "metadata": {},
   "outputs": [],
   "source": [
    "event_properties = {\n",
    "    \"title\":\"Updated event in python\",\n",
    "    'description': 'New event in 2022',\n",
    "    'initiativeId': 'b4cbdaf65f3c4b55a8fb1f8dcbe0fc3b',\n",
    "    'venue': 'ESRI R&D Center',\n",
    "    'address1': '1001 19th St N #910, Arlington, VA 22209',\n",
    "    'status': 'public',\n",
    "    'startDate': 1585356198,\n",
    "    'endDate': 1585399398,\n",
    "    'isAllDay': 0,\n",
    "    'geometry': {'x': -77.06915099999999, 'y': 38.89740599999999}\n",
    "}"
   ]
  },
  {
   "cell_type": "code",
   "execution_count": null,
   "metadata": {},
   "outputs": [],
   "source": [
    "new_event = myhub.events.add(event_properties)\n",
    "new_event"
   ]
  },
  {
   "cell_type": "markdown",
   "metadata": {},
   "source": [
    "### Update an event"
   ]
  },
  {
   "cell_type": "markdown",
   "metadata": {},
   "source": [
    "In order to update an event, pass the particular attributes that need updating to the `event_properties` parameter"
   ]
  },
  {
   "cell_type": "code",
   "execution_count": null,
   "metadata": {},
   "outputs": [],
   "source": [
    "new_event.update(event_properties={'status':'private'})"
   ]
  },
  {
   "cell_type": "code",
   "execution_count": null,
   "metadata": {},
   "outputs": [],
   "source": [
    "new_event.access"
   ]
  },
  {
   "cell_type": "markdown",
   "metadata": {},
   "source": [
    "### Delete an event"
   ]
  },
  {
   "cell_type": "code",
   "execution_count": null,
   "metadata": {},
   "outputs": [],
   "source": [
    "myhub.events.get(1124).delete()"
   ]
  },
  {
   "cell_type": "code",
   "execution_count": null,
   "metadata": {},
   "outputs": [],
   "source": [
    "new_event.delete()"
   ]
  },
  {
   "cell_type": "code",
   "execution_count": null,
   "metadata": {},
   "outputs": [],
   "source": []
  }
 ],
 "metadata": {
  "kernelspec": {
   "display_name": "Python 3 (ipykernel)",
   "language": "python",
   "name": "python3"
  },
  "language_info": {
   "codemirror_mode": {
    "name": "ipython",
    "version": 3
   },
   "file_extension": ".py",
   "mimetype": "text/x-python",
   "name": "python",
   "nbconvert_exporter": "python",
   "pygments_lexer": "ipython3",
   "version": "3.9.6"
  }
 },
 "nbformat": 4,
 "nbformat_minor": 2
}
