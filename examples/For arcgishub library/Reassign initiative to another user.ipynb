{
 "cells": [
  {
   "cell_type": "markdown",
   "metadata": {},
   "source": [
    "## Changing ownership of initiative\n",
    "\n",
    "This guide demonstrates the process of reassigning an initiative (or site for Hub Basic or Enterprise) to another user. This script not only changes the ownership of the initiative and site items, but also the associated teams and other items that are included in the initiative's content library.\n",
    "\n",
    "Note: Only a user with the `administrator` role of the ArcGIS Online organization that contains the initiative can perform this action."
   ]
  },
  {
   "cell_type": "code",
   "execution_count": 1,
   "metadata": {},
   "outputs": [
    {
     "name": "stdout",
     "output_type": "stream",
     "text": [
      "Enter password: ········\n"
     ]
    }
   ],
   "source": [
    "from arcgishub.hub import Hub\n",
    "myhub = Hub(\"https://www.arcgis.com\", \"mmajumdar_dcdev\")"
   ]
  },
  {
   "cell_type": "code",
   "execution_count": 2,
   "metadata": {},
   "outputs": [
    {
     "data": {
      "text/html": [
       "<div class=\"item_container\" style=\"height: auto; overflow: hidden; border: 1px solid #cfcfcf; border-radius: 2px; background: #f6fafa; line-height: 1.21429em; padding: 10px;\">\n",
       "                    <div class=\"item_left\" style=\"width: 210px; float: left;\">\n",
       "                       <a href='https://www.arcgis.com/home/item.html?id=2b6e5862bac042559d3845a45f729547' target='_blank'>\n",
       "                        <img src='data:image/png;base64,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' width='200' height='133' class=\"itemThumbnail\">\n",
       "                       </a>\n",
       "                    </div>\n",
       "\n",
       "                    <div class=\"item_right\"     style=\"float: none; width: auto; overflow: hidden;\">\n",
       "                        <a href='https://www.arcgis.com/home/item.html?id=2b6e5862bac042559d3845a45f729547' target='_blank'><b>i-with-app</b>\n",
       "                        </a>\n",
       "                        <br/>Create your own initiative by combining existing applications with a custom site. Use this initiative to form teams around a problem and invite your community to participate.<img src='https://www.arcgis.com/home/js/jsapi/esri/css/images/item_type_icons/layers16.png' style=\"vertical-align:middle;\">Hub Initiative by mmajumdar_dcdev\n",
       "                        <br/>Last Modified: July 19, 2021\n",
       "                        <br/>0 comments, 2 views\n",
       "                    </div>\n",
       "                </div>\n",
       "                "
      ],
      "text/plain": [
       "<Item title:\"i-with-app\" type:Hub Initiative owner:mmajumdar_dcdev>"
      ]
     },
     "execution_count": 2,
     "metadata": {},
     "output_type": "execute_result"
    }
   ],
   "source": [
    "i2 = myhub.initiatives.get('2b6e5862bac042559d3845a45f729547')\n",
    "i2.item"
   ]
  },
  {
   "cell_type": "code",
   "execution_count": 3,
   "metadata": {},
   "outputs": [
    {
     "data": {
      "text/html": [
       "<div class=\"item_container\" style=\"height: auto; overflow: hidden; border: 1px solid #cfcfcf; border-radius: 2px; background: #f6fafa; line-height: 1.21429em; padding: 10px;\">\n",
       "                    <div class=\"item_left\" style=\"width: 210px; float: left;\">\n",
       "                       <a href='https://www.arcgis.com/home/item.html?id=2b6e5862bac042559d3845a45f729547' target='_blank'>\n",
       "                        <img src='data:image/png;base64,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' width='200' height='133' class=\"itemThumbnail\">\n",
       "                       </a>\n",
       "                    </div>\n",
       "\n",
       "                    <div class=\"item_right\"     style=\"float: none; width: auto; overflow: hidden;\">\n",
       "                        <a href='https://www.arcgis.com/home/item.html?id=2b6e5862bac042559d3845a45f729547' target='_blank'><b>i-with-app</b>\n",
       "                        </a>\n",
       "                        <br/>Create your own initiative by combining existing applications with a custom site. Use this initiative to form teams around a problem and invite your community to participate.<img src='https://www.arcgis.com/home/js/jsapi/esri/css/images/item_type_icons/layers16.png' style=\"vertical-align:middle;\">Hub Initiative by manushi.majumdar\n",
       "                        <br/>Last Modified: July 19, 2021\n",
       "                        <br/>0 comments, 3 views\n",
       "                    </div>\n",
       "                </div>\n",
       "                "
      ],
      "text/plain": [
       "<Item title:\"i-with-app\" type:Hub Initiative owner:manushi.majumdar>"
      ]
     },
     "execution_count": 3,
     "metadata": {},
     "output_type": "execute_result"
    }
   ],
   "source": [
    "i2.reassign_to('manushi.majumdar')"
   ]
  },
  {
   "cell_type": "code",
   "execution_count": null,
   "metadata": {},
   "outputs": [],
   "source": []
  }
 ],
 "metadata": {
  "kernelspec": {
   "display_name": "Python 3",
   "language": "python",
   "name": "python3"
  },
  "language_info": {
   "codemirror_mode": {
    "name": "ipython",
    "version": 3
   },
   "file_extension": ".py",
   "mimetype": "text/x-python",
   "name": "python",
   "nbconvert_exporter": "python",
   "pygments_lexer": "ipython3",
   "version": "3.7.1"
  }
 },
 "nbformat": 4,
 "nbformat_minor": 2
}
