{
 "cells": [
  {
   "cell_type": "markdown",
   "id": "2389e062",
   "metadata": {},
   "source": [
    "### Updating the theme of a site\n",
    "\n",
    "Editing the layout of a site allows us to add, update, delete the sections, rows, cards of the site and customize the aesthetics of the site.\n",
    "\n",
    "Here we see an example to update the theme for a site. While it follows a similar developer experience, it differs in the properties and methods of the site object that are invoked. "
   ]
  },
  {
   "cell_type": "code",
   "execution_count": 1,
   "id": "b4d9f581",
   "metadata": {},
   "outputs": [],
   "source": [
    "from arcgishub.hub import Hub"
   ]
  },
  {
   "cell_type": "code",
   "execution_count": 2,
   "id": "b6d10e47",
   "metadata": {},
   "outputs": [
    {
     "name": "stdout",
     "output_type": "stream",
     "text": [
      "Enter password: ········\n"
     ]
    }
   ],
   "source": [
    "myhub = Hub(\"https://dcdev.maps.arcgis.com\", \"mmajumdar_dcdev\")"
   ]
  },
  {
   "cell_type": "code",
   "execution_count": 3,
   "id": "cb56c8b7",
   "metadata": {},
   "outputs": [
    {
     "data": {
      "text/html": [
       "<div class=\"item_container\" style=\"height: auto; overflow: hidden; border: 1px solid #cfcfcf; border-radius: 2px; background: #f6fafa; line-height: 1.21429em; padding: 10px;\">\n",
       "                    <div class=\"item_left\" style=\"width: 210px; float: left;\">\n",
       "                       <a href='https://dcdev.maps.arcgis.com/home/item.html?id=250c204b00b8440abbe0985c3630604e' target='_blank'>\n",
       "                        <img src='data:image/png;base64,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' width='200' height='133' class=\"itemThumbnail\">\n",
       "                       </a>\n",
       "                    </div>\n",
       "\n",
       "                    <div class=\"item_right\"     style=\"float: none; width: auto; overflow: hidden;\">\n",
       "                        <a href='https://dcdev.maps.arcgis.com/home/item.html?id=250c204b00b8440abbe0985c3630604e' target='_blank'><b>site theme update</b>\n",
       "                        </a>\n",
       "                        <br/>Create your own initiative by combining existing applications with a custom site. Use this initiative to form teams around a problem and invite your community to participate.<img src='https://dcdev.maps.arcgis.com/home/js/jsapi/esri/css/images/item_type_icons/layers16.png' style=\"vertical-align:middle;\">Hub Initiative by mmajumdar_dcdev\n",
       "                        <br/>Last Modified: July 01, 2022\n",
       "                        <br/>0 comments, 1 views\n",
       "                    </div>\n",
       "                </div>\n",
       "                "
      ],
      "text/plain": [
       "<Item title:\"site theme update\" type:Hub Initiative owner:mmajumdar_dcdev>"
      ]
     },
     "execution_count": 3,
     "metadata": {},
     "output_type": "execute_result"
    }
   ],
   "source": [
    "i1 = myhub.initiatives.get('250c204b00b8440abbe0985c3630604e')\n",
    "i1.item"
   ]
  },
  {
   "cell_type": "code",
   "execution_count": 4,
   "id": "592064f3",
   "metadata": {},
   "outputs": [
    {
     "data": {
      "text/html": [
       "<div class=\"item_container\" style=\"height: auto; overflow: hidden; border: 1px solid #cfcfcf; border-radius: 2px; background: #f6fafa; line-height: 1.21429em; padding: 10px;\">\n",
       "                    <div class=\"item_left\" style=\"width: 210px; float: left;\">\n",
       "                       <a href='https://dcdev.maps.arcgis.com/home/item.html?id=bb0e1cd39ebc45869da35a2e8b91b2d2' target='_blank'>\n",
       "                        <img src='http://static.arcgis.com/images/desktopapp.png' class=\"itemThumbnail\">\n",
       "                       </a>\n",
       "                    </div>\n",
       "\n",
       "                    <div class=\"item_right\"     style=\"float: none; width: auto; overflow: hidden;\">\n",
       "                        <a href='https://dcdev.maps.arcgis.com/home/item.html?id=bb0e1cd39ebc45869da35a2e8b91b2d2' target='_blank'><b>site theme update</b>\n",
       "                        </a>\n",
       "                        <br/>Create your own initiative by combining existing applications with a custom site. Use this initiative to form teams around a problem and invite your community to participate.<img src='https://dcdev.maps.arcgis.com/home/js/jsapi/esri/css/images/item_type_icons/layers16.png' style=\"vertical-align:middle;\">Hub Site Application by mmajumdar_dcdev\n",
       "                        <br/>Last Modified: July 01, 2022\n",
       "                        <br/>0 comments, 5 views\n",
       "                    </div>\n",
       "                </div>\n",
       "                "
      ],
      "text/plain": [
       "<Item title:\"site theme update\" type:Hub Site Application owner:mmajumdar_dcdev>"
      ]
     },
     "execution_count": 4,
     "metadata": {},
     "output_type": "execute_result"
    }
   ],
   "source": [
    "s1 = myhub.sites.get(i1.site_id)\n",
    "s1.item"
   ]
  },
  {
   "cell_type": "markdown",
   "id": "e27e792f",
   "metadata": {},
   "source": [
    "### Fetching theme for site"
   ]
  },
  {
   "cell_type": "code",
   "execution_count": 5,
   "id": "c8b2a35b",
   "metadata": {},
   "outputs": [
    {
     "data": {
      "text/plain": [
       "{'header': {'background': '#4c4c4c', 'text': '#ffffff'}, 'body': {'background': '#ffffff', 'text': '#5c5c5c', 'link': '#0079c1'}, 'button': {'background': '#0079c1', 'text': '#ffffff'}, 'logo': {'small': 'https://dcdev.maps.arcgis.com/sharing/rest/content/items/a043a0205d644badadb88b7cd9256526/data', 'link': 'https://octo.dc.gov/sites/default/files/dc/sites/octo/multimedia_content/images/OpenData-HeaderLogo-WhiteText-2.png'}, 'fonts': {'base': {'url': '', 'family': 'Avenir Next'}, 'heading': {'url': '', 'family': 'Avenir Next'}}}"
      ]
     },
     "execution_count": 5,
     "metadata": {},
     "output_type": "execute_result"
    }
   ],
   "source": [
    "theme = s1.theme\n",
    "theme"
   ]
  },
  {
   "cell_type": "code",
   "execution_count": 6,
   "id": "d95b7ddb",
   "metadata": {},
   "outputs": [
    {
     "data": {
      "text/plain": [
       "'#ffffff'"
      ]
     },
     "execution_count": 6,
     "metadata": {},
     "output_type": "execute_result"
    }
   ],
   "source": [
    "theme.body.background"
   ]
  },
  {
   "cell_type": "code",
   "execution_count": 7,
   "id": "0abfb390",
   "metadata": {},
   "outputs": [
    {
     "data": {
      "text/plain": [
       "'#5c5c5c'"
      ]
     },
     "execution_count": 7,
     "metadata": {},
     "output_type": "execute_result"
    }
   ],
   "source": [
    "theme.body.text"
   ]
  },
  {
   "cell_type": "markdown",
   "id": "caf9bb44",
   "metadata": {},
   "source": [
    "### Updating theme for a site"
   ]
  },
  {
   "cell_type": "code",
   "execution_count": 8,
   "id": "561b9b10",
   "metadata": {},
   "outputs": [],
   "source": [
    "theme.body.background = '#c90076'"
   ]
  },
  {
   "cell_type": "code",
   "execution_count": 9,
   "id": "d54cdaad",
   "metadata": {},
   "outputs": [],
   "source": [
    "theme.body.text = '#eeeeee'"
   ]
  },
  {
   "cell_type": "code",
   "execution_count": 10,
   "id": "8c2d659d",
   "metadata": {},
   "outputs": [
    {
     "data": {
      "text/plain": [
       "True"
      ]
     },
     "execution_count": 10,
     "metadata": {},
     "output_type": "execute_result"
    }
   ],
   "source": [
    "s1.update_theme(theme)"
   ]
  },
  {
   "cell_type": "markdown",
   "id": "6260e30a",
   "metadata": {},
   "source": [
    "By refreshing this site, we then see the theme color of the site has been updated."
   ]
  },
  {
   "cell_type": "code",
   "execution_count": null,
   "id": "08f35abe",
   "metadata": {},
   "outputs": [],
   "source": []
  }
 ],
 "metadata": {
  "kernelspec": {
   "display_name": "Python 3 (ipykernel)",
   "language": "python",
   "name": "python3"
  },
  "language_info": {
   "codemirror_mode": {
    "name": "ipython",
    "version": 3
   },
   "file_extension": ".py",
   "mimetype": "text/x-python",
   "name": "python",
   "nbconvert_exporter": "python",
   "pygments_lexer": "ipython3",
   "version": "3.7.11"
  }
 },
 "nbformat": 4,
 "nbformat_minor": 5
}
