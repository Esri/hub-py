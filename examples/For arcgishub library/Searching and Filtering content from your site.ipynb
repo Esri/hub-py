{
 "cells": [
  {
   "cell_type": "markdown",
   "metadata": {},
   "source": [
    "# Searching and Filtering content from your site\n",
    "\n",
    "In this user guide we explore how the sites.py submodule can be used to search for content across your site. Searched results can be filtered by a search query as well as item type, as we will see in the example that follows.\n",
    "\n",
    "We start by connecting to our Hub."
   ]
  },
  {
   "cell_type": "code",
   "execution_count": 1,
   "metadata": {},
   "outputs": [
    {
     "name": "stdout",
     "output_type": "stream",
     "text": [
      "Enter password: ········\n"
     ]
    }
   ],
   "source": [
    "from arcgishub.hub import Hub\n",
    "myhub = Hub(\"https://dcdev.maps.arcgis.com\", \"mmajumdar_dcdev\")"
   ]
  },
  {
   "cell_type": "markdown",
   "metadata": {},
   "source": [
    "In order to search across a site, we first need to fetch the site object. In this example, we fetch the [OpenData site of Washington, D.C.](https://opendata.dc.gov)"
   ]
  },
  {
   "cell_type": "code",
   "execution_count": 2,
   "metadata": {},
   "outputs": [
    {
     "data": {
      "text/plain": [
       "<Site title:\"Open Data DC\" owner:DCGISopendata>"
      ]
     },
     "execution_count": 2,
     "metadata": {},
     "output_type": "execute_result"
    }
   ],
   "source": [
    "dc = myhub.sites.get('3adff78f286e4ecf936bdefdfeca9890')\n",
    "dc"
   ]
  },
  {
   "cell_type": "markdown",
   "metadata": {},
   "source": [
    "Alternatively, you can also fetch the site by passing the site url to the `get_by_domain` method instead"
   ]
  },
  {
   "cell_type": "code",
   "execution_count": 3,
   "metadata": {},
   "outputs": [
    {
     "data": {
      "text/plain": [
       "<Site title:\"Open Data DC\" owner:DCGISopendata>"
      ]
     },
     "execution_count": 3,
     "metadata": {},
     "output_type": "execute_result"
    }
   ],
   "source": [
    "dc = myhub.sites.get_by_domain(\"https://opendata.dc.gov\")\n",
    "dc"
   ]
  },
  {
   "cell_type": "markdown",
   "metadata": {},
   "source": [
    "To search across a particular site, we call the `search()` method on the site object"
   ]
  },
  {
   "cell_type": "code",
   "execution_count": 3,
   "metadata": {},
   "outputs": [],
   "source": [
    "content = dc.search()"
   ]
  },
  {
   "cell_type": "code",
   "execution_count": 4,
   "metadata": {},
   "outputs": [
    {
     "data": {
      "text/plain": [
       "1400"
      ]
     },
     "execution_count": 4,
     "metadata": {},
     "output_type": "execute_result"
    }
   ],
   "source": [
    "len(content)"
   ]
  },
  {
   "cell_type": "markdown",
   "metadata": {},
   "source": [
    "As we see here, this site has 1398 items.\n",
    "\n",
    "### Fitler search content by search `query`\n",
    "\n",
    "Here we provide a search query that is used to filter items based on presence of the query in title of the item."
   ]
  },
  {
   "cell_type": "code",
   "execution_count": 5,
   "metadata": {},
   "outputs": [
    {
     "data": {
      "text/plain": [
       "30"
      ]
     },
     "execution_count": 5,
     "metadata": {},
     "output_type": "execute_result"
    }
   ],
   "source": [
    "school_content = dc.search(query='school')\n",
    "len(school_content)"
   ]
  },
  {
   "cell_type": "markdown",
   "metadata": {},
   "source": [
    "Let's take a look at 10 of these items"
   ]
  },
  {
   "cell_type": "code",
   "execution_count": 6,
   "metadata": {},
   "outputs": [
    {
     "data": {
      "text/plain": [
       "[<Item title:\"School Gardens\" type:Feature Layer Collection owner:DCGISopendata>,\n",
       " <Item title:\"Summer Public Schools\" type:Feature Layer Collection owner:DCGISopendata>,\n",
       " <Item title:\"Urban Wood Reuse: for Schools\" type:Hub Initiative owner:earl.eutsler_UFA>,\n",
       " <Item title:\"DCPS School Profiles\" type:Web Mapping Application owner:alexandre.santos@dc.gov_DCGIS>,\n",
       " <Item title:\"Public School Enrollment Boundary Information System\" type:Web Mapping Application owner:alexandre.santos@dc.gov_DCGIS>,\n",
       " <Item title:\"School Crossing Guards\" type:Feature Layer Collection owner:DCGISopendata>,\n",
       " <Item title:\"Capital Gains Schools\" type:Feature Layer Collection owner:DCGISopendata>,\n",
       " <Item title:\"Charter Schools\" type:Feature Layer Collection owner:DCGISopendata>,\n",
       " <Item title:\"Closed Public Schools\" type:Feature Layer Collection owner:DCGISopendata>,\n",
       " <Item title:\"DC Public Schools Student Assessment Results\" type:Table Layer owner:DCGISopendata>]"
      ]
     },
     "execution_count": 6,
     "metadata": {},
     "output_type": "execute_result"
    }
   ],
   "source": [
    "school_content[:10]"
   ]
  },
  {
   "cell_type": "markdown",
   "metadata": {},
   "source": [
    "### Filter content by `item_type`\n",
    "\n",
    "This parameter filters content based on `type` of the item"
   ]
  },
  {
   "cell_type": "code",
   "execution_count": 7,
   "metadata": {},
   "outputs": [
    {
     "data": {
      "text/plain": [
       "1184"
      ]
     },
     "execution_count": 7,
     "metadata": {},
     "output_type": "execute_result"
    }
   ],
   "source": [
    "datasets = dc.search(item_type='Feature Service')\n",
    "len(datasets)"
   ]
  },
  {
   "cell_type": "markdown",
   "metadata": {},
   "source": [
    "Let's take a look at the first 10 `Feature Service` items"
   ]
  },
  {
   "cell_type": "code",
   "execution_count": 8,
   "metadata": {},
   "outputs": [
    {
     "data": {
      "text/plain": [
       "[<Item title:\"Airport Runway and Taxiway 1999\" type:Feature Layer Collection owner:DCGISopendata>,\n",
       " <Item title:\"Alleys 1999\" type:Feature Layer Collection owner:DCGISopendata>,\n",
       " <Item title:\"Bridge and Tunnel Entrances 1999\" type:Feature Layer Collection owner:DCGISopendata>,\n",
       " <Item title:\"Bridges and Tunnels 1999\" type:Feature Layer Collection owner:DCGISopendata>,\n",
       " <Item title:\"Building Footprints 1999\" type:Feature Layer Collection owner:DCGISopendata>,\n",
       " <Item title:\"Building Heights 1999\" type:Feature Layer Collection owner:DCGISopendata>,\n",
       " <Item title:\"Curbs 1999\" type:Feature Layer Collection owner:DCGISopendata>,\n",
       " <Item title:\"Driveways 1999\" type:Feature Layer Collection owner:DCGISopendata>,\n",
       " <Item title:\"Electrical Substations 1999\" type:Feature Layer Collection owner:DCGISopendata>,\n",
       " <Item title:\"Elevation Points 1999\" type:Feature Layer Collection owner:DCGISopendata>]"
      ]
     },
     "execution_count": 8,
     "metadata": {},
     "output_type": "execute_result"
    }
   ],
   "source": [
    "datasets[:10]"
   ]
  },
  {
   "cell_type": "markdown",
   "metadata": {},
   "source": [
    "Tip: To see the extent of the item types in your site content, you can execute the following snippet"
   ]
  },
  {
   "cell_type": "code",
   "execution_count": 9,
   "metadata": {},
   "outputs": [
    {
     "data": {
      "text/plain": [
       "{'Application',\n",
       " 'CSV',\n",
       " 'Code Attachment',\n",
       " 'Dashboard',\n",
       " 'Document Link',\n",
       " 'Feature Service',\n",
       " 'File Geodatabase',\n",
       " 'Hub Initiative',\n",
       " 'Hub Site Application',\n",
       " 'Image Service',\n",
       " 'Map Service',\n",
       " 'Microsoft Excel',\n",
       " 'StoryMap',\n",
       " 'Web Map',\n",
       " 'Web Mapping Application'}"
      ]
     },
     "execution_count": 9,
     "metadata": {},
     "output_type": "execute_result"
    }
   ],
   "source": [
    "types = [item.type for item in content]\n",
    "set(types)"
   ]
  },
  {
   "cell_type": "markdown",
   "metadata": {},
   "source": [
    "### Fitler by `query` and `item_type`\n",
    "\n",
    "In this example we provide values for both parameters and verify results"
   ]
  },
  {
   "cell_type": "code",
   "execution_count": 10,
   "metadata": {},
   "outputs": [
    {
     "data": {
      "text/plain": [
       "3"
      ]
     },
     "execution_count": 10,
     "metadata": {},
     "output_type": "execute_result"
    }
   ],
   "source": [
    "filtered_content = dc.search(query='water', item_type='Web Mapping Application')\n",
    "len(filtered_content)"
   ]
  },
  {
   "cell_type": "code",
   "execution_count": 11,
   "metadata": {},
   "outputs": [
    {
     "data": {
      "text/plain": [
       "[<Item title:\"COMMUNITY STORMWATER SOLUTIONS GRANTS\" type:Web Mapping Application owner:Brent.Peterson@dc.gov_DCGIS>,\n",
       " <Item title:\"SRCs Reduce Stormwater Runoff with Green Infrastructure\" type:Web Mapping Application owner:Beatrice.Ohene_Okae@dc.gov_DCGIS>,\n",
       " <Item title:\"Identify Your Watershed and Sewer System Area\" type:Web Mapping Application owner:young.tsuei@dc.gov_DCGIS>]"
      ]
     },
     "execution_count": 11,
     "metadata": {},
     "output_type": "execute_result"
    }
   ],
   "source": [
    "filtered_content"
   ]
  },
  {
   "cell_type": "code",
   "execution_count": null,
   "metadata": {},
   "outputs": [],
   "source": []
  }
 ],
 "metadata": {
  "kernelspec": {
   "display_name": "Python 3 (ipykernel)",
   "language": "python",
   "name": "python3"
  },
  "language_info": {
   "codemirror_mode": {
    "name": "ipython",
    "version": 3
   },
   "file_extension": ".py",
   "mimetype": "text/x-python",
   "name": "python",
   "nbconvert_exporter": "python",
   "pygments_lexer": "ipython3",
   "version": "3.7.11"
  }
 },
 "nbformat": 4,
 "nbformat_minor": 2
}
