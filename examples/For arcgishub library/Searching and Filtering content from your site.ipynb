{
 "cells": [
  {
   "cell_type": "markdown",
   "metadata": {},
   "source": [
    "# Searching and Filtering content from your site\n",
    "\n",
    "In this user guide we explore how the sites.py submodule can be used to search for content across your site. Searched results can be filtered by a search query as well as item type, as we will see in the example that follows.\n",
    "\n",
    "We start by connecting to our Hub."
   ]
  },
  {
   "cell_type": "code",
   "execution_count": 1,
   "metadata": {},
   "outputs": [],
   "source": [
    "import sys\n",
    "sys.path.append(\"../../\")\n",
    "from arcgishub.hub import Hub\n",
    "myhub = Hub(\"https://www.arcgis.com\", \"aturner\")"
   ]
  },
  {
   "cell_type": "markdown",
   "metadata": {},
   "source": [
    "In order to search across a site, we first need to fetch the site object. In this example, we fetch the [OpenData site of Washington, D.C.](https://opendata.dc.gov)"
   ]
  },
  {
   "cell_type": "code",
   "execution_count": null,
   "metadata": {},
   "outputs": [],
   "source": [
    "dc = myhub.sites.get('b907a83b8d3947bb8e318a7b93abadf8')\n",
    "dc"
   ]
  },
  {
   "cell_type": "markdown",
   "metadata": {},
   "source": [
    "Alternatively, you can also fetch the site by passing the site url to the `get_by_domain` method instead"
   ]
  },
  {
   "cell_type": "code",
   "execution_count": 2,
   "metadata": {},
   "outputs": [
    {
     "name": "stdout",
     "output_type": "stream",
     "text": [
      "_hub_environment: https://dc.mapsqa.arcgis.com\n"
     ]
    },
    {
     "data": {
      "text/plain": [
       "<Site title:\"BROLLYWOOD\" owner:juliana_pa>"
      ]
     },
     "execution_count": 2,
     "metadata": {},
     "output_type": "execute_result"
    }
   ],
   "source": [
    "dc = myhub.sites.get_by_domain(\"https://opendata.dc.gov\")\n",
    "dc"
   ]
  },
  {
   "cell_type": "markdown",
   "metadata": {},
   "source": [
    "To search across a particular site, we call the `search()` method on the site object"
   ]
  },
  {
   "cell_type": "code",
   "execution_count": 4,
   "metadata": {},
   "outputs": [
    {
     "name": "stdout",
     "output_type": "stream",
     "text": [
      "Search: get group: 39fc1672c99e41f4badfcaed167ddb2f\n",
      "Search: get group: 671f07ab39bc4ea5a345d523328ccc06\n",
      "Search: get group: 4cedc28d8f6542d09a09a359d3fcf1bc\n",
      "Search: get group: d5d2b7e91de14d7788b27d29b17ede72\n",
      "Search: get group: 24a678548d97446eaaa767bdd1ced79b\n",
      "Search: get group: 6c8bc55656a3446a912147901e36fc75\n",
      "Search: get group: daa84f5b941d40cf914e7fa6d71edc1e\n",
      "Search: get group: e4743e7704694341a2f6c7a178dce1aa\n",
      "Search: get group: 9c9c94eb799245ddba2e72ed19b79c61\n",
      "Search: get group: a888936d14994233a1980b383be8226f\n",
      "Search: get group: 3386089777444967a2d7f3095c2543d4\n",
      "Search: get group: dfda6c560c2d4a938134e8fab1032def\n",
      "Search: get group: 190d3c8563bb4f3ea8c2a0522b411a8f\n",
      "Search: get group: 4ec003c500a9416e87329b79f468a5f0\n",
      "Search: get group: 8930c0ca6f4d4c199c3f6cda91f87fbb\n",
      "Search: get group: 92e68be7031848268b8d8654e500dc17\n",
      "Search: get group: dc18e34325474eebb2b4e474a58292d4\n",
      "Search: get group: 69101eaab14841a9bfb6a5c906a78b67\n",
      "Search: get group: f38b05e3fdc548d8bfe9cc784f1c3fb5\n",
      "Search: get group: b3e3c63efa44495ebf080ff344b82c4d\n",
      "Search: get group: 756d95490bda45fd8795b71d418de08e\n",
      "Search: get group: 3df0f91e261641d8b352ae6d392701a9\n",
      "Search: get group: 12bc3311b0a8467c8613225eea62bb2b\n",
      "Search: get group: 38d0389380464082b7f4b3d41f7e7c64\n",
      "Search: get group: c31f5c4af095449297768305a02ba7c7\n",
      "Search: get group: 91936fbed9734d1b932751824f88cec5\n",
      "Search: get group: 0b6889d6385e4d64ac032e48ce34b04e\n",
      "Search: get group: c854c79120814ccea733bec3172a064a\n"
     ]
    },
    {
     "data": {
      "text/plain": [
       "[<Item title:\"Community User's PDF Document\" type:PDF owner:cory_pac>,\n",
       " <Item title:\"Esri Logo, this is an Image\" type:Image owner:juliana_pa>,\n",
       " <Item title:\"Image Created by Paige\" type:Image owner:paige_pa>,\n",
       " <Item title:\"Image Owned by Johnny\" type:Image owner:johnny_pa>,\n",
       " <Item title:\"Microsoft Visio Document\" type:Visio Document owner:kuldeep_qatesting>,\n",
       " <Item title:\"Microsoft Word\" type:Microsoft Word owner:juliana_pa>,\n",
       " <Item title:\"PDF uploaded by a c-org user whose profile visibility is set to \"Organization\"\" type:PDF owner:org_publisher_pac>,\n",
       " <Item title:\"PDF uploaded by a c-org user whose profile visibility is set to \"Private\"\" type:PDF owner:private_publisher_pac>,\n",
       " <Item title:\"Public iWork Keynote Document which has a really fun long title which we can't truncate so we have to deal with it somehow\" type:iWork Keynote owner:juliana_pa>,\n",
       " <Item title:\"Public PDF, there is a lot of really important information contained within it so we need a really long title to makes sure the people have all the context they might possibly need...sigh\" type:PDF owner:juliana_pa>,\n",
       " <Item title:\"Public PNG Image Uploaded by Juliana\" type:Image owner:juliana_pa>,\n",
       " <Item title:\"Application without a Thumbnail or Some Metadata\" type:Application owner:juliana_pa>,\n",
       " <Item title:\"Brian's Hub Map\" type:Web Map owner:juliana_pa>,\n",
       " <Item title:\"BROLLYWOOD\" type:Hub Site Application owner:juliana_pa>,\n",
       " <Item title:\"Config App Gallery\" type:Web Mapping Application owner:juliana_pa>,\n",
       " <Item title:\"Desert City\" type:CityEngine Web Scene owner:andreas.ulmer>,\n",
       " <Item title:\"Esri Campus\" type:CityEngine Web Scene owner:andreas.ulmer>,\n",
       " <Item title:\"Everything in the Web Mapping Application is Public\" type:Code Attachment owner:juliana_pa>,\n",
       " <Item title:\"Everything in the Web Mapping Application is Public\" type:Web Mapping Application owner:juliana_pa>,\n",
       " <Item title:\"Hub Test Project\" type:Hub Project owner:jcrawford_1_qa_pre_a_hub>,\n",
       " <Item title:\"Insights Workbook without a Thumbnail or some Metadata\" type:Insights Workbook owner:juliana_pa>,\n",
       " <Item title:\"Nearby you\" type:Web Mapping Application owner:juliana_pa>,\n",
       " <Item title:\"Old Dashboard without a Thumbnail or some Metadata\" type:Dashboard owner:juliana_pa>,\n",
       " <Item title:\"Old StoryMap with a Thumbnail and All Metadata\" type:Web Mapping Application owner:juliana_pa>,\n",
       " <Item title:\"Population Density Map, Privately Shared\" type:Web Map owner:juliana_pa>,\n",
       " <Item title:\"Public Insights Page without a Thumbnail and some Metadata Page 2\" type:Insights Page owner:juliana_pa>,\n",
       " <Item title:\"Public New Dashboard without a Thumbnail and some Metadata\" type:Dashboard owner:juliana_pa>,\n",
       " <Item title:\"Public New StoryMap without a Thumbnail or some Metadata\" type:StoryMap owner:juliana_pa>,\n",
       " <Item title:\"Responding to COVID-19 in Emergency Shelters\" type:StoryMap owner:juliana_pa>,\n",
       " <Item title:\"Urban Model with a Thumbnail and All Metadata\" type:Urban Model owner:juliana_pa>,\n",
       " <Item title:\"Urban Model without a Thumbnail and Some Metadata\" type:Urban Model owner:juliana_pa>,\n",
       " <Item title:\"Web Experience without a Thumbnail or Some Metadata\" type:Web Experience owner:juliana_pa>,\n",
       " <Item title:\"Web Mapping Application with a Thumbnail and All Metadata\" type:Web Mapping Application owner:juliana_pa>,\n",
       " <Item title:\"Web Mapping Application with a Thumbnail and All Metadata\" type:Code Attachment owner:juliana_pa>,\n",
       " <Item title:\"Web Mapping Application without a Thumbnail or Some Metadata\" type:Web Mapping Application owner:juliana_pa>,\n",
       " <Item title:\"Web Mapping Application without a Thumbnail or Some Metadata\" type:Code Attachment owner:juliana_pa>,\n",
       " <Item title:\"Closed in the Past\" type:Form owner:juliana_pa>,\n",
       " <Item title:\"Closed in the Past Inputs (System File)\" type:Feature Layer Collection owner:juliana_pa>,\n",
       " <Item title:\"Closed in the Past Results\" type:Feature Layer Collection owner:juliana_pa>,\n",
       " <Item title:\"Closed Survey\" type:Form owner:juliana_pa>,\n",
       " <Item title:\"Closed Survey Inputs (System File)\" type:Feature Layer Collection owner:juliana_pa>,\n",
       " <Item title:\"Closed Survey Results\" type:Feature Layer Collection owner:juliana_pa>,\n",
       " <Item title:\"Closing in the Future Survey Results\" type:Feature Layer Collection owner:juliana_pa>,\n",
       " <Item title:\"Closing Today Results\" type:Feature Layer Collection owner:juliana_pa>,\n",
       " <Item title:\"Open Survey foo Results\" type:Feature Layer Collection owner:juliana_pa>,\n",
       " <Item title:\"S123 Connect Open, Results Shared\" type:Form owner:juliana_pa>,\n",
       " <Item title:\"S123 Connect Open, Results Shared Schema (System File)\" type:Feature Layer Collection owner:juliana_pa>,\n",
       " <Item title:\"This survey is all messed up\" type:Form owner:juliana_pa>,\n",
       " <Item title:\"This survey is all messed up Inputs (System File)\" type:Feature Layer Collection owner:juliana_pa>,\n",
       " <Item title:\"This survey is all messed up Results\" type:Feature Layer Collection owner:juliana_pa>,\n",
       " <Item title:\"This survey is already open and edited by Cory Results\" type:Feature Layer Collection owner:juliana_pa>,\n",
       " <Item title:\"[CC-BY-SA-1.0] Attribution-ShareAlike 1.0 Generic\" type:Feature Layer Collection owner:thervey_qa_pre_a_hub>,\n",
       " <Item title:\"ART Bus Stops\" type:Feature Layer Collection owner:juliana_pa>,\n",
       " <Item title:\"Asheville Rapid Transit Bus Routes\" type:Feature Layer Collection owner:juliana_pa>,\n",
       " <Item title:\"Asheville Rapid Transit Bus Stops\" type:Feature Layer Collection owner:juliana_pa>,\n",
       " <Item title:\"Big Dataset of Points with TimeInfo Enabled\" type:Feature Layer Collection owner:juliana_pa>,\n",
       " <Item title:\"City Designated Historic Districts\" type:Feature Layer Collection owner:juliana_pa>,\n",
       " <Item title:\"City of Asheville Parks\" type:Feature Layer Collection owner:juliana_pa>,\n",
       " <Item title:\"Configured Field Information\" type:Feature Layer Collection owner:carla_pa>,\n",
       " <Item title:\"Content Categorization\" type:CSV owner:juliana_pa>,\n",
       " <Item title:\"Copy of Wards from 2022 for DC\" type:Feature Layer Collection owner:juliana_pa>,\n",
       " <Item title:\"DC Department of Parks and Recreation (DPR) Community Gardens\" type:Feature Layer Collection owner:juliana_pa>,\n",
       " <Item title:\"Find Your Favorite Fire Hydrant in the City of Asheville North Carolina\" type:Feature Layer Collection owner:juliana_pa>,\n",
       " <Item title:\"Fire Hydrants in the City of Asheville\" type:Feature Layer Collection owner:admin_pa>,\n",
       " <Item title:\"Ky State Road Mileposts Copy\" type:Map Image Layer owner:juliana_pa>,\n",
       " <Item title:\"OSSE School Gardens\" type:Feature Layer Collection owner:juliana_pa>,\n",
       " <Item title:\"Pittsburgh Public Parks\" type:Feature Layer Collection owner:juliana_pa>,\n",
       " <Item title:\"Public CSV Uploaded by Bob Squarepants\" type:CSV owner:bob_pa>,\n",
       " <Item title:\"Public dataset uploaded as a feature layer by Juliana who is important\" type:Feature Layer Collection owner:juliana_pa>,\n",
       " <Item title:\"Small Dataset of Lines with TimeInfo Enabled\" type:Feature Layer Collection owner:juliana_pa>,\n",
       " <Item title:\"Small Dataset of Points with TimeInfo Enabled\" type:Feature Layer Collection owner:juliana_pa>,\n",
       " <Item title:\"Small Dataset of Polygons with TimeInfo Enabled\" type:Feature Layer Collection owner:juliana_pa>,\n",
       " <Item title:\"Tiled Imagery Layer from Living Atlas on Production\" type:Imagery Layer owner:juliana_pa>,\n",
       " <Item title:\"Wildland Urban Interface\" type:Map Image Layer owner:esri>,\n",
       " <Item title:\"Artist Density in Washington, DC\" type:Web Map owner:juliana_pa>,\n",
       " <Item title:\"Map containing a time aware layer\" type:Web Map owner:juliana_pa>,\n",
       " <Item title:\"Map of Multiple Public Datasets\" type:Web Map owner:juliana_pa>,\n",
       " <Item title:\"Public Map, Privately Shared Layer\" type:Web Map owner:juliana_pa>,\n",
       " <Item title:\"Public Web Map with Public Layers\" type:Web Map owner:juliana_pa>,\n",
       " <Item title:\"Recent California Earthquakes\" type:Web Scene owner:esri_3d>,\n",
       " <Item title:\"Traffic Camera Enforcement Locations in Washington DC\" type:Web Map owner:juliana_pa>,\n",
       " <Item title:\"Web Map of a Clustered Public Feature Layer\" type:Web Map owner:juliana_pa>,\n",
       " <Item title:\"Web Scene\" type:Web Scene owner:juliana_pa>,\n",
       " <Item title:\"2008 Census US Streets With Zone (TIGER/Line)\" type:Geocoding Layer owner:toiyabe>,\n",
       " <Item title:\"Bing Maps Aerial, Hybrid, Road group layer\" type:Layer owner:esri>,\n",
       " <Item title:\"Composite_HBR_Asset\" type:Geocoding Layer owner:sarah_adm>,\n",
       " <Item title:\"European Routing\" type:Network Analysis Layer owner:esri>,\n",
       " <Item title:\"Fill\" type:Raster function template owner:esri_en>,\n",
       " <Item title:\"GN\" type:File Geodatabase owner:jua17>,\n",
       " <Item title:\"Jackson State Demonstration Forest Data Access\" type:Geodata Layer owner:toiyabe>,\n",
       " <Item title:\"Machine Learning: Downscale climate models\" type:Notebook owner:esri_notebook>,\n",
       " <Item title:\"newcmastermap\" type:Map Document owner:pwe>,\n",
       " <Item title:\"Public Desktop Application uploaded by bob_pa\" type:Desktop Application owner:bob_pa>,\n",
       " <Item title:\"Public Document Link uploaded by bob_pa\" type:Document Link owner:bob_pa>,\n",
       " <Item title:\"Public Insights Model created by bob_pa\" type:Insights Model owner:bob_pa>,\n",
       " <Item title:\"Public Shapefile uploaded by bob pa\" type:Shapefile owner:bob_pa>,\n",
       " <Item title:\"realtime-analytic_2019-10-2_16-22\" type:Real Time Analytic owner:PTCIOT>,\n",
       " <Item title:\"Summarize Elevation\" type:Geoprocessing Toolbox owner:esri>,\n",
       " <Item title:\"Tax Parcel Atlas Basemap\" type:Map Package owner:gwtest1>,\n",
       " <Item title:\"USA States\" type:Layer Package owner:esri>,\n",
       " <Item title:\"World Shaded Relief (3D)\" type:Globe Layer owner:esri>,\n",
       " <Item title:\"World_Globe_1812\" type:Map Image Layer owner:esri>,\n",
       " <Item title:\"WSDR_Boundaries.11.19.2009\" type:Explorer Map owner:jerrysullivan>]"
      ]
     },
     "execution_count": 4,
     "metadata": {},
     "output_type": "execute_result"
    }
   ],
   "source": [
    "content = dc.search()\n",
    "content"
   ]
  },
  {
   "cell_type": "code",
   "execution_count": 5,
   "metadata": {},
   "outputs": [
    {
     "data": {
      "text/plain": [
       "103"
      ]
     },
     "execution_count": 5,
     "metadata": {},
     "output_type": "execute_result"
    }
   ],
   "source": [
    "len(content)"
   ]
  },
  {
   "cell_type": "markdown",
   "metadata": {},
   "source": [
    "As we see here, this site has 1398 items.\n",
    "\n",
    "### Fitler search content by search `query`\n",
    "\n",
    "Here we provide a search query that is used to filter items based on presence of the query in title of the item."
   ]
  },
  {
   "cell_type": "code",
   "execution_count": null,
   "metadata": {},
   "outputs": [],
   "source": [
    "school_content = dc.search(query='school')\n",
    "len(school_content)"
   ]
  },
  {
   "cell_type": "markdown",
   "metadata": {},
   "source": [
    "Let's take a look at 10 of these items"
   ]
  },
  {
   "cell_type": "code",
   "execution_count": null,
   "metadata": {},
   "outputs": [],
   "source": [
    "school_content[:10]"
   ]
  },
  {
   "cell_type": "markdown",
   "metadata": {},
   "source": [
    "### Filter content by `item_type`\n",
    "\n",
    "This parameter filters content based on `type` of the item"
   ]
  },
  {
   "cell_type": "code",
   "execution_count": null,
   "metadata": {},
   "outputs": [],
   "source": [
    "datasets = dc.search(item_type='Feature Service')\n",
    "len(datasets)"
   ]
  },
  {
   "cell_type": "markdown",
   "metadata": {},
   "source": [
    "Let's take a look at the first 10 `Feature Service` items"
   ]
  },
  {
   "cell_type": "code",
   "execution_count": null,
   "metadata": {},
   "outputs": [],
   "source": [
    "datasets[:10]"
   ]
  },
  {
   "cell_type": "markdown",
   "metadata": {},
   "source": [
    "Tip: To see the extent of the item types in your site content, you can execute the following snippet"
   ]
  },
  {
   "cell_type": "code",
   "execution_count": null,
   "metadata": {},
   "outputs": [],
   "source": [
    "types = [item.type for item in content]\n",
    "set(types)"
   ]
  },
  {
   "cell_type": "markdown",
   "metadata": {},
   "source": [
    "### Fitler by `query` and `item_type`\n",
    "\n",
    "In this example we provide values for both parameters and verify results"
   ]
  },
  {
   "cell_type": "code",
   "execution_count": null,
   "metadata": {},
   "outputs": [],
   "source": [
    "filtered_content = dc.search(query='water', item_type='Web Mapping Application')\n",
    "len(filtered_content)"
   ]
  },
  {
   "cell_type": "code",
   "execution_count": null,
   "metadata": {},
   "outputs": [],
   "source": [
    "filtered_content"
   ]
  },
  {
   "cell_type": "code",
   "execution_count": null,
   "metadata": {},
   "outputs": [],
   "source": []
  }
 ],
 "metadata": {
  "kernelspec": {
   "display_name": "Python 3 (ipykernel)",
   "language": "python",
   "name": "python3"
  },
  "language_info": {
   "codemirror_mode": {
    "name": "ipython",
    "version": 3
   },
   "file_extension": ".py",
   "mimetype": "text/x-python",
   "name": "python",
   "nbconvert_exporter": "python",
   "pygments_lexer": "ipython3",
   "version": "3.9.6"
  }
 },
 "nbformat": 4,
 "nbformat_minor": 2
}
