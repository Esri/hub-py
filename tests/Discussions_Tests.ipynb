{
 "cells": [
  {
   "cell_type": "code",
   "execution_count": 72,
   "id": "600b474e",
   "metadata": {},
   "outputs": [],
   "source": [
    "from arcgishub import hub\n",
    "from arcgishub.discussions import Channel, Post\n",
    "import unittest"
   ]
  },
  {
   "cell_type": "code",
   "execution_count": 88,
   "id": "12ac3780",
   "metadata": {},
   "outputs": [],
   "source": [
    "# this will be used throughout the file to run assertions for string checking\n",
    "tc = unittest.TestCase()"
   ]
  },
  {
   "cell_type": "markdown",
   "id": "5f1ae928",
   "metadata": {},
   "source": [
    "### Connect To Hub \n",
    "This will help get the discussions related to a specific Hub and the posts/channels that the authenticated user is allowed to see. "
   ]
  },
  {
   "cell_type": "code",
   "execution_count": 52,
   "id": "84e1ab21",
   "metadata": {},
   "outputs": [],
   "source": [
    "my_hub = hub.Hub(url='https://prod-pre-hub.maps.arcgis.com', username='prod_pre_hub_admin', password='prod1hubtest')"
   ]
  },
  {
   "cell_type": "markdown",
   "id": "d5d84933",
   "metadata": {},
   "source": [
    "### Testing Channels\n",
    "Let's try to test all the functionalities of Channels"
   ]
  },
  {
   "cell_type": "markdown",
   "id": "0ed5eda9",
   "metadata": {},
   "source": [
    "#### get all channels"
   ]
  },
  {
   "cell_type": "code",
   "execution_count": 53,
   "id": "d9c8b0e3",
   "metadata": {},
   "outputs": [
    {
     "data": {
      "text/plain": [
       "[<channel_id:2b3709f2d7884e1aab1972be01f5bd68 access:\"private\" groups:['2b3709f2d7884e1aab1972be01f5bd68'] creator:qa_pre_hub_admin>,\n",
       " <channel_id:3603f8101f5e4c229ce67cf0a3e160ce access:\"public\" groups:[] creator:qa_pre_hub_admin>,\n",
       " <channel_id:14b07b3ae4e54d8eb2533216fe4484c5 access:\"org\" groups:[] creator:qa_pre_hub_admin>]"
      ]
     },
     "execution_count": 53,
     "metadata": {},
     "output_type": "execute_result"
    }
   ],
   "source": [
    "all_channels = my_hub.discussions.channels.search()\n",
    "all_channels"
   ]
  },
  {
   "cell_type": "code",
   "execution_count": 90,
   "id": "b311c252",
   "metadata": {},
   "outputs": [],
   "source": [
    "assert isinstance(all_channels, list)"
   ]
  },
  {
   "cell_type": "markdown",
   "id": "7bd1e631",
   "metadata": {},
   "source": [
    "#### get channel using ID\n",
    "Let's grab the first post from the list of all posts. Let's retrieve the ID from that and try to retrieve the post by using the ID."
   ]
  },
  {
   "cell_type": "code",
   "execution_count": 55,
   "id": "e6c04889",
   "metadata": {},
   "outputs": [
    {
     "data": {
      "text/plain": [
       "'2b3709f2d7884e1aab1972be01f5bd68'"
      ]
     },
     "execution_count": 55,
     "metadata": {},
     "output_type": "execute_result"
    }
   ],
   "source": [
    "first_channel = my_hub.discussions.channels.search()[0]\n",
    "channel_id = first_channel.id\n",
    "channel_id"
   ]
  },
  {
   "cell_type": "code",
   "execution_count": 56,
   "id": "2f0e4266",
   "metadata": {},
   "outputs": [
    {
     "data": {
      "text/plain": [
       "<channel_id:2b3709f2d7884e1aab1972be01f5bd68 access:\"private\" groups:['2b3709f2d7884e1aab1972be01f5bd68'] creator:qa_pre_hub_admin>"
      ]
     },
     "execution_count": 56,
     "metadata": {},
     "output_type": "execute_result"
    }
   ],
   "source": [
    "retrieved_channel = my_hub.discussions.channels.get(channel_id)\n",
    "retrieved_channel"
   ]
  },
  {
   "cell_type": "code",
   "execution_count": 57,
   "id": "fc73928d",
   "metadata": {},
   "outputs": [],
   "source": [
    "assert isinstance(retrieved_channel, Channel)"
   ]
  },
  {
   "cell_type": "markdown",
   "id": "f6b56f2a",
   "metadata": {},
   "source": [
    "#### creating a new channel\n",
    "We need to pass in a set of properties to a channel in order for it to be created."
   ]
  },
  {
   "cell_type": "code",
   "execution_count": 65,
   "id": "f70ee230",
   "metadata": {},
   "outputs": [
    {
     "data": {
      "text/plain": [
       "<channel_id:9eec7e315ec34ecfb0e5a5c4c68bbe5e access:\"org\" groups:[] creator:qa_pre_hub_admin>"
      ]
     },
     "execution_count": 65,
     "metadata": {},
     "output_type": "execute_result"
    }
   ],
   "source": [
    "channel_properties = {\n",
    "    \"access\": \"org\",\n",
    "    \"groups\": [\"T5cZDlfUaBpDnk6P\"]\n",
    "}\n",
    "new_channel = my_hub.discussions.channels.add(channel_properties)\n",
    "new_channel_id = new_channel.id\n",
    "new_channel"
   ]
  },
  {
   "cell_type": "code",
   "execution_count": 66,
   "id": "37ba8c74",
   "metadata": {},
   "outputs": [],
   "source": [
    "assert isinstance(new_channel, Channel)"
   ]
  },
  {
   "cell_type": "markdown",
   "id": "1fec320e",
   "metadata": {},
   "source": [
    "#### getting the new channel's different properties"
   ]
  },
  {
   "cell_type": "code",
   "execution_count": 60,
   "id": "08ce9f37",
   "metadata": {},
   "outputs": [
    {
     "data": {
      "text/plain": [
       "'b49605312bc548ecb3207bcf032d0c86'"
      ]
     },
     "execution_count": 60,
     "metadata": {},
     "output_type": "execute_result"
    }
   ],
   "source": [
    "new_channel.id"
   ]
  },
  {
   "cell_type": "code",
   "execution_count": 62,
   "id": "aba71aed",
   "metadata": {},
   "outputs": [
    {
     "data": {
      "text/plain": [
       "True"
      ]
     },
     "execution_count": 62,
     "metadata": {},
     "output_type": "execute_result"
    }
   ],
   "source": [
    "new_channel.allowReply"
   ]
  },
  {
   "cell_type": "code",
   "execution_count": 16,
   "id": "d9e8f038",
   "metadata": {},
   "outputs": [
    {
     "data": {
      "text/plain": [
       "False"
      ]
     },
     "execution_count": 16,
     "metadata": {},
     "output_type": "execute_result"
    }
   ],
   "source": [
    "new_channel.allowAnonymous"
   ]
  },
  {
   "cell_type": "code",
   "execution_count": 17,
   "id": "54c2221b",
   "metadata": {},
   "outputs": [
    {
     "data": {
      "text/plain": [
       "True"
      ]
     },
     "execution_count": 17,
     "metadata": {},
     "output_type": "execute_result"
    }
   ],
   "source": [
    "new_channel.softDelete"
   ]
  },
  {
   "cell_type": "code",
   "execution_count": 18,
   "id": "6d17203c",
   "metadata": {},
   "outputs": [
    {
     "data": {
      "text/plain": [
       "'approved'"
      ]
     },
     "execution_count": 18,
     "metadata": {},
     "output_type": "execute_result"
    }
   ],
   "source": [
    "new_channel.defaultPostStatus"
   ]
  },
  {
   "cell_type": "code",
   "execution_count": 87,
   "id": "4753a80e",
   "metadata": {},
   "outputs": [],
   "source": [
    "tc.assertEqual(new_channel.defaultPostStatus, 'approved')"
   ]
  },
  {
   "cell_type": "code",
   "execution_count": 19,
   "id": "95b94ce1",
   "metadata": {},
   "outputs": [
    {
     "data": {
      "text/plain": [
       "True"
      ]
     },
     "execution_count": 19,
     "metadata": {},
     "output_type": "execute_result"
    }
   ],
   "source": [
    "new_channel.allowReaction"
   ]
  },
  {
   "cell_type": "code",
   "execution_count": 20,
   "id": "712797b2",
   "metadata": {},
   "outputs": [
    {
     "data": {
      "text/plain": [
       "('org', ['T5cZDlfUaBpDnk6P'])"
      ]
     },
     "execution_count": 20,
     "metadata": {},
     "output_type": "execute_result"
    }
   ],
   "source": [
    "new_channel.access, new_channel.orgs"
   ]
  },
  {
   "cell_type": "code",
   "execution_count": 91,
   "id": "006b172d",
   "metadata": {},
   "outputs": [],
   "source": [
    "tc.assertEqual(new_channel.access, 'org')"
   ]
  },
  {
   "cell_type": "code",
   "execution_count": 92,
   "id": "9fceb7c2",
   "metadata": {},
   "outputs": [],
   "source": [
    "tc.assertEqual(new_channel.orgs, ['T5cZDlfUaBpDnk6P'])"
   ]
  },
  {
   "cell_type": "code",
   "execution_count": 21,
   "id": "1278bb67",
   "metadata": {},
   "outputs": [
    {
     "data": {
      "text/plain": [
       "[]"
      ]
     },
     "execution_count": 21,
     "metadata": {},
     "output_type": "execute_result"
    }
   ],
   "source": [
    "new_channel.groups"
   ]
  },
  {
   "cell_type": "code",
   "execution_count": 93,
   "id": "62c195d5",
   "metadata": {},
   "outputs": [
    {
     "data": {
      "text/plain": [
       "('qa_pre_hub_admin', 'qa_pre_hub_admin')"
      ]
     },
     "execution_count": 93,
     "metadata": {},
     "output_type": "execute_result"
    }
   ],
   "source": [
    "new_channel.creator, new_channel.editor"
   ]
  },
  {
   "cell_type": "code",
   "execution_count": 23,
   "id": "0dbbdf6f",
   "metadata": {},
   "outputs": [
    {
     "data": {
      "text/plain": [
       "('2021-10-15T15:24:26.511Z', '2021-10-15T15:24:26.511Z')"
      ]
     },
     "execution_count": 23,
     "metadata": {},
     "output_type": "execute_result"
    }
   ],
   "source": [
    "new_channel.created, new_channel.updated"
   ]
  },
  {
   "cell_type": "markdown",
   "id": "e3ef2dc6",
   "metadata": {},
   "source": [
    "#### updating channel"
   ]
  },
  {
   "cell_type": "code",
   "execution_count": 24,
   "id": "69c5310d",
   "metadata": {},
   "outputs": [
    {
     "data": {
      "text/plain": [
       "<channel_id:b49605312bc548ecb3207bcf032d0c86 access:\"org\" groups:[] creator:qa_pre_hub_admin>"
      ]
     },
     "execution_count": 24,
     "metadata": {},
     "output_type": "execute_result"
    }
   ],
   "source": [
    "updated_channel = new_channel.update(allowReply=True, allowedReactions=[\"thumbs_up\"])\n",
    "updated_channel"
   ]
  },
  {
   "cell_type": "code",
   "execution_count": 25,
   "id": "a7d08e78",
   "metadata": {},
   "outputs": [],
   "source": [
    "assert isinstance(updated_channel, Channel)"
   ]
  },
  {
   "cell_type": "markdown",
   "id": "7c20527d",
   "metadata": {},
   "source": [
    "#### delete the channel we just created"
   ]
  },
  {
   "cell_type": "code",
   "execution_count": 26,
   "id": "7a99490d",
   "metadata": {},
   "outputs": [
    {
     "data": {
      "text/plain": [
       "True"
      ]
     },
     "execution_count": 26,
     "metadata": {},
     "output_type": "execute_result"
    }
   ],
   "source": [
    "deleted = new_channel.delete()\n",
    "deleted"
   ]
  },
  {
   "cell_type": "code",
   "execution_count": 27,
   "id": "06f4ce60",
   "metadata": {},
   "outputs": [],
   "source": [
    "assert isinstance(deleted, bool)"
   ]
  },
  {
   "cell_type": "markdown",
   "id": "89dea609",
   "metadata": {},
   "source": [
    "### Testing Post Functions\n",
    "Let's try to test all the functionalities of Posts"
   ]
  },
  {
   "cell_type": "markdown",
   "id": "c3db83f5",
   "metadata": {},
   "source": [
    "#### get all posts"
   ]
  },
  {
   "cell_type": "code",
   "execution_count": 29,
   "id": "62cb5ec9",
   "metadata": {},
   "outputs": [
    {
     "data": {
      "text/plain": [
       "[<title:\"main title\" creator:qa_pre_hub_admin created:2021-10-15T15:15:49.742Z>]"
      ]
     },
     "execution_count": 29,
     "metadata": {},
     "output_type": "execute_result"
    }
   ],
   "source": [
    "all_posts = my_hub.discussions.posts.search()\n",
    "all_posts"
   ]
  },
  {
   "cell_type": "code",
   "execution_count": 30,
   "id": "266f3456",
   "metadata": {},
   "outputs": [],
   "source": [
    "assert isinstance(all_posts, list)"
   ]
  },
  {
   "cell_type": "markdown",
   "id": "ef32f6aa",
   "metadata": {},
   "source": [
    "#### get post by id"
   ]
  },
  {
   "cell_type": "code",
   "execution_count": 31,
   "id": "b6698bd0",
   "metadata": {},
   "outputs": [
    {
     "data": {
      "text/plain": [
       "'a6d407f6660b4bdba0760662c771d3b0'"
      ]
     },
     "execution_count": 31,
     "metadata": {},
     "output_type": "execute_result"
    }
   ],
   "source": [
    "first_post = my_hub.discussions.posts.search()[0]\n",
    "post_id = first_post.id\n",
    "post_id"
   ]
  },
  {
   "cell_type": "code",
   "execution_count": 33,
   "id": "5a42ddae",
   "metadata": {},
   "outputs": [
    {
     "data": {
      "text/plain": [
       "<title:\"main title\" creator:qa_pre_hub_admin created:2021-10-15T15:15:49.742Z>"
      ]
     },
     "execution_count": 33,
     "metadata": {},
     "output_type": "execute_result"
    }
   ],
   "source": [
    "retrieved_post = my_hub.discussions.posts.get(post_id)\n",
    "retrieved_post"
   ]
  },
  {
   "cell_type": "code",
   "execution_count": 34,
   "id": "60531e2c",
   "metadata": {},
   "outputs": [],
   "source": [
    "assert isinstance(retrieved_post, Post)"
   ]
  },
  {
   "cell_type": "markdown",
   "id": "3bf08dd6",
   "metadata": {},
   "source": [
    "#### creating a new post\n",
    "We need to pass in a set of properties to a post in order for it to be created."
   ]
  },
  {
   "cell_type": "code",
   "execution_count": 35,
   "id": "ccd867cb",
   "metadata": {},
   "outputs": [
    {
     "data": {
      "text/plain": [
       "<title:\"this is my initial title\" creator:qa_pre_hub_admin created:2021-10-15T15:30:14.276Z>"
      ]
     },
     "execution_count": 35,
     "metadata": {},
     "output_type": "execute_result"
    }
   ],
   "source": [
    "post_properties = {   \n",
    "    \"channelId\": \"2b3709f2d7884e1aab1972be01f5bd68\",\n",
    "    \"discussion\": \"hub://item/uuid\",\n",
    "    \"body\": \"python-module-testing\",\n",
    "    \"title\": \"this is my initial title\"\n",
    "}\n",
    "new_post = my_hub.discussions.posts.add(post_properties)\n",
    "new_post_id = new_post.id\n",
    "new_post"
   ]
  },
  {
   "cell_type": "code",
   "execution_count": 36,
   "id": "48e1df11",
   "metadata": {},
   "outputs": [],
   "source": [
    "assert isinstance(new_post, Post)"
   ]
  },
  {
   "cell_type": "markdown",
   "id": "c9eb0243",
   "metadata": {},
   "source": [
    "#### getting the new channel's different properties"
   ]
  },
  {
   "cell_type": "code",
   "execution_count": 94,
   "id": "beec598a",
   "metadata": {},
   "outputs": [
    {
     "data": {
      "text/plain": [
       "('ed82cc4c9ff84b2ea24fb447ea06868c', '2b3709f2d7884e1aab1972be01f5bd68')"
      ]
     },
     "execution_count": 94,
     "metadata": {},
     "output_type": "execute_result"
    }
   ],
   "source": [
    "new_post.id, new_post.channelId"
   ]
  },
  {
   "cell_type": "code",
   "execution_count": 95,
   "id": "f3b249a8",
   "metadata": {},
   "outputs": [
    {
     "data": {
      "text/plain": [
       "('this is my initial title', 'python-module-testing')"
      ]
     },
     "execution_count": 95,
     "metadata": {},
     "output_type": "execute_result"
    }
   ],
   "source": [
    "new_post.title, new_post.body"
   ]
  },
  {
   "cell_type": "code",
   "execution_count": 96,
   "id": "fb16b516",
   "metadata": {},
   "outputs": [],
   "source": [
    "tc.assertEqual(new_post.title, 'this is my initial title')"
   ]
  },
  {
   "cell_type": "code",
   "execution_count": 97,
   "id": "deb6b9d6",
   "metadata": {},
   "outputs": [],
   "source": [
    "tc.assertEqual(new_post.body, 'python-module-testing')"
   ]
  },
  {
   "cell_type": "code",
   "execution_count": 39,
   "id": "e3341a9a",
   "metadata": {},
   "outputs": [
    {
     "data": {
      "text/plain": [
       "'hub://item/uuid'"
      ]
     },
     "execution_count": 39,
     "metadata": {},
     "output_type": "execute_result"
    }
   ],
   "source": [
    "new_post.discussion"
   ]
  },
  {
   "cell_type": "code",
   "execution_count": 98,
   "id": "79e79205",
   "metadata": {},
   "outputs": [],
   "source": [
    "tc.assertEqual(new_post.discussion, 'hub://item/uuid')"
   ]
  },
  {
   "cell_type": "code",
   "execution_count": 40,
   "id": "06fa7873",
   "metadata": {},
   "outputs": [
    {
     "data": {
      "text/plain": [
       "('qa_pre_hub_admin', 'qa_pre_hub_admin')"
      ]
     },
     "execution_count": 40,
     "metadata": {},
     "output_type": "execute_result"
    }
   ],
   "source": [
    "new_post.creator, new_post.editor"
   ]
  },
  {
   "cell_type": "code",
   "execution_count": 41,
   "id": "604f4bf1",
   "metadata": {},
   "outputs": [
    {
     "data": {
      "text/plain": [
       "('2021-10-15T15:30:14.276Z', '2021-10-15T15:30:14.276Z')"
      ]
     },
     "execution_count": 41,
     "metadata": {},
     "output_type": "execute_result"
    }
   ],
   "source": [
    "new_post.created, new_post.updated"
   ]
  },
  {
   "cell_type": "code",
   "execution_count": 42,
   "id": "449f4394",
   "metadata": {},
   "outputs": [],
   "source": [
    "# only has value if it is a reply post\n",
    "new_post.parentId"
   ]
  },
  {
   "cell_type": "markdown",
   "id": "ffe73e6a",
   "metadata": {},
   "source": [
    "#### updating post"
   ]
  },
  {
   "cell_type": "code",
   "execution_count": 43,
   "id": "35a43d77",
   "metadata": {},
   "outputs": [
    {
     "data": {
      "text/plain": [
       "<title:\"my updated title\" creator:qa_pre_hub_admin created:2021-10-15T15:30:14.276Z>"
      ]
     },
     "execution_count": 43,
     "metadata": {},
     "output_type": "execute_result"
    }
   ],
   "source": [
    "updated_post = new_post.update(title='my updated title')\n",
    "updated_post"
   ]
  },
  {
   "cell_type": "code",
   "execution_count": 44,
   "id": "462108ac",
   "metadata": {},
   "outputs": [],
   "source": [
    "assert isinstance(updated_post, Post)"
   ]
  },
  {
   "cell_type": "markdown",
   "id": "7aa1f13a",
   "metadata": {},
   "source": [
    "### adding reaction to post"
   ]
  },
  {
   "cell_type": "code",
   "execution_count": 45,
   "id": "b53e7551",
   "metadata": {},
   "outputs": [
    {
     "data": {
      "text/plain": [
       "True"
      ]
     },
     "execution_count": 45,
     "metadata": {},
     "output_type": "execute_result"
    }
   ],
   "source": [
    "addReaction = updated_post.add_reaction(\"thumbs_up\")\n",
    "addReaction"
   ]
  },
  {
   "cell_type": "code",
   "execution_count": 46,
   "id": "1b69e87d",
   "metadata": {},
   "outputs": [],
   "source": [
    "assert isinstance(addReaction, bool)"
   ]
  },
  {
   "cell_type": "markdown",
   "id": "5a26c53f",
   "metadata": {},
   "source": [
    "#### delete a post"
   ]
  },
  {
   "cell_type": "code",
   "execution_count": 47,
   "id": "1b5c5c5e",
   "metadata": {},
   "outputs": [],
   "source": [
    "delete = updated_post.delete()"
   ]
  },
  {
   "cell_type": "code",
   "execution_count": 48,
   "id": "54cb3f18",
   "metadata": {},
   "outputs": [],
   "source": [
    "assert isinstance(delete, bool)"
   ]
  },
  {
   "cell_type": "code",
   "execution_count": null,
   "id": "ad91e651",
   "metadata": {},
   "outputs": [],
   "source": []
  }
 ],
 "metadata": {
  "kernelspec": {
   "display_name": "Python 3",
   "language": "python",
   "name": "python3"
  },
  "language_info": {
   "codemirror_mode": {
    "name": "ipython",
    "version": 3
   },
   "file_extension": ".py",
   "mimetype": "text/x-python",
   "name": "python",
   "nbconvert_exporter": "python",
   "pygments_lexer": "ipython3",
   "version": "3.8.8"
  }
 },
 "nbformat": 4,
 "nbformat_minor": 5
}
